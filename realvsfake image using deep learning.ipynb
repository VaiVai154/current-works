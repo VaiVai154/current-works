{
 "cells": [
  {
   "cell_type": "code",
   "execution_count": null,
   "metadata": {
    "id": "Ujml0gvAgkGn"
   },
   "outputs": [],
   "source": [
    "import tensorflow as tf\n",
    "from tensorflow import keras\n",
    "from tensorflow.keras.models import Sequential\n",
    "from tensorflow.keras.layers import Dense, Conv2D, MaxPooling2D, Flatten\n",
    "import numpy as np\n",
    "import matplotlib.pyplot as plt \n",
    "import pandas as pd\n",
    "import sklearn\n",
    "import keras\n",
    "from keras.models import *\n",
    "from keras.layers import *\n",
    "from keras.optimizers import *\n",
    "from keras.callbacks import *\n",
    "from tensorflow.keras.applications import *\n",
    "from keras.preprocessing.image import ImageDataGenerator\n",
    "import seaborn as sns               \n",
    "import glob, warnings\n",
    "from sklearn.metrics import confusion_matrix, classification_report\n",
    "warnings.filterwarnings('ignore')"
   ]
  },
  {
   "cell_type": "code",
   "execution_count": null,
   "metadata": {
    "id": "_fiIocW3aSg6"
   },
   "outputs": [],
   "source": [
    "from google.colab import drive\n",
    "drive.mount('/content/drive')\n"
   ]
  },
  {
   "cell_type": "code",
   "execution_count": null,
   "metadata": {
    "id": "QeDeCN-mgkGq"
   },
   "outputs": [],
   "source": [
    "traindf=pd.read_csv('/content/drive/MyDrive/Deepl learning hackathon/train_(4).csv', dtype='str')\n",
    "traindf.head()"
   ]
  },
  {
   "cell_type": "code",
   "execution_count": null,
   "metadata": {
    "id": "ePiGLEPFhFnO"
   },
   "outputs": [],
   "source": [
    "traindf['file_id'] = traindf['file_id'] + '.jpg'\n",
    "traindf.head()"
   ]
  },
  {
   "cell_type": "code",
   "execution_count": null,
   "metadata": {
    "id": "WV4c59VegkGu"
   },
   "outputs": [],
   "source": [
    "count = traindf['label'].value_counts() \n",
    "print(count) "
   ]
  },
  {
   "cell_type": "code",
   "execution_count": null,
   "metadata": {
    "id": "b64tmPgYgkGv"
   },
   "outputs": [],
   "source": [
    "train_path = '/content/drive/MyDrive/Deepl learning hackathon/all'\n",
    "test_path = '/content/drive/MyDrive/Deepl learning hackathon/test_(3).csv'"
   ]
  },
  {
   "cell_type": "code",
   "execution_count": null,
   "metadata": {
    "id": "vstc_nv5gkG0"
   },
   "outputs": [],
   "source": [
    "from sklearn.model_selection import train_test_split\n",
    "train, test = train_test_split(traindf, test_size = 0.1, random_state = 42)\n",
    "print(train.shape)\n",
    "print(test.shape)"
   ]
  },
  {
   "cell_type": "code",
   "execution_count": null,
   "metadata": {
    "id": "xjFUl-lDgkG2"
   },
   "outputs": [],
   "source": [
    "datagen_train = ImageDataGenerator(\n",
    "    rescale=1/244)\n",
    "\n",
    "\n",
    "datagen_val = ImageDataGenerator(\n",
    "      rescale=1/244)"
   ]
  },
  {
   "cell_type": "code",
   "execution_count": null,
   "metadata": {
    "id": "HtMzFb-JgkG4"
   },
   "outputs": [],
   "source": [
    "train_set = datagen_train.flow_from_dataframe(\n",
    "    train,\n",
    "    directory=train_path,\n",
    "    seed=42,\n",
    "    x_col='file_id',\n",
    "    y_col=\"label\",\n",
    "    target_size = (300,300),\n",
    "    class_mode='categorical',\n",
    "    color_mode = 'rgb',\n",
    "    shuffle = True,\n",
    "    batch_size = 32,\n",
    ")\n",
    "test_set = datagen_val.flow_from_dataframe(\n",
    "    test,\n",
    "    directory=train_path,\n",
    "    seed= 42,\n",
    "    x_col='file_id',\n",
    "    y_col=\"label\",\n",
    "    target_size = (300,300),\n",
    "    color_mode = 'rgb',\n",
    "    class_mode='categorical',\n",
    "    shuffle=False,\n",
    "    batch_size= 32,    \n",
    ")\n",
    "\n"
   ]
  },
  {
   "cell_type": "code",
   "execution_count": null,
   "metadata": {
    "id": "gqzcnF2SgkG5"
   },
   "outputs": [],
   "source": [
    "IMG_SIZE = 300\n",
    "n_CLASS = 2\n",
    "\n",
    "pretrained_model =  tf.keras.applications.inception_v3.InceptionV3(\n",
    "            input_shape = (IMG_SIZE, IMG_SIZE, 3), \n",
    "            include_top = False,\n",
    "            weights='imagenet',\n",
    "        )\n",
    "def create_model():\n",
    "    \n",
    "    model = Sequential()\n",
    "    # initialize the model with input shape\n",
    "    model.add(pretrained_model)\n",
    "    model.add(Flatten())\n",
    "    model.add(Dense(\n",
    "        300, \n",
    "        activation= 'relu'\n",
    "    ))\n",
    "    model.add(Dense(30, activation = 'relu'))\n",
    "    model.add(Dropout(0.4))\n",
    "    model.add(Dense(n_CLASS, activation = 'softmax'))\n",
    "    \n",
    "    return model\n",
    "fake_model = create_model()"
   ]
  },
  {
   "cell_type": "code",
   "execution_count": null,
   "metadata": {
    "id": "uiJkWYpngkG7"
   },
   "outputs": [],
   "source": [
    "fake_model.summary()"
   ]
  },
  {
   "cell_type": "code",
   "execution_count": null,
   "metadata": {
    "id": "c3d8YmMqgkG8"
   },
   "outputs": [],
   "source": [
    "tf.keras.utils.plot_model(fake_model)"
   ]
  },
  {
   "cell_type": "code",
   "execution_count": null,
   "metadata": {
    "id": "k50L28kpgkG9"
   },
   "outputs": [],
   "source": [
    "learning_rate = 1e-3\n",
    "optimizer = tf.keras.optimizers.Adam(learning_rate = learning_rate)\n",
    "\n",
    "fake_model.compile(optimizer = optimizer, \n",
    "              loss = tf.keras.losses.CategoricalCrossentropy(), \n",
    "              metrics = 'accuracy')"
   ]
  },
  {
   "cell_type": "code",
   "execution_count": null,
   "metadata": {
    "id": "vED_n4eNgkG_"
   },
   "outputs": [],
   "source": [
    "int_epoch = 15\n",
    "history = fake_model.fit(x = train_set,\n",
    "          validation_data = test_set,\n",
    "          epochs = int_epoch)    "
   ]
  },
  {
   "cell_type": "code",
   "execution_count": null,
   "metadata": {
    "id": "gpxkV87FgkHB"
   },
   "outputs": [],
   "source": [
    "def load_trained_model(weights_path):\n",
    "   model = create_model()\n",
    "   model.load_weights(weights_path)\n",
    "   return model"
   ]
  },
  {
   "cell_type": "code",
   "execution_count": null,
   "metadata": {
    "id": "XgKti9tCgkHB"
   },
   "outputs": [],
   "source": [
    "new_model = load_trained_model('./fake1.hdf5')\n",
    "new_model.summary()"
   ]
  },
  {
   "cell_type": "code",
   "execution_count": null,
   "metadata": {
    "id": "juT6GuKtzmD4"
   },
   "outputs": [],
   "source": [
    "main_test_path = '/content/drive/MyDrive/Deepl learning hackathon/test_(3).csv'\n",
    "main_test_images = '/content/drive/MyDrive/Deepl learning hackathon/test-20211014T110228Z-001'"
   ]
  },
  {
   "cell_type": "code",
   "execution_count": null,
   "metadata": {
    "id": "32lsxpuR0Pz6"
   },
   "outputs": [],
   "source": [
    "test_img=pd.read_csv(main_test_path,dtype='str')\n",
    "test_img['file_id']=test_img['file_id']+'.jpg'\n",
    "test_img.head(2)"
   ]
  },
  {
   "cell_type": "code",
   "execution_count": null,
   "metadata": {
    "id": "O_q1BOc8MJf8"
   },
   "outputs": [],
   "source": [
    "aa='/content/drive/MyDrive/Deepl learning hackathon/test-20211014T110228Z-001/test'"
   ]
  },
  {
   "cell_type": "code",
   "execution_count": null,
   "metadata": {
    "id": "8920AyTRziQ3"
   },
   "outputs": [],
   "source": [
    "main_test = datagen_val.flow_from_dataframe(\n",
    "    test_img,\n",
    "    directory=aa,\n",
    "    seed= 42,\n",
    "    x_col='file_id',\n",
    "    y_col=None,\n",
    "    target_size = (300,300),\n",
    "    color_mode = 'rgb',\n",
    "    class_mode=None,\n",
    "    shuffle=False,\n",
    "    batch_size= 32,    \n",
    ")\n"
   ]
  },
  {
   "cell_type": "code",
   "execution_count": null,
   "metadata": {
    "id": "9pckmV9EgkHD"
   },
   "outputs": [],
   "source": [
    "y_pred = new_model.predict(main_test)"
   ]
  },
  {
   "cell_type": "code",
   "execution_count": null,
   "metadata": {
    "id": "Njr8lE8VgkHD"
   },
   "outputs": [],
   "source": [
    "y_predargmax = tf.argmax(y_pred , 1)\n",
    "print(y_predargmax)"
   ]
  },
  {
   "cell_type": "code",
   "execution_count": null,
   "metadata": {
    "id": "fCswJkKO1HvG"
   },
   "outputs": [],
   "source": [
    "sub=pd.read_csv(main_test_path,dtype='str')\n",
    "sub['label']=y_predargmax\n",
    "sub.to_csv('result3.csv',index=False)"
   ]
  }
 ],
 "metadata": {
  "colab": {
   "collapsed_sections": [],
   "name": "inceptionnet.ipynb",
   "provenance": []
  },
  "kernelspec": {
   "display_name": "Python 3",
   "language": "python",
   "name": "python3"
  },
  "language_info": {
   "codemirror_mode": {
    "name": "ipython",
    "version": 3
   },
   "file_extension": ".py",
   "mimetype": "text/x-python",
   "name": "python",
   "nbconvert_exporter": "python",
   "pygments_lexer": "ipython3",
   "version": "3.8.3"
  }
 },
 "nbformat": 4,
 "nbformat_minor": 1
}
