{
 "cells": [
  {
   "cell_type": "markdown",
   "metadata": {},
   "source": [
    "<img src=\"amazon.png\">"
   ]
  },
  {
   "cell_type": "markdown",
   "metadata": {},
   "source": [
    "# Problem Statement "
   ]
  },
  {
   "cell_type": "markdown",
   "metadata": {},
   "source": [
    "Everyday a million products are being recommended to users based on popularity and other metrics on e-commerce \n",
    "websites. The most popular e-commerce website boosts average order value by 50%, increases revenues by 300%, \n",
    "and improves conversion. In addition to being a powerful tool for increasing revenues, product recommendations \n",
    "are so essential that customers now expect to see similar features on all other e-commerce sites. Amazon is \n",
    "referred to as \"one of the most influential economic and cultural forces in the world\", as well as the world's most valuable \n",
    "brand. Our objective is to make a recommendation system that recommends new products based on user’s habits."
   ]
  },
  {
   "cell_type": "markdown",
   "metadata": {},
   "source": [
    "# Data Definition"
   ]
  },
  {
   "cell_type": "markdown",
   "metadata": {},
   "source": [
    "**ID :**\n",
    "Product ID.\n",
    "    \n",
    "**Brand :**\n",
    "Name of the Brand to which the product belongs.\n",
    "    \n",
    "**Categories :**\n",
    "Category of the product.\n",
    "    \n",
    "**dateAdded :**\n",
    "Date on which the product was added.\n",
    "    \n",
    "**dateUpdated :**\n",
    "Date on which the product was updated.\n",
    "    \n",
    "**Manufacturer :**\n",
    "Name of the manufacturer of the product.\n",
    "    \n",
    "**Manufacturer Number :**\n",
    "Number given to the product by the manufacturer.\n",
    "    \n",
    "**Name :**\n",
    "Name of the product.\n",
    "    \n",
    "**reviews.numHelpful :**\n",
    "Number of helpful reviews for the product.\n",
    "    \n",
    "**reviews.rating :**\n",
    "Rating for the product on each review.\n",
    "    \n",
    "**reviews.text :**\n",
    "Informative Review on the product.\n",
    "    \n",
    "**reviews.title :**\n",
    "Title for each review on the product.\n",
    "    \n",
    "**reviews.username :**\n",
    "Username of person posting the review."
   ]
  },
  {
   "cell_type": "markdown",
   "metadata": {},
   "source": [
    "# Table of Contents\n",
    "\n",
    "1. **[Import The Required Libraries](#import_lib)** \n",
    "2. **[Set Options](#set)** \n",
    "3. **[Read The Data](#RD)** \n",
    "4. **[Exploratory Data Analysis](#eda)**\n",
    "    - 4.1 - [Preparing the Dataset](#dp)\n",
    "        - 4.1.1 - [Data Dimension](#Data_Shape)\n",
    "        - 4.1.2 - [Data Types](#Data_Types)\n",
    "        - 4.1.3 - [Drop Duplicates](#DD)\n",
    "        - 4.1.4 - [Missing Values](#Missing_Values)\n",
    "5. **[Checking Outliers](#outliers)**\n",
    "    - 5.1 - [Encoding](#Enc)\n",
    "6. **[Clustering](#C)**\n",
    "    - 6.1 - [K-Means Clustering](#KMC)\n",
    "    - 6.2 - [Heirarchical Clustering](#HC)\n",
    "        - 6.2.1 - [Silhouette Score Method](#SSC)\n",
    "        - 6.2.2 - [Cluster Analysis - 1](#CA1)\n",
    "        - 6.2.3 - [Cluster Analysis - 2](#CA2)\n",
    "    - 6.3 - [DBSCAN](#DBSCAN)\n",
    "7. **[Building Recommendation Systems](#BRS)**\n",
    "    - 7.1 - [Popularity Based Recommendation System](#PB)\n",
    "    - 7.2 - [Content Based Recommendation System](#CB)\n",
    "    - 7.3 - [Collaborative Filtering](#CF) \n",
    "    - 7.4 - [Hybrid Recommendation System](#HR)    "
   ]
  },
  {
   "cell_type": "markdown",
   "metadata": {},
   "source": [
    "<a id='import_lib'></a>\n",
    "## 1. Import The Required Libraries"
   ]
  },
  {
   "cell_type": "code",
   "execution_count": 7,
   "metadata": {},
   "outputs": [],
   "source": [
    "# import 'Pandas' \n",
    "import pandas as pd \n",
    "\n",
    "# import 'Numpy' \n",
    "import numpy as np\n",
    "\n",
    "# import subpackage of Matplotlib\n",
    "import matplotlib.pyplot as plt\n",
    "import matplotlib.cm as cm\n",
    "\n",
    "# import 'Seaborn' \n",
    "import seaborn as sns\n",
    "\n",
    "# to suppress warnings \n",
    "from warnings import filterwarnings\n",
    "filterwarnings('ignore')\n",
    " \n",
    "# to display the float values upto 6 decimal places     \n",
    "pd.options.display.float_format = '{:.6f}'.format\n",
    "\n",
    "# import functions to perform scaling and normalization\n",
    "from sklearn.preprocessing import StandardScaler\n",
    "\n",
    "# import various functions from sklearn \n",
    "from sklearn.metrics import silhouette_score, silhouette_samples\n",
    "from sklearn.cluster import KMeans\n",
    "\n",
    "from sklearn.metrics.pairwise import euclidean_distances\n",
    "from sklearn.cluster import KMeans, AgglomerativeClustering, DBSCAN\n",
    "from scipy.cluster.hierarchy import linkage,dendrogram,cophenet\n",
    "\n",
    "from sklearn.neighbors import NearestNeighbors\n",
    "\n",
    "from mlxtend.frequent_patterns import apriori\n",
    "from mlxtend.frequent_patterns import association_rules\n",
    "# set the plot size using 'rcParams'\n",
    "# once the plot size is set using 'rcParams', it sets the size of all the forthcoming plots in the file\n",
    "# pass width and height in inches to 'figure.figsize' \n",
    "plt.rcParams['figure.figsize'] = [15,8]\n",
    "\n",
    "from surprise import Dataset, Reader\n",
    "from surprise.model_selection import train_test_split, cross_validate\n",
    "from surprise import KNNWithMeans,SVDpp\n",
    "from surprise import accuracy\n",
    "\n",
    "%run -i viz_silhouette.py # visualizing silhouette score and cluster"
   ]
  },
  {
   "cell_type": "markdown",
   "metadata": {},
   "source": [
    "<a id='set'></a>\n",
    "## 2. Set Options"
   ]
  },
  {
   "cell_type": "code",
   "execution_count": 15,
   "metadata": {},
   "outputs": [],
   "source": [
    "# display all columns of the dataframe\n",
    "pd.options.display.max_columns = None\n",
    "# display all rows of the dataframe\n",
    "pd.options.display.max_rows = None\n",
    "# return an output value upto 6 decimals\n",
    "pd.options.display.float_format = '{:.6f}'.format"
   ]
  },
  {
   "cell_type": "markdown",
   "metadata": {},
   "source": [
    "<a id='RD'></a>\n",
    "## 3. Read the data"
   ]
  },
  {
   "cell_type": "code",
   "execution_count": 16,
   "metadata": {},
   "outputs": [
    {
     "data": {
      "text/html": [
       "<div>\n",
       "<style scoped>\n",
       "    .dataframe tbody tr th:only-of-type {\n",
       "        vertical-align: middle;\n",
       "    }\n",
       "\n",
       "    .dataframe tbody tr th {\n",
       "        vertical-align: top;\n",
       "    }\n",
       "\n",
       "    .dataframe thead th {\n",
       "        text-align: right;\n",
       "    }\n",
       "</style>\n",
       "<table border=\"1\" class=\"dataframe\">\n",
       "  <thead>\n",
       "    <tr style=\"text-align: right;\">\n",
       "      <th></th>\n",
       "      <th>id</th>\n",
       "      <th>brand</th>\n",
       "      <th>categories</th>\n",
       "      <th>colors</th>\n",
       "      <th>dateAdded</th>\n",
       "      <th>dateUpdated</th>\n",
       "      <th>manufacturer</th>\n",
       "      <th>manufacturerNumber</th>\n",
       "      <th>name</th>\n",
       "      <th>reviews.numHelpful</th>\n",
       "      <th>reviews.rating</th>\n",
       "      <th>reviews.text</th>\n",
       "      <th>reviews.title</th>\n",
       "      <th>reviews.username</th>\n",
       "    </tr>\n",
       "  </thead>\n",
       "  <tbody>\n",
       "    <tr>\n",
       "      <th>0</th>\n",
       "      <td>AVpf3txeLJeJML43FN82</td>\n",
       "      <td>Microsoft</td>\n",
       "      <td>Electronics,Computers,Computer Accessories,Key...</td>\n",
       "      <td>Black</td>\n",
       "      <td>2015-11-13T12:28:09Z</td>\n",
       "      <td>2018-01-29T02:15:13Z</td>\n",
       "      <td>Microsoft</td>\n",
       "      <td>RH7-00001</td>\n",
       "      <td>Microsoft Surface Pro 4 Type Cover with Finger...</td>\n",
       "      <td>2.000000</td>\n",
       "      <td>5.000000</td>\n",
       "      <td>This keyboard is very easy to type on, but the...</td>\n",
       "      <td>Love the fingerprint reader</td>\n",
       "      <td>JNH1</td>\n",
       "    </tr>\n",
       "    <tr>\n",
       "      <th>1</th>\n",
       "      <td>AVpf3txeLJeJML43FN82</td>\n",
       "      <td>Microsoft</td>\n",
       "      <td>Electronics,Computers,Computer Accessories,Key...</td>\n",
       "      <td>Black</td>\n",
       "      <td>2015-11-13T12:28:09Z</td>\n",
       "      <td>2018-01-29T02:15:13Z</td>\n",
       "      <td>Microsoft</td>\n",
       "      <td>RH7-00001</td>\n",
       "      <td>Microsoft Surface Pro 4 Type Cover with Finger...</td>\n",
       "      <td>5.000000</td>\n",
       "      <td>4.000000</td>\n",
       "      <td>It's thin and light. I can type pretty easily ...</td>\n",
       "      <td>Nice</td>\n",
       "      <td>Appa</td>\n",
       "    </tr>\n",
       "    <tr>\n",
       "      <th>2</th>\n",
       "      <td>AVpf3txeLJeJML43FN82</td>\n",
       "      <td>Microsoft</td>\n",
       "      <td>Electronics,Computers,Computer Accessories,Key...</td>\n",
       "      <td>Black</td>\n",
       "      <td>2015-11-13T12:28:09Z</td>\n",
       "      <td>2018-01-29T02:15:13Z</td>\n",
       "      <td>Microsoft</td>\n",
       "      <td>RH7-00001</td>\n",
       "      <td>Microsoft Surface Pro 4 Type Cover with Finger...</td>\n",
       "      <td>3.000000</td>\n",
       "      <td>4.000000</td>\n",
       "      <td>I love the new design the keys are spaced well...</td>\n",
       "      <td>New</td>\n",
       "      <td>Kman</td>\n",
       "    </tr>\n",
       "    <tr>\n",
       "      <th>3</th>\n",
       "      <td>AVpf3txeLJeJML43FN82</td>\n",
       "      <td>Microsoft</td>\n",
       "      <td>Electronics,Computers,Computer Accessories,Key...</td>\n",
       "      <td>Black</td>\n",
       "      <td>2015-11-13T12:28:09Z</td>\n",
       "      <td>2018-01-29T02:15:13Z</td>\n",
       "      <td>Microsoft</td>\n",
       "      <td>RH7-00001</td>\n",
       "      <td>Microsoft Surface Pro 4 Type Cover with Finger...</td>\n",
       "      <td>6.000000</td>\n",
       "      <td>5.000000</td>\n",
       "      <td>Attached easily and firmly. Has a nice feel. A...</td>\n",
       "      <td>Nice keyboard</td>\n",
       "      <td>UpstateNY</td>\n",
       "    </tr>\n",
       "    <tr>\n",
       "      <th>4</th>\n",
       "      <td>AVpf3txeLJeJML43FN82</td>\n",
       "      <td>Microsoft</td>\n",
       "      <td>Electronics,Computers,Computer Accessories,Key...</td>\n",
       "      <td>Black</td>\n",
       "      <td>2015-11-13T12:28:09Z</td>\n",
       "      <td>2018-01-29T02:15:13Z</td>\n",
       "      <td>Microsoft</td>\n",
       "      <td>RH7-00001</td>\n",
       "      <td>Microsoft Surface Pro 4 Type Cover with Finger...</td>\n",
       "      <td>7.000000</td>\n",
       "      <td>5.000000</td>\n",
       "      <td>Our original keyboard was okay, but did not ha...</td>\n",
       "      <td>Nice improvement</td>\n",
       "      <td>Glickster</td>\n",
       "    </tr>\n",
       "  </tbody>\n",
       "</table>\n",
       "</div>"
      ],
      "text/plain": [
       "                     id      brand  \\\n",
       "0  AVpf3txeLJeJML43FN82  Microsoft   \n",
       "1  AVpf3txeLJeJML43FN82  Microsoft   \n",
       "2  AVpf3txeLJeJML43FN82  Microsoft   \n",
       "3  AVpf3txeLJeJML43FN82  Microsoft   \n",
       "4  AVpf3txeLJeJML43FN82  Microsoft   \n",
       "\n",
       "                                          categories colors  \\\n",
       "0  Electronics,Computers,Computer Accessories,Key...  Black   \n",
       "1  Electronics,Computers,Computer Accessories,Key...  Black   \n",
       "2  Electronics,Computers,Computer Accessories,Key...  Black   \n",
       "3  Electronics,Computers,Computer Accessories,Key...  Black   \n",
       "4  Electronics,Computers,Computer Accessories,Key...  Black   \n",
       "\n",
       "              dateAdded           dateUpdated manufacturer manufacturerNumber  \\\n",
       "0  2015-11-13T12:28:09Z  2018-01-29T02:15:13Z    Microsoft          RH7-00001   \n",
       "1  2015-11-13T12:28:09Z  2018-01-29T02:15:13Z    Microsoft          RH7-00001   \n",
       "2  2015-11-13T12:28:09Z  2018-01-29T02:15:13Z    Microsoft          RH7-00001   \n",
       "3  2015-11-13T12:28:09Z  2018-01-29T02:15:13Z    Microsoft          RH7-00001   \n",
       "4  2015-11-13T12:28:09Z  2018-01-29T02:15:13Z    Microsoft          RH7-00001   \n",
       "\n",
       "                                                name  reviews.numHelpful  \\\n",
       "0  Microsoft Surface Pro 4 Type Cover with Finger...            2.000000   \n",
       "1  Microsoft Surface Pro 4 Type Cover with Finger...            5.000000   \n",
       "2  Microsoft Surface Pro 4 Type Cover with Finger...            3.000000   \n",
       "3  Microsoft Surface Pro 4 Type Cover with Finger...            6.000000   \n",
       "4  Microsoft Surface Pro 4 Type Cover with Finger...            7.000000   \n",
       "\n",
       "   reviews.rating                                       reviews.text  \\\n",
       "0        5.000000  This keyboard is very easy to type on, but the...   \n",
       "1        4.000000  It's thin and light. I can type pretty easily ...   \n",
       "2        4.000000  I love the new design the keys are spaced well...   \n",
       "3        5.000000  Attached easily and firmly. Has a nice feel. A...   \n",
       "4        5.000000  Our original keyboard was okay, but did not ha...   \n",
       "\n",
       "                 reviews.title reviews.username  \n",
       "0  Love the fingerprint reader             JNH1  \n",
       "1                         Nice             Appa  \n",
       "2                          New             Kman  \n",
       "3                Nice keyboard        UpstateNY  \n",
       "4             Nice improvement        Glickster  "
      ]
     },
     "execution_count": 16,
     "metadata": {},
     "output_type": "execute_result"
    }
   ],
   "source": [
    "data = pd.read_excel('electronicreviews.xlsx')\n",
    "data.head()"
   ]
  },
  {
   "cell_type": "markdown",
   "metadata": {},
   "source": [
    "<a id='eda'></a>\n",
    "## 4. Exploratory Data Analysis"
   ]
  },
  {
   "cell_type": "markdown",
   "metadata": {},
   "source": [
    "<a id='dp'></a>\n",
    "### 4.1 Data Preparation"
   ]
  },
  {
   "cell_type": "markdown",
   "metadata": {},
   "source": [
    "<a id='Data_Shape'></a>\n",
    "#### 4.1.1 Data Dimension"
   ]
  },
  {
   "cell_type": "code",
   "execution_count": 3,
   "metadata": {},
   "outputs": [
    {
     "data": {
      "text/plain": [
       "(7298, 14)"
      ]
     },
     "execution_count": 3,
     "metadata": {},
     "output_type": "execute_result"
    }
   ],
   "source": [
    "data.shape"
   ]
  },
  {
   "cell_type": "markdown",
   "metadata": {},
   "source": [
    "**Interpretation:** The data has 7298 observations and 14 variables."
   ]
  },
  {
   "cell_type": "markdown",
   "metadata": {},
   "source": [
    "#### 4.1.2 Data Types <a id='Data_Types'></a>"
   ]
  },
  {
   "cell_type": "code",
   "execution_count": 4,
   "metadata": {},
   "outputs": [
    {
     "data": {
      "text/plain": [
       "id                     object\n",
       "brand                  object\n",
       "categories             object\n",
       "colors                 object\n",
       "dateAdded              object\n",
       "dateUpdated            object\n",
       "manufacturer           object\n",
       "manufacturerNumber     object\n",
       "name                   object\n",
       "reviews.numHelpful    float64\n",
       "reviews.rating        float64\n",
       "reviews.text           object\n",
       "reviews.title          object\n",
       "reviews.username       object\n",
       "dtype: object"
      ]
     },
     "execution_count": 4,
     "metadata": {},
     "output_type": "execute_result"
    }
   ],
   "source": [
    "data.dtypes"
   ]
  },
  {
   "cell_type": "markdown",
   "metadata": {},
   "source": [
    "**Interpretation:** All the variables are object type except reviews_numHelpful and reviews_rating."
   ]
  },
  {
   "cell_type": "markdown",
   "metadata": {},
   "source": [
    "#### 4.1.3 Dropping Duplicates <a id='DD'></a>"
   ]
  },
  {
   "cell_type": "code",
   "execution_count": null,
   "metadata": {},
   "outputs": [],
   "source": [
    "data.drop_duplicates()"
   ]
  },
  {
   "cell_type": "markdown",
   "metadata": {},
   "source": [
    "#### Remove Insignificant Variables"
   ]
  },
  {
   "cell_type": "markdown",
   "metadata": {},
   "source": [
    "There are few columns  which is redundant for further analysis Thus, we drop the column."
   ]
  },
  {
   "cell_type": "code",
   "execution_count": 6,
   "metadata": {},
   "outputs": [],
   "source": [
    "data.drop(['dateAdded','manufacturer','colors','dateUpdated','manufacturerNumber'], axis=1, inplace=True)"
   ]
  },
  {
   "cell_type": "markdown",
   "metadata": {},
   "source": [
    "#### 4.1.4 Missing Value Treatments <a id='Missing_Values'></a>"
   ]
  },
  {
   "cell_type": "code",
   "execution_count": 20,
   "metadata": {},
   "outputs": [
    {
     "data": {
      "text/html": [
       "<div>\n",
       "<style scoped>\n",
       "    .dataframe tbody tr th:only-of-type {\n",
       "        vertical-align: middle;\n",
       "    }\n",
       "\n",
       "    .dataframe tbody tr th {\n",
       "        vertical-align: top;\n",
       "    }\n",
       "\n",
       "    .dataframe thead th {\n",
       "        text-align: right;\n",
       "    }\n",
       "</style>\n",
       "<table border=\"1\" class=\"dataframe\">\n",
       "  <thead>\n",
       "    <tr style=\"text-align: right;\">\n",
       "      <th></th>\n",
       "      <th>value</th>\n",
       "      <th>percentage</th>\n",
       "    </tr>\n",
       "  </thead>\n",
       "  <tbody>\n",
       "    <tr>\n",
       "      <th>manufacturer</th>\n",
       "      <td>2667</td>\n",
       "      <td>36.544259</td>\n",
       "    </tr>\n",
       "    <tr>\n",
       "      <th>colors</th>\n",
       "      <td>2019</td>\n",
       "      <td>27.665114</td>\n",
       "    </tr>\n",
       "    <tr>\n",
       "      <th>reviews.numHelpful</th>\n",
       "      <td>1486</td>\n",
       "      <td>20.361743</td>\n",
       "    </tr>\n",
       "    <tr>\n",
       "      <th>reviews.rating</th>\n",
       "      <td>164</td>\n",
       "      <td>2.247191</td>\n",
       "    </tr>\n",
       "    <tr>\n",
       "      <th>reviews.text</th>\n",
       "      <td>5</td>\n",
       "      <td>0.068512</td>\n",
       "    </tr>\n",
       "    <tr>\n",
       "      <th>reviews.title</th>\n",
       "      <td>4</td>\n",
       "      <td>0.054810</td>\n",
       "    </tr>\n",
       "    <tr>\n",
       "      <th>id</th>\n",
       "      <td>0</td>\n",
       "      <td>0.000000</td>\n",
       "    </tr>\n",
       "    <tr>\n",
       "      <th>brand</th>\n",
       "      <td>0</td>\n",
       "      <td>0.000000</td>\n",
       "    </tr>\n",
       "    <tr>\n",
       "      <th>categories</th>\n",
       "      <td>0</td>\n",
       "      <td>0.000000</td>\n",
       "    </tr>\n",
       "    <tr>\n",
       "      <th>dateAdded</th>\n",
       "      <td>0</td>\n",
       "      <td>0.000000</td>\n",
       "    </tr>\n",
       "    <tr>\n",
       "      <th>dateUpdated</th>\n",
       "      <td>0</td>\n",
       "      <td>0.000000</td>\n",
       "    </tr>\n",
       "    <tr>\n",
       "      <th>manufacturerNumber</th>\n",
       "      <td>0</td>\n",
       "      <td>0.000000</td>\n",
       "    </tr>\n",
       "    <tr>\n",
       "      <th>name</th>\n",
       "      <td>0</td>\n",
       "      <td>0.000000</td>\n",
       "    </tr>\n",
       "    <tr>\n",
       "      <th>reviews.username</th>\n",
       "      <td>0</td>\n",
       "      <td>0.000000</td>\n",
       "    </tr>\n",
       "  </tbody>\n",
       "</table>\n",
       "</div>"
      ],
      "text/plain": [
       "                    value  percentage\n",
       "manufacturer         2667   36.544259\n",
       "colors               2019   27.665114\n",
       "reviews.numHelpful   1486   20.361743\n",
       "reviews.rating        164    2.247191\n",
       "reviews.text            5    0.068512\n",
       "reviews.title           4    0.054810\n",
       "id                      0    0.000000\n",
       "brand                   0    0.000000\n",
       "categories              0    0.000000\n",
       "dateAdded               0    0.000000\n",
       "dateUpdated             0    0.000000\n",
       "manufacturerNumber      0    0.000000\n",
       "name                    0    0.000000\n",
       "reviews.username        0    0.000000"
      ]
     },
     "execution_count": 20,
     "metadata": {},
     "output_type": "execute_result"
    }
   ],
   "source": [
    "missing_values = pd.DataFrame({\n",
    "    'value':data.isnull().sum(),\n",
    "    'percentage': data.isnull().sum()*100/data.shape[0]\n",
    "})\n",
    "\n",
    "missing_values.sort_values(by='percentage', ascending=False)"
   ]
  },
  {
   "cell_type": "markdown",
   "metadata": {},
   "source": [
    "#### Visualize Missing Values using Heatmap"
   ]
  },
  {
   "cell_type": "code",
   "execution_count": 8,
   "metadata": {},
   "outputs": [
    {
     "data": {
      "image/png": "[encoded data removed]",
      "text/plain": [
       "<Figure size 1080x576 with 1 Axes>"
      ]
     },
     "metadata": {
      "needs_background": "light"
     },
     "output_type": "display_data"
    }
   ],
   "source": [
    "plt.figure(figsize=(15, 8))\n",
    "sns.heatmap(data.isnull(), cbar=False)\n",
    "plt.show()"
   ]
  },
  {
   "cell_type": "markdown",
   "metadata": {},
   "source": [
    "#### Handling missing values"
   ]
  },
  {
   "cell_type": "code",
   "execution_count": 9,
   "metadata": {},
   "outputs": [],
   "source": [
    "data['reviews.numHelpful']=data['reviews.numHelpful'].fillna(0)"
   ]
  },
  {
   "cell_type": "code",
   "execution_count": 10,
   "metadata": {},
   "outputs": [],
   "source": [
    "data['reviews.rating'] = data['reviews.rating'].fillna(data.groupby('brand')['reviews.rating'].transform('mean'))"
   ]
  },
  {
   "cell_type": "code",
   "execution_count": 11,
   "metadata": {},
   "outputs": [],
   "source": [
    "data.dropna(inplace=True)\n"
   ]
  },
  {
   "cell_type": "code",
   "execution_count": 12,
   "metadata": {},
   "outputs": [
    {
     "data": {
      "text/html": [
       "<div>\n",
       "<style scoped>\n",
       "    .dataframe tbody tr th:only-of-type {\n",
       "        vertical-align: middle;\n",
       "    }\n",
       "\n",
       "    .dataframe tbody tr th {\n",
       "        vertical-align: top;\n",
       "    }\n",
       "\n",
       "    .dataframe thead th {\n",
       "        text-align: right;\n",
       "    }\n",
       "</style>\n",
       "<table border=\"1\" class=\"dataframe\">\n",
       "  <thead>\n",
       "    <tr style=\"text-align: right;\">\n",
       "      <th></th>\n",
       "      <th>value</th>\n",
       "      <th>percentage</th>\n",
       "    </tr>\n",
       "  </thead>\n",
       "  <tbody>\n",
       "    <tr>\n",
       "      <th>id</th>\n",
       "      <td>0</td>\n",
       "      <td>0.000000</td>\n",
       "    </tr>\n",
       "    <tr>\n",
       "      <th>brand</th>\n",
       "      <td>0</td>\n",
       "      <td>0.000000</td>\n",
       "    </tr>\n",
       "    <tr>\n",
       "      <th>categories</th>\n",
       "      <td>0</td>\n",
       "      <td>0.000000</td>\n",
       "    </tr>\n",
       "    <tr>\n",
       "      <th>name</th>\n",
       "      <td>0</td>\n",
       "      <td>0.000000</td>\n",
       "    </tr>\n",
       "    <tr>\n",
       "      <th>reviews.numHelpful</th>\n",
       "      <td>0</td>\n",
       "      <td>0.000000</td>\n",
       "    </tr>\n",
       "    <tr>\n",
       "      <th>reviews.rating</th>\n",
       "      <td>0</td>\n",
       "      <td>0.000000</td>\n",
       "    </tr>\n",
       "    <tr>\n",
       "      <th>reviews.text</th>\n",
       "      <td>0</td>\n",
       "      <td>0.000000</td>\n",
       "    </tr>\n",
       "    <tr>\n",
       "      <th>reviews.title</th>\n",
       "      <td>0</td>\n",
       "      <td>0.000000</td>\n",
       "    </tr>\n",
       "    <tr>\n",
       "      <th>reviews.username</th>\n",
       "      <td>0</td>\n",
       "      <td>0.000000</td>\n",
       "    </tr>\n",
       "  </tbody>\n",
       "</table>\n",
       "</div>"
      ],
      "text/plain": [
       "                    value  percentage\n",
       "id                      0    0.000000\n",
       "brand                   0    0.000000\n",
       "categories              0    0.000000\n",
       "name                    0    0.000000\n",
       "reviews.numHelpful      0    0.000000\n",
       "reviews.rating          0    0.000000\n",
       "reviews.text            0    0.000000\n",
       "reviews.title           0    0.000000\n",
       "reviews.username        0    0.000000"
      ]
     },
     "execution_count": 12,
     "metadata": {},
     "output_type": "execute_result"
    }
   ],
   "source": [
    "missing_values = pd.DataFrame({\n",
    "    'value':data.isnull().sum(),\n",
    "    'percentage': data.isnull().sum()*100/data.shape[0]\n",
    "})\n",
    "\n",
    "missing_values.sort_values(by='percentage', ascending=False)"
   ]
  },
  {
   "cell_type": "code",
   "execution_count": 13,
   "metadata": {},
   "outputs": [
    {
     "data": {
      "text/plain": [
       "(7289, 9)"
      ]
     },
     "execution_count": 13,
     "metadata": {},
     "output_type": "execute_result"
    }
   ],
   "source": [
    "data.shape"
   ]
  },
  {
   "cell_type": "markdown",
   "metadata": {},
   "source": [
    "#### Revisualize Missing Values using Heatmap"
   ]
  },
  {
   "cell_type": "code",
   "execution_count": 21,
   "metadata": {},
   "outputs": [
    {
     "data": {
      "image/png": "[encoded data removed]",
      "text/plain": [
       "<Figure size 1080x576 with 1 Axes>"
      ]
     },
     "metadata": {
      "needs_background": "light"
     },
     "output_type": "display_data"
    }
   ],
   "source": [
    "plt.figure(figsize=(15, 8))\n",
    "sns.heatmap(data.isnull(), cbar=False)\n",
    "plt.show()"
   ]
  },
  {
   "cell_type": "markdown",
   "metadata": {},
   "source": [
    "<a id='outliers'></a>\n",
    "## 5. Checking Outliers"
   ]
  },
  {
   "cell_type": "code",
   "execution_count": 23,
   "metadata": {},
   "outputs": [],
   "source": [
    "data_num = data.select_dtypes(include=np.number)"
   ]
  },
  {
   "cell_type": "code",
   "execution_count": 16,
   "metadata": {},
   "outputs": [
    {
     "data": {
      "image/png": "[encoded data removed]",
      "text/plain": [
       "<Figure size 1440x360 with 2 Axes>"
      ]
     },
     "metadata": {
      "needs_background": "light"
     },
     "output_type": "display_data"
    }
   ],
   "source": [
    "fig, ax = plt.subplots(nrows = 1, ncols = 2, figsize=(20,5))\n",
    "for variable, subplot in zip(data_num.columns, ax.flatten()):\n",
    "    sns.boxplot(data_num[variable], ax = subplot)\n",
    "plt.show()"
   ]
  },
  {
   "cell_type": "code",
   "execution_count": 25,
   "metadata": {},
   "outputs": [],
   "source": [
    "q1 = data.quantile(0.25) \n",
    "q3 = data.quantile(0.75) \n",
    "iqr = q3 - q1 "
   ]
  },
  {
   "cell_type": "code",
   "execution_count": 26,
   "metadata": {},
   "outputs": [
    {
     "name": "stdout",
     "output_type": "stream",
     "text": [
      "Total number of Outliers in column reviews.numHelpful are 551\n",
      "Total number of Outliers in column reviews.rating are 540\n"
     ]
    }
   ],
   "source": [
    "outlier = pd.DataFrame((data_num < (q1 - 1.5 * iqr)) | (data_num > (q3 + 1.5 * iqr)))\n",
    "for i in outlier.columns:\n",
    "    print(f'Total number of Outliers in column {i} are {len(outlier[outlier[i] == True][i])}')"
   ]
  },
  {
   "cell_type": "code",
   "execution_count": 27,
   "metadata": {},
   "outputs": [],
   "source": [
    "data = data[~((data < (q1 - 1.5 * iqr)) |(data > (q3 + 1.5 * iqr))).any(axis=1)] \n",
    "data.reset_index(inplace=True)\n",
    "data.drop('index',axis=1, inplace=True)"
   ]
  },
  {
   "cell_type": "code",
   "execution_count": 20,
   "metadata": {},
   "outputs": [
    {
     "data": {
      "text/plain": [
       "(6243, 9)"
      ]
     },
     "execution_count": 20,
     "metadata": {},
     "output_type": "execute_result"
    }
   ],
   "source": [
    "data.shape"
   ]
  },
  {
   "cell_type": "markdown",
   "metadata": {},
   "source": [
    "### 5.1 Encoding <a id='Enc'></a>"
   ]
  },
  {
   "cell_type": "code",
   "execution_count": 21,
   "metadata": {},
   "outputs": [],
   "source": [
    "from sklearn.preprocessing import LabelEncoder\n",
    "lb = LabelEncoder()\n",
    "data['user_Id'] = lb.fit_transform(data['reviews.username'])\n",
    "\n",
    "lb = LabelEncoder()\n",
    "data['Product_Id'] = lb.fit_transform(data['id'])"
   ]
  },
  {
   "cell_type": "code",
   "execution_count": 132,
   "metadata": {},
   "outputs": [
    {
     "data": {
      "image/png": "[encoded data removed]",
      "text/plain": [
       "<Figure size 1080x720 with 2 Axes>"
      ]
     },
     "metadata": {
      "needs_background": "light"
     },
     "output_type": "display_data"
    }
   ],
   "source": [
    "plt.figure(figsize=(15,10))\n",
    "sns.heatmap(data.corr(), annot=True,cmap=\"YlGnBu\")\n",
    "plt.show()"
   ]
  },
  {
   "cell_type": "code",
   "execution_count": 23,
   "metadata": {},
   "outputs": [
    {
     "data": {
      "text/html": [
       "<div>\n",
       "<style scoped>\n",
       "    .dataframe tbody tr th:only-of-type {\n",
       "        vertical-align: middle;\n",
       "    }\n",
       "\n",
       "    .dataframe tbody tr th {\n",
       "        vertical-align: top;\n",
       "    }\n",
       "\n",
       "    .dataframe thead th {\n",
       "        text-align: right;\n",
       "    }\n",
       "</style>\n",
       "<table border=\"1\" class=\"dataframe\">\n",
       "  <thead>\n",
       "    <tr style=\"text-align: right;\">\n",
       "      <th></th>\n",
       "      <th>id</th>\n",
       "      <th>brand</th>\n",
       "      <th>categories</th>\n",
       "      <th>name</th>\n",
       "      <th>reviews.numHelpful</th>\n",
       "      <th>reviews.rating</th>\n",
       "      <th>reviews.text</th>\n",
       "      <th>reviews.title</th>\n",
       "      <th>reviews.username</th>\n",
       "      <th>user_Id</th>\n",
       "      <th>Product_Id</th>\n",
       "    </tr>\n",
       "  </thead>\n",
       "  <tbody>\n",
       "    <tr>\n",
       "      <th>0</th>\n",
       "      <td>AVpf3txeLJeJML43FN82</td>\n",
       "      <td>Microsoft</td>\n",
       "      <td>Electronics,Computers,Computer Accessories,Key...</td>\n",
       "      <td>Microsoft Surface Pro 4 Type Cover with Finger...</td>\n",
       "      <td>2.000000</td>\n",
       "      <td>5.000000</td>\n",
       "      <td>This keyboard is very easy to type on, but the...</td>\n",
       "      <td>Love the fingerprint reader</td>\n",
       "      <td>JNH1</td>\n",
       "      <td>2099</td>\n",
       "      <td>12</td>\n",
       "    </tr>\n",
       "  </tbody>\n",
       "</table>\n",
       "</div>"
      ],
      "text/plain": [
       "                     id      brand  \\\n",
       "0  AVpf3txeLJeJML43FN82  Microsoft   \n",
       "\n",
       "                                          categories  \\\n",
       "0  Electronics,Computers,Computer Accessories,Key...   \n",
       "\n",
       "                                                name  reviews.numHelpful  \\\n",
       "0  Microsoft Surface Pro 4 Type Cover with Finger...            2.000000   \n",
       "\n",
       "   reviews.rating                                       reviews.text  \\\n",
       "0        5.000000  This keyboard is very easy to type on, but the...   \n",
       "\n",
       "                 reviews.title reviews.username  user_Id  Product_Id  \n",
       "0  Love the fingerprint reader             JNH1     2099          12  "
      ]
     },
     "execution_count": 23,
     "metadata": {},
     "output_type": "execute_result"
    }
   ],
   "source": [
    "data.head(1)"
   ]
  },
  {
   "cell_type": "code",
   "execution_count": 24,
   "metadata": {},
   "outputs": [
    {
     "data": {
      "text/html": [
       "<div>\n",
       "<style scoped>\n",
       "    .dataframe tbody tr th:only-of-type {\n",
       "        vertical-align: middle;\n",
       "    }\n",
       "\n",
       "    .dataframe tbody tr th {\n",
       "        vertical-align: top;\n",
       "    }\n",
       "\n",
       "    .dataframe thead th {\n",
       "        text-align: right;\n",
       "    }\n",
       "</style>\n",
       "<table border=\"1\" class=\"dataframe\">\n",
       "  <thead>\n",
       "    <tr style=\"text-align: right;\">\n",
       "      <th></th>\n",
       "      <th>reviews.numHelpful</th>\n",
       "      <th>reviews.rating</th>\n",
       "      <th>user_Id</th>\n",
       "      <th>Product_Id</th>\n",
       "    </tr>\n",
       "  </thead>\n",
       "  <tbody>\n",
       "    <tr>\n",
       "      <th>0</th>\n",
       "      <td>1.000000</td>\n",
       "      <td>1.000000</td>\n",
       "      <td>0.376097</td>\n",
       "      <td>0.244898</td>\n",
       "    </tr>\n",
       "    <tr>\n",
       "      <th>1</th>\n",
       "      <td>1.000000</td>\n",
       "      <td>1.000000</td>\n",
       "      <td>0.839276</td>\n",
       "      <td>0.244898</td>\n",
       "    </tr>\n",
       "    <tr>\n",
       "      <th>2</th>\n",
       "      <td>0.500000</td>\n",
       "      <td>0.000000</td>\n",
       "      <td>0.029744</td>\n",
       "      <td>0.244898</td>\n",
       "    </tr>\n",
       "    <tr>\n",
       "      <th>3</th>\n",
       "      <td>0.500000</td>\n",
       "      <td>1.000000</td>\n",
       "      <td>0.850206</td>\n",
       "      <td>0.244898</td>\n",
       "    </tr>\n",
       "    <tr>\n",
       "      <th>4</th>\n",
       "      <td>1.000000</td>\n",
       "      <td>0.500000</td>\n",
       "      <td>0.892313</td>\n",
       "      <td>0.244898</td>\n",
       "    </tr>\n",
       "  </tbody>\n",
       "</table>\n",
       "</div>"
      ],
      "text/plain": [
       "   reviews.numHelpful  reviews.rating  user_Id  Product_Id\n",
       "0            1.000000        1.000000 0.376097    0.244898\n",
       "1            1.000000        1.000000 0.839276    0.244898\n",
       "2            0.500000        0.000000 0.029744    0.244898\n",
       "3            0.500000        1.000000 0.850206    0.244898\n",
       "4            1.000000        0.500000 0.892313    0.244898"
      ]
     },
     "execution_count": 24,
     "metadata": {},
     "output_type": "execute_result"
    }
   ],
   "source": [
    "from sklearn.preprocessing import MinMaxScaler\n",
    "ss = MinMaxScaler()\n",
    "data_trns = ss.fit_transform(data.select_dtypes(include=np.number))\n",
    "data_scaled = pd.DataFrame(data_trns,columns=['reviews.numHelpful','reviews.rating','user_Id','Product_Id'])\n",
    "data_scaled.head()"
   ]
  },
  {
   "cell_type": "markdown",
   "metadata": {},
   "source": [
    "<a id='C'></a>\n",
    "## 6. Clustering"
   ]
  },
  {
   "cell_type": "markdown",
   "metadata": {},
   "source": [
    "<a id='KMC'></a>\n",
    "### 6.1 K-Means Clustering"
   ]
  },
  {
   "cell_type": "code",
   "execution_count": 25,
   "metadata": {},
   "outputs": [
    {
     "data": {
      "text/html": [
       "<div>\n",
       "<style scoped>\n",
       "    .dataframe tbody tr th:only-of-type {\n",
       "        vertical-align: middle;\n",
       "    }\n",
       "\n",
       "    .dataframe tbody tr th {\n",
       "        vertical-align: top;\n",
       "    }\n",
       "\n",
       "    .dataframe thead th {\n",
       "        text-align: right;\n",
       "    }\n",
       "</style>\n",
       "<table border=\"1\" class=\"dataframe\">\n",
       "  <thead>\n",
       "    <tr style=\"text-align: right;\">\n",
       "      <th></th>\n",
       "      <th>Product_Id</th>\n",
       "      <th>reviews.rating</th>\n",
       "    </tr>\n",
       "  </thead>\n",
       "  <tbody>\n",
       "    <tr>\n",
       "      <th>0</th>\n",
       "      <td>0.244898</td>\n",
       "      <td>1.000000</td>\n",
       "    </tr>\n",
       "    <tr>\n",
       "      <th>1</th>\n",
       "      <td>0.244898</td>\n",
       "      <td>1.000000</td>\n",
       "    </tr>\n",
       "    <tr>\n",
       "      <th>2</th>\n",
       "      <td>0.244898</td>\n",
       "      <td>0.000000</td>\n",
       "    </tr>\n",
       "    <tr>\n",
       "      <th>3</th>\n",
       "      <td>0.244898</td>\n",
       "      <td>1.000000</td>\n",
       "    </tr>\n",
       "    <tr>\n",
       "      <th>4</th>\n",
       "      <td>0.244898</td>\n",
       "      <td>0.500000</td>\n",
       "    </tr>\n",
       "  </tbody>\n",
       "</table>\n",
       "</div>"
      ],
      "text/plain": [
       "   Product_Id  reviews.rating\n",
       "0    0.244898        1.000000\n",
       "1    0.244898        1.000000\n",
       "2    0.244898        0.000000\n",
       "3    0.244898        1.000000\n",
       "4    0.244898        0.500000"
      ]
     },
     "execution_count": 25,
     "metadata": {},
     "output_type": "execute_result"
    }
   ],
   "source": [
    "k_data = data_scaled[['Product_Id','reviews.rating']]\n",
    "k_data.head()"
   ]
  },
  {
   "cell_type": "code",
   "execution_count": 26,
   "metadata": {},
   "outputs": [],
   "source": [
    "wcss = []\n",
    "\n",
    "for i in range(1,21):\n",
    "    kmeans = KMeans(n_clusters=i,  random_state=4)\n",
    "    kmeans.fit(k_data)\n",
    "    wcss.append(kmeans.inertia_)"
   ]
  },
  {
   "cell_type": "code",
   "execution_count": 27,
   "metadata": {},
   "outputs": [
    {
     "data": {
      "image/png": "[encoded data removed]",
      "text/plain": [
       "<Figure size 1080x576 with 1 Axes>"
      ]
     },
     "metadata": {
      "needs_background": "light"
     },
     "output_type": "display_data"
    }
   ],
   "source": [
    "plt.plot(range(1,21), wcss)\n",
    "\n",
    "plt.title('Elbow plot', fontsize=15)\n",
    "plt.xlabel('No of clusters (k)', fontsize=10)\n",
    "plt.ylabel('WCSS', fontsize=10)\n",
    "\n",
    "plt.axvline(x = 6, color = 'red')\n",
    "plt.show()"
   ]
  },
  {
   "cell_type": "code",
   "execution_count": 28,
   "metadata": {},
   "outputs": [
    {
     "name": "stdout",
     "output_type": "stream",
     "text": [
      "For 2 cluster the silhouette score is 0.5120662061640083\n",
      "For 3 cluster the silhouette score is 0.5332207807695257\n",
      "For 4 cluster the silhouette score is 0.5688100932157828\n",
      "For 5 cluster the silhouette score is 0.5763923182973204\n",
      "For 6 cluster the silhouette score is 0.6028081839243844\n"
     ]
    }
   ],
   "source": [
    "n_clusters  = [2, 3, 4, 5, 6]\n",
    "\n",
    "for k in n_clusters:\n",
    "    cluster = KMeans(n_clusters=k, random_state=4)\n",
    "    predict = cluster.fit_predict(k_data)\n",
    "    score = silhouette_score(k_data, predict, random_state=4)\n",
    "    print(f\"For {k} cluster the silhouette score is {score}\")"
   ]
  },
  {
   "cell_type": "code",
   "execution_count": 29,
   "metadata": {},
   "outputs": [
    {
     "data": {
      "image/png": "[encoded data removed]",
      "text/plain": [
       "<Figure size 1296x504 with 2 Axes>"
      ]
     },
     "metadata": {
      "needs_background": "light"
     },
     "output_type": "display_data"
    },
    {
     "data": {
      "image/png": "[encoded data removed]",
      "text/plain": [
       "<Figure size 1296x504 with 2 Axes>"
      ]
     },
     "metadata": {
      "needs_background": "light"
     },
     "output_type": "display_data"
    },
    {
     "data": {
      "image/png": "[encoded data removed]",
      "text/plain": [
       "<Figure size 1296x504 with 2 Axes>"
      ]
     },
     "metadata": {
      "needs_background": "light"
     },
     "output_type": "display_data"
    },
    {
     "data": {
      "image/png": "[encoded data removed]",
      "text/plain": [
       "<Figure size 1296x504 with 2 Axes>"
      ]
     },
     "metadata": {
      "needs_background": "light"
     },
     "output_type": "display_data"
    },
    {
     "data": {
      "image/png": "[encoded data removed]",
      "text/plain": [
       "<Figure size 1296x504 with 2 Axes>"
      ]
     },
     "metadata": {
      "needs_background": "light"
     },
     "output_type": "display_data"
    }
   ],
   "source": [
    "viz(k_data, [2, 3, 4, 5, 6])"
   ]
  },
  {
   "cell_type": "code",
   "execution_count": 30,
   "metadata": {},
   "outputs": [],
   "source": [
    "k_cluster = KMeans(n_clusters=6, random_state=4)\n",
    "\n",
    "k_cluster.fit(k_data)\n",
    "data['kmeans_cluster'] = k_cluster.labels_"
   ]
  },
  {
   "cell_type": "code",
   "execution_count": 135,
   "metadata": {},
   "outputs": [
    {
     "data": {
      "image/png": "[encoded data removed]",
      "text/plain": [
       "<Figure size 1080x576 with 1 Axes>"
      ]
     },
     "metadata": {
      "needs_background": "light"
     },
     "output_type": "display_data"
    }
   ],
   "source": [
    "sns.countplot(data= data, x = 'kmeans_cluster',palette='Set3', edgecolor=sns.color_palette('dark',7))\n",
    "\n",
    "plt.title('Size of Cluster', fontsize = 15)\n",
    "plt.xlabel('Clusters', fontsize = 10)\n",
    "plt.ylabel('Number of Customers', fontsize = 10)\n",
    "\n",
    "plt.show()"
   ]
  },
  {
   "cell_type": "code",
   "execution_count": 32,
   "metadata": {},
   "outputs": [
    {
     "data": {
      "image/png": "[encoded data removed]",
      "text/plain": [
       "<Figure size 806.375x720 with 1 Axes>"
      ]
     },
     "metadata": {
      "needs_background": "light"
     },
     "output_type": "display_data"
    }
   ],
   "source": [
    "sns.lmplot(x = 'Product_Id', y = 'reviews.rating', data = data, hue = 'kmeans_cluster', \n",
    "                markers = ['*', ',','o','x','^','+'], fit_reg = False, size = 10)\n",
    "\n",
    "plt.title('K-means Clustering (for K=6)', fontsize = 15)\n",
    "plt.xlabel('Product_Id', fontsize = 10)\n",
    "plt.ylabel('average_review_rating', fontsize = 10)\n",
    "\n",
    "plt.show()"
   ]
  },
  {
   "cell_type": "code",
   "execution_count": 33,
   "metadata": {},
   "outputs": [
    {
     "name": "stdout",
     "output_type": "stream",
     "text": [
      "Size of cluster 1830\n"
     ]
    },
    {
     "data": {
      "text/html": [
       "<div>\n",
       "<style scoped>\n",
       "    .dataframe tbody tr th:only-of-type {\n",
       "        vertical-align: middle;\n",
       "    }\n",
       "\n",
       "    .dataframe tbody tr th {\n",
       "        vertical-align: top;\n",
       "    }\n",
       "\n",
       "    .dataframe thead th {\n",
       "        text-align: right;\n",
       "    }\n",
       "</style>\n",
       "<table border=\"1\" class=\"dataframe\">\n",
       "  <thead>\n",
       "    <tr style=\"text-align: right;\">\n",
       "      <th></th>\n",
       "      <th>count</th>\n",
       "      <th>mean</th>\n",
       "      <th>std</th>\n",
       "      <th>min</th>\n",
       "      <th>25%</th>\n",
       "      <th>50%</th>\n",
       "      <th>75%</th>\n",
       "      <th>max</th>\n",
       "    </tr>\n",
       "  </thead>\n",
       "  <tbody>\n",
       "    <tr>\n",
       "      <th>reviews.numHelpful</th>\n",
       "      <td>1830.000000</td>\n",
       "      <td>0.562295</td>\n",
       "      <td>0.572945</td>\n",
       "      <td>0.000000</td>\n",
       "      <td>0.000000</td>\n",
       "      <td>1.000000</td>\n",
       "      <td>1.000000</td>\n",
       "      <td>2.000000</td>\n",
       "    </tr>\n",
       "    <tr>\n",
       "      <th>reviews.rating</th>\n",
       "      <td>1830.000000</td>\n",
       "      <td>4.990757</td>\n",
       "      <td>0.058219</td>\n",
       "      <td>4.520693</td>\n",
       "      <td>5.000000</td>\n",
       "      <td>5.000000</td>\n",
       "      <td>5.000000</td>\n",
       "      <td>5.000000</td>\n",
       "    </tr>\n",
       "    <tr>\n",
       "      <th>user_Id</th>\n",
       "      <td>1830.000000</td>\n",
       "      <td>2672.369399</td>\n",
       "      <td>1628.437817</td>\n",
       "      <td>4.000000</td>\n",
       "      <td>1224.000000</td>\n",
       "      <td>2647.000000</td>\n",
       "      <td>4058.750000</td>\n",
       "      <td>5579.000000</td>\n",
       "    </tr>\n",
       "    <tr>\n",
       "      <th>Product_Id</th>\n",
       "      <td>1830.000000</td>\n",
       "      <td>26.249180</td>\n",
       "      <td>4.497151</td>\n",
       "      <td>18.000000</td>\n",
       "      <td>22.000000</td>\n",
       "      <td>29.000000</td>\n",
       "      <td>29.000000</td>\n",
       "      <td>34.000000</td>\n",
       "    </tr>\n",
       "    <tr>\n",
       "      <th>kmeans_cluster</th>\n",
       "      <td>1830.000000</td>\n",
       "      <td>0.000000</td>\n",
       "      <td>0.000000</td>\n",
       "      <td>0.000000</td>\n",
       "      <td>0.000000</td>\n",
       "      <td>0.000000</td>\n",
       "      <td>0.000000</td>\n",
       "      <td>0.000000</td>\n",
       "    </tr>\n",
       "  </tbody>\n",
       "</table>\n",
       "</div>"
      ],
      "text/plain": [
       "                         count        mean         std       min         25%  \\\n",
       "reviews.numHelpful 1830.000000    0.562295    0.572945  0.000000    0.000000   \n",
       "reviews.rating     1830.000000    4.990757    0.058219  4.520693    5.000000   \n",
       "user_Id            1830.000000 2672.369399 1628.437817  4.000000 1224.000000   \n",
       "Product_Id         1830.000000   26.249180    4.497151 18.000000   22.000000   \n",
       "kmeans_cluster     1830.000000    0.000000    0.000000  0.000000    0.000000   \n",
       "\n",
       "                           50%         75%         max  \n",
       "reviews.numHelpful    1.000000    1.000000    2.000000  \n",
       "reviews.rating        5.000000    5.000000    5.000000  \n",
       "user_Id            2647.000000 4058.750000 5579.000000  \n",
       "Product_Id           29.000000   29.000000   34.000000  \n",
       "kmeans_cluster        0.000000    0.000000    0.000000  "
      ]
     },
     "execution_count": 33,
     "metadata": {},
     "output_type": "execute_result"
    }
   ],
   "source": [
    "print(f'Size of cluster {data.kmeans_cluster.value_counts()[0]}')\n",
    "\n",
    "data[data.kmeans_cluster == 0].describe().T"
   ]
  },
  {
   "cell_type": "code",
   "execution_count": 34,
   "metadata": {},
   "outputs": [
    {
     "data": {
      "text/html": [
       "<div>\n",
       "<style scoped>\n",
       "    .dataframe tbody tr th:only-of-type {\n",
       "        vertical-align: middle;\n",
       "    }\n",
       "\n",
       "    .dataframe tbody tr th {\n",
       "        vertical-align: top;\n",
       "    }\n",
       "\n",
       "    .dataframe thead th {\n",
       "        text-align: right;\n",
       "    }\n",
       "</style>\n",
       "<table border=\"1\" class=\"dataframe\">\n",
       "  <thead>\n",
       "    <tr style=\"text-align: right;\">\n",
       "      <th></th>\n",
       "      <th>count</th>\n",
       "      <th>unique</th>\n",
       "      <th>top</th>\n",
       "      <th>freq</th>\n",
       "    </tr>\n",
       "  </thead>\n",
       "  <tbody>\n",
       "    <tr>\n",
       "      <th>id</th>\n",
       "      <td>1830</td>\n",
       "      <td>17</td>\n",
       "      <td>AVpgfP3DilAPnD_xtG3M</td>\n",
       "      <td>754</td>\n",
       "    </tr>\n",
       "    <tr>\n",
       "      <th>brand</th>\n",
       "      <td>1830</td>\n",
       "      <td>14</td>\n",
       "      <td>Logitech</td>\n",
       "      <td>754</td>\n",
       "    </tr>\n",
       "    <tr>\n",
       "      <th>categories</th>\n",
       "      <td>1830</td>\n",
       "      <td>17</td>\n",
       "      <td>Electronics,Accessories &amp; Supplies,Audio &amp; Vid...</td>\n",
       "      <td>754</td>\n",
       "    </tr>\n",
       "    <tr>\n",
       "      <th>name</th>\n",
       "      <td>1830</td>\n",
       "      <td>17</td>\n",
       "      <td>Logitech 915-000224  Harmony Ultimate One 15-D...</td>\n",
       "      <td>754</td>\n",
       "    </tr>\n",
       "    <tr>\n",
       "      <th>reviews.text</th>\n",
       "      <td>1830</td>\n",
       "      <td>1800</td>\n",
       "      <td>Using this with a Sony BD player and Onkyo 5.1...</td>\n",
       "      <td>7</td>\n",
       "    </tr>\n",
       "    <tr>\n",
       "      <th>reviews.title</th>\n",
       "      <td>1830</td>\n",
       "      <td>1376</td>\n",
       "      <td>Five Stars</td>\n",
       "      <td>78</td>\n",
       "    </tr>\n",
       "    <tr>\n",
       "      <th>reviews.username</th>\n",
       "      <td>1830</td>\n",
       "      <td>1708</td>\n",
       "      <td>ByAmazon Customer</td>\n",
       "      <td>24</td>\n",
       "    </tr>\n",
       "  </tbody>\n",
       "</table>\n",
       "</div>"
      ],
      "text/plain": [
       "                 count unique  \\\n",
       "id                1830     17   \n",
       "brand             1830     14   \n",
       "categories        1830     17   \n",
       "name              1830     17   \n",
       "reviews.text      1830   1800   \n",
       "reviews.title     1830   1376   \n",
       "reviews.username  1830   1708   \n",
       "\n",
       "                                                                top freq  \n",
       "id                                             AVpgfP3DilAPnD_xtG3M  754  \n",
       "brand                                                      Logitech  754  \n",
       "categories        Electronics,Accessories & Supplies,Audio & Vid...  754  \n",
       "name              Logitech 915-000224  Harmony Ultimate One 15-D...  754  \n",
       "reviews.text      Using this with a Sony BD player and Onkyo 5.1...    7  \n",
       "reviews.title                                            Five Stars   78  \n",
       "reviews.username                                  ByAmazon Customer   24  "
      ]
     },
     "execution_count": 34,
     "metadata": {},
     "output_type": "execute_result"
    }
   ],
   "source": [
    "data[data.kmeans_cluster == 0].describe(include='object').T"
   ]
  },
  {
   "cell_type": "code",
   "execution_count": 35,
   "metadata": {},
   "outputs": [
    {
     "name": "stdout",
     "output_type": "stream",
     "text": [
      "Size of cluster 409\n"
     ]
    },
    {
     "data": {
      "text/html": [
       "<div>\n",
       "<style scoped>\n",
       "    .dataframe tbody tr th:only-of-type {\n",
       "        vertical-align: middle;\n",
       "    }\n",
       "\n",
       "    .dataframe tbody tr th {\n",
       "        vertical-align: top;\n",
       "    }\n",
       "\n",
       "    .dataframe thead th {\n",
       "        text-align: right;\n",
       "    }\n",
       "</style>\n",
       "<table border=\"1\" class=\"dataframe\">\n",
       "  <thead>\n",
       "    <tr style=\"text-align: right;\">\n",
       "      <th></th>\n",
       "      <th>count</th>\n",
       "      <th>mean</th>\n",
       "      <th>std</th>\n",
       "      <th>min</th>\n",
       "      <th>25%</th>\n",
       "      <th>50%</th>\n",
       "      <th>75%</th>\n",
       "      <th>max</th>\n",
       "    </tr>\n",
       "  </thead>\n",
       "  <tbody>\n",
       "    <tr>\n",
       "      <th>reviews.numHelpful</th>\n",
       "      <td>409.000000</td>\n",
       "      <td>0.432763</td>\n",
       "      <td>0.560989</td>\n",
       "      <td>0.000000</td>\n",
       "      <td>0.000000</td>\n",
       "      <td>0.000000</td>\n",
       "      <td>1.000000</td>\n",
       "      <td>2.000000</td>\n",
       "    </tr>\n",
       "    <tr>\n",
       "      <th>reviews.rating</th>\n",
       "      <td>409.000000</td>\n",
       "      <td>3.000000</td>\n",
       "      <td>0.000000</td>\n",
       "      <td>3.000000</td>\n",
       "      <td>3.000000</td>\n",
       "      <td>3.000000</td>\n",
       "      <td>3.000000</td>\n",
       "      <td>3.000000</td>\n",
       "    </tr>\n",
       "    <tr>\n",
       "      <th>user_Id</th>\n",
       "      <td>409.000000</td>\n",
       "      <td>2469.163814</td>\n",
       "      <td>1716.975352</td>\n",
       "      <td>6.000000</td>\n",
       "      <td>879.000000</td>\n",
       "      <td>2129.000000</td>\n",
       "      <td>4132.000000</td>\n",
       "      <td>5581.000000</td>\n",
       "    </tr>\n",
       "    <tr>\n",
       "      <th>Product_Id</th>\n",
       "      <td>409.000000</td>\n",
       "      <td>26.391198</td>\n",
       "      <td>11.419519</td>\n",
       "      <td>1.000000</td>\n",
       "      <td>20.000000</td>\n",
       "      <td>29.000000</td>\n",
       "      <td>29.000000</td>\n",
       "      <td>49.000000</td>\n",
       "    </tr>\n",
       "    <tr>\n",
       "      <th>kmeans_cluster</th>\n",
       "      <td>409.000000</td>\n",
       "      <td>1.000000</td>\n",
       "      <td>0.000000</td>\n",
       "      <td>1.000000</td>\n",
       "      <td>1.000000</td>\n",
       "      <td>1.000000</td>\n",
       "      <td>1.000000</td>\n",
       "      <td>1.000000</td>\n",
       "    </tr>\n",
       "  </tbody>\n",
       "</table>\n",
       "</div>"
      ],
      "text/plain": [
       "                        count        mean         std      min        25%  \\\n",
       "reviews.numHelpful 409.000000    0.432763    0.560989 0.000000   0.000000   \n",
       "reviews.rating     409.000000    3.000000    0.000000 3.000000   3.000000   \n",
       "user_Id            409.000000 2469.163814 1716.975352 6.000000 879.000000   \n",
       "Product_Id         409.000000   26.391198   11.419519 1.000000  20.000000   \n",
       "kmeans_cluster     409.000000    1.000000    0.000000 1.000000   1.000000   \n",
       "\n",
       "                           50%         75%         max  \n",
       "reviews.numHelpful    0.000000    1.000000    2.000000  \n",
       "reviews.rating        3.000000    3.000000    3.000000  \n",
       "user_Id            2129.000000 4132.000000 5581.000000  \n",
       "Product_Id           29.000000   29.000000   49.000000  \n",
       "kmeans_cluster        1.000000    1.000000    1.000000  "
      ]
     },
     "execution_count": 35,
     "metadata": {},
     "output_type": "execute_result"
    }
   ],
   "source": [
    "print(f'Size of cluster {data.kmeans_cluster.value_counts()[1]}')\n",
    "\n",
    "data[data.kmeans_cluster == 1].describe().T"
   ]
  },
  {
   "cell_type": "code",
   "execution_count": 36,
   "metadata": {},
   "outputs": [
    {
     "data": {
      "text/html": [
       "<div>\n",
       "<style scoped>\n",
       "    .dataframe tbody tr th:only-of-type {\n",
       "        vertical-align: middle;\n",
       "    }\n",
       "\n",
       "    .dataframe tbody tr th {\n",
       "        vertical-align: top;\n",
       "    }\n",
       "\n",
       "    .dataframe thead th {\n",
       "        text-align: right;\n",
       "    }\n",
       "</style>\n",
       "<table border=\"1\" class=\"dataframe\">\n",
       "  <thead>\n",
       "    <tr style=\"text-align: right;\">\n",
       "      <th></th>\n",
       "      <th>count</th>\n",
       "      <th>unique</th>\n",
       "      <th>top</th>\n",
       "      <th>freq</th>\n",
       "    </tr>\n",
       "  </thead>\n",
       "  <tbody>\n",
       "    <tr>\n",
       "      <th>id</th>\n",
       "      <td>409</td>\n",
       "      <td>37</td>\n",
       "      <td>AVpgfP3DilAPnD_xtG3M</td>\n",
       "      <td>162</td>\n",
       "    </tr>\n",
       "    <tr>\n",
       "      <th>brand</th>\n",
       "      <td>409</td>\n",
       "      <td>29</td>\n",
       "      <td>Logitech</td>\n",
       "      <td>164</td>\n",
       "    </tr>\n",
       "    <tr>\n",
       "      <th>categories</th>\n",
       "      <td>409</td>\n",
       "      <td>37</td>\n",
       "      <td>Electronics,Accessories &amp; Supplies,Audio &amp; Vid...</td>\n",
       "      <td>162</td>\n",
       "    </tr>\n",
       "    <tr>\n",
       "      <th>name</th>\n",
       "      <td>409</td>\n",
       "      <td>37</td>\n",
       "      <td>Logitech 915-000224  Harmony Ultimate One 15-D...</td>\n",
       "      <td>162</td>\n",
       "    </tr>\n",
       "    <tr>\n",
       "      <th>reviews.text</th>\n",
       "      <td>409</td>\n",
       "      <td>406</td>\n",
       "      <td>I purchased this camera so that I can watch my...</td>\n",
       "      <td>2</td>\n",
       "    </tr>\n",
       "    <tr>\n",
       "      <th>reviews.title</th>\n",
       "      <td>409</td>\n",
       "      <td>378</td>\n",
       "      <td>Three Stars</td>\n",
       "      <td>19</td>\n",
       "    </tr>\n",
       "    <tr>\n",
       "      <th>reviews.username</th>\n",
       "      <td>409</td>\n",
       "      <td>396</td>\n",
       "      <td>ByAmazon Customer</td>\n",
       "      <td>6</td>\n",
       "    </tr>\n",
       "  </tbody>\n",
       "</table>\n",
       "</div>"
      ],
      "text/plain": [
       "                 count unique  \\\n",
       "id                 409     37   \n",
       "brand              409     29   \n",
       "categories         409     37   \n",
       "name               409     37   \n",
       "reviews.text       409    406   \n",
       "reviews.title      409    378   \n",
       "reviews.username   409    396   \n",
       "\n",
       "                                                                top freq  \n",
       "id                                             AVpgfP3DilAPnD_xtG3M  162  \n",
       "brand                                                      Logitech  164  \n",
       "categories        Electronics,Accessories & Supplies,Audio & Vid...  162  \n",
       "name              Logitech 915-000224  Harmony Ultimate One 15-D...  162  \n",
       "reviews.text      I purchased this camera so that I can watch my...    2  \n",
       "reviews.title                                           Three Stars   19  \n",
       "reviews.username                                  ByAmazon Customer    6  "
      ]
     },
     "execution_count": 36,
     "metadata": {},
     "output_type": "execute_result"
    }
   ],
   "source": [
    "data[data.kmeans_cluster == 1].describe(include='object').T"
   ]
  },
  {
   "cell_type": "markdown",
   "metadata": {},
   "source": [
    "<a id='HC'></a>\n",
    "### 6.2 Heirarchical Clustering \n",
    "**Agglomerative** (based on average_review_rating)"
   ]
  },
  {
   "cell_type": "code",
   "execution_count": 37,
   "metadata": {},
   "outputs": [
    {
     "data": {
      "text/html": [
       "<div>\n",
       "<style scoped>\n",
       "    .dataframe tbody tr th:only-of-type {\n",
       "        vertical-align: middle;\n",
       "    }\n",
       "\n",
       "    .dataframe tbody tr th {\n",
       "        vertical-align: top;\n",
       "    }\n",
       "\n",
       "    .dataframe thead th {\n",
       "        text-align: right;\n",
       "    }\n",
       "</style>\n",
       "<table border=\"1\" class=\"dataframe\">\n",
       "  <thead>\n",
       "    <tr style=\"text-align: right;\">\n",
       "      <th></th>\n",
       "      <th>Product_Id</th>\n",
       "      <th>reviews.rating</th>\n",
       "    </tr>\n",
       "  </thead>\n",
       "  <tbody>\n",
       "    <tr>\n",
       "      <th>0</th>\n",
       "      <td>0.244898</td>\n",
       "      <td>1.000000</td>\n",
       "    </tr>\n",
       "    <tr>\n",
       "      <th>1</th>\n",
       "      <td>0.244898</td>\n",
       "      <td>1.000000</td>\n",
       "    </tr>\n",
       "    <tr>\n",
       "      <th>2</th>\n",
       "      <td>0.244898</td>\n",
       "      <td>0.000000</td>\n",
       "    </tr>\n",
       "    <tr>\n",
       "      <th>3</th>\n",
       "      <td>0.244898</td>\n",
       "      <td>1.000000</td>\n",
       "    </tr>\n",
       "    <tr>\n",
       "      <th>4</th>\n",
       "      <td>0.244898</td>\n",
       "      <td>0.500000</td>\n",
       "    </tr>\n",
       "  </tbody>\n",
       "</table>\n",
       "</div>"
      ],
      "text/plain": [
       "   Product_Id  reviews.rating\n",
       "0    0.244898        1.000000\n",
       "1    0.244898        1.000000\n",
       "2    0.244898        0.000000\n",
       "3    0.244898        1.000000\n",
       "4    0.244898        0.500000"
      ]
     },
     "execution_count": 37,
     "metadata": {},
     "output_type": "execute_result"
    }
   ],
   "source": [
    "h_data = data_scaled[['Product_Id','reviews.rating']]\n",
    "h_data.head()"
   ]
  },
  {
   "cell_type": "code",
   "execution_count": 38,
   "metadata": {},
   "outputs": [
    {
     "name": "stdout",
     "output_type": "stream",
     "text": [
      "[[0.000e+00 1.000e+00 0.000e+00 2.000e+00]\n",
      " [3.000e+00 6.243e+03 0.000e+00 3.000e+00]\n",
      " [2.000e+00 2.100e+01 0.000e+00 2.000e+00]\n",
      " [7.000e+00 6.244e+03 0.000e+00 4.000e+00]\n",
      " [4.000e+00 5.000e+00 0.000e+00 2.000e+00]\n",
      " [6.000e+00 6.247e+03 0.000e+00 3.000e+00]\n",
      " [1.000e+01 6.248e+03 0.000e+00 4.000e+00]\n",
      " [8.000e+00 6.246e+03 0.000e+00 5.000e+00]\n",
      " [9.000e+00 6.250e+03 0.000e+00 6.000e+00]\n",
      " [1.200e+01 6.251e+03 0.000e+00 7.000e+00]]\n"
     ]
    }
   ],
   "source": [
    "link_mat = linkage(h_data, method='ward')\n",
    "print(link_mat[0:10])"
   ]
  },
  {
   "cell_type": "code",
   "execution_count": 39,
   "metadata": {},
   "outputs": [
    {
     "data": {
      "image/png": "[encoded data removed]",
      "text/plain": [
       "<Figure size 1080x576 with 1 Axes>"
      ]
     },
     "metadata": {
      "needs_background": "light"
     },
     "output_type": "display_data"
    }
   ],
   "source": [
    "dendro = dendrogram(link_mat)\n",
    "\n",
    "for i,d,c in zip(dendro['icoord'], dendro['dcoord'], dendro['color_list']):\n",
    "    x = sum(i[1:3])/2\n",
    "    y = d[1]   \n",
    "    \n",
    "    if y > 20:\n",
    "        \n",
    "        plt.plot(x, y, 'o', c=c)\n",
    "        plt.annotate(\"%.3g\" % y, (x, y), xytext=(0, -5), textcoords='offset points', va='top', ha='center')\n",
    "        \n",
    "plt.axhline(y = 15)\n",
    "plt.title('Dendrogram', fontsize = 15)\n",
    "plt.xlabel('Index', fontsize = 10)\n",
    "plt.ylabel('Distance', fontsize = 10)\n",
    "plt.show()"
   ]
  },
  {
   "cell_type": "code",
   "execution_count": 40,
   "metadata": {},
   "outputs": [
    {
     "ename": "TypeError",
     "evalue": "'numpy.ndarray' object is not callable",
     "output_type": "error",
     "traceback": [
      "\u001b[0;31m---------------------------------------------------------------------------\u001b[0m",
      "\u001b[0;31mTypeError\u001b[0m                                 Traceback (most recent call last)",
      "\u001b[0;32m~/Desktop/ml3_proj/viz_silhouette.py\u001b[0m in \u001b[0;36m<module>\u001b[0;34m\u001b[0m\n\u001b[1;32m      1\u001b[0m \u001b[0mdistance_ec\u001b[0m \u001b[0;34m=\u001b[0m \u001b[0meuclidean_distances\u001b[0m\u001b[0;34m(\u001b[0m\u001b[0mh_data\u001b[0m\u001b[0;34m)\u001b[0m\u001b[0;34m\u001b[0m\u001b[0;34m\u001b[0m\u001b[0m\n\u001b[0;32m----> 2\u001b[0;31m \u001b[0mdist_array\u001b[0m \u001b[0;34m=\u001b[0m \u001b[0mdistance_ec\u001b[0m\u001b[0;34m(\u001b[0m\u001b[0mnp\u001b[0m\u001b[0;34m.\u001b[0m\u001b[0mtriu_indices\u001b[0m\u001b[0;34m(\u001b[0m\u001b[0;36m1000\u001b[0m\u001b[0;34m,\u001b[0m \u001b[0mk\u001b[0m \u001b[0;34m=\u001b[0m \u001b[0;36m1\u001b[0m\u001b[0;34m)\u001b[0m\u001b[0;34m)\u001b[0m\u001b[0;34m\u001b[0m\u001b[0;34m\u001b[0m\u001b[0m\n\u001b[0m\u001b[1;32m      3\u001b[0m \u001b[0mcoeff\u001b[0m\u001b[0;34m,\u001b[0m \u001b[0mcophenet_dist\u001b[0m \u001b[0;34m=\u001b[0m \u001b[0mcophenet\u001b[0m\u001b[0;34m(\u001b[0m\u001b[0mlink_mat\u001b[0m\u001b[0;34m,\u001b[0m \u001b[0mdist_array\u001b[0m\u001b[0;34m)\u001b[0m\u001b[0;34m\u001b[0m\u001b[0;34m\u001b[0m\u001b[0m\n\u001b[1;32m      4\u001b[0m \u001b[0mprint\u001b[0m\u001b[0;34m(\u001b[0m\u001b[0mcoeff\u001b[0m\u001b[0;34m)\u001b[0m\u001b[0;34m\u001b[0m\u001b[0;34m\u001b[0m\u001b[0m\n",
      "\u001b[0;31mTypeError\u001b[0m: 'numpy.ndarray' object is not callable"
     ]
    }
   ],
   "source": [
    "distance_ec = euclidean_distances(h_data)\n",
    "dist_array = distance_ec(np.triu_indices(1000, k = 1))\n",
    "coeff, cophenet_dist = cophenet(link_mat, dist_array)\n",
    "print(coeff)"
   ]
  },
  {
   "cell_type": "markdown",
   "metadata": {},
   "source": [
    "<a id='SSC'></a>\n",
    "#### 6.2.1 Silhouette Score Method"
   ]
  },
  {
   "cell_type": "code",
   "execution_count": 41,
   "metadata": {},
   "outputs": [
    {
     "data": {
      "image/png": "[encoded data removed]",
      "text/plain": [
       "<Figure size 1080x576 with 1 Axes>"
      ]
     },
     "metadata": {
      "needs_background": "light"
     },
     "output_type": "display_data"
    }
   ],
   "source": [
    "K = [2,3,4,5,6]\n",
    "silhouette_scores = [] \n",
    "\n",
    "for i in K:\n",
    "    model = AgglomerativeClustering(n_clusters = i) \n",
    "    silhouette_scores.append(silhouette_score(data_scaled, model.fit_predict(h_data))) \n",
    "\n",
    "plt.bar(K, silhouette_scores) \n",
    "plt.title('Silhouette Score for Values of K', fontsize = 15)\n",
    "plt.xlabel('Number of Clusters', fontsize = 10) \n",
    "plt.ylabel('Silhouette Scores', fontsize = 10)\n",
    "plt.show()"
   ]
  },
  {
   "cell_type": "code",
   "execution_count": 42,
   "metadata": {},
   "outputs": [
    {
     "data": {
      "text/plain": [
       "AgglomerativeClustering()"
      ]
     },
     "execution_count": 42,
     "metadata": {},
     "output_type": "execute_result"
    }
   ],
   "source": [
    "clusters = AgglomerativeClustering(n_clusters=2, linkage='ward')\n",
    "clusters.fit(data_scaled)"
   ]
  },
  {
   "cell_type": "code",
   "execution_count": 43,
   "metadata": {},
   "outputs": [],
   "source": [
    "data['hier_Cluster'] = clusters.labels_"
   ]
  },
  {
   "cell_type": "code",
   "execution_count": 129,
   "metadata": {},
   "outputs": [
    {
     "data": {
      "image/png": "[encoded data removed]",
      "text/plain": [
       "<Figure size 1080x576 with 1 Axes>"
      ]
     },
     "metadata": {
      "needs_background": "light"
     },
     "output_type": "display_data"
    }
   ],
   "source": [
    "sns.countplot(data = data, x = 'hier_Cluster')\n",
    "\n",
    "plt.title('Size of Cluster', fontsize = 10)\n",
    "plt.xlabel('Cluster', fontsize = 15)\n",
    "plt.ylabel('No. of Products', fontsize = 10)\n",
    "\n",
    "plt.show()"
   ]
  },
  {
   "cell_type": "code",
   "execution_count": 45,
   "metadata": {},
   "outputs": [
    {
     "data": {
      "image/png": "[encoded data removed]",
      "text/plain": [
       "<Figure size 1080x576 with 1 Axes>"
      ]
     },
     "metadata": {
      "needs_background": "light"
     },
     "output_type": "display_data"
    }
   ],
   "source": [
    "sns.scatterplot(x = 'Product_Id', y = 'reviews.rating', data = data, hue = 'hier_Cluster')\n",
    "\n",
    "plt.title('Hierarchical Clustering', fontsize = 15)\n",
    "plt.xlabel('Product_Id', fontsize = 10)\n",
    "plt.ylabel('number_of_reviews', fontsize = 10)\n",
    "\n",
    "plt.show()"
   ]
  },
  {
   "cell_type": "markdown",
   "metadata": {},
   "source": [
    "<a id='CA1'></a>\n",
    "#### 6.2.2 Analysis of Cluster 1"
   ]
  },
  {
   "cell_type": "code",
   "execution_count": 49,
   "metadata": {},
   "outputs": [
    {
     "data": {
      "text/plain": [
       "4320"
      ]
     },
     "execution_count": 49,
     "metadata": {},
     "output_type": "execute_result"
    }
   ],
   "source": [
    "data['hier_Cluster'].value_counts()[0]"
   ]
  },
  {
   "cell_type": "code",
   "execution_count": 50,
   "metadata": {},
   "outputs": [
    {
     "data": {
      "text/html": [
       "<div>\n",
       "<style scoped>\n",
       "    .dataframe tbody tr th:only-of-type {\n",
       "        vertical-align: middle;\n",
       "    }\n",
       "\n",
       "    .dataframe tbody tr th {\n",
       "        vertical-align: top;\n",
       "    }\n",
       "\n",
       "    .dataframe thead th {\n",
       "        text-align: right;\n",
       "    }\n",
       "</style>\n",
       "<table border=\"1\" class=\"dataframe\">\n",
       "  <thead>\n",
       "    <tr style=\"text-align: right;\">\n",
       "      <th></th>\n",
       "      <th>reviews.numHelpful</th>\n",
       "      <th>reviews.rating</th>\n",
       "      <th>user_Id</th>\n",
       "      <th>Product_Id</th>\n",
       "      <th>kmeans_cluster</th>\n",
       "      <th>hier_Cluster</th>\n",
       "    </tr>\n",
       "  </thead>\n",
       "  <tbody>\n",
       "    <tr>\n",
       "      <th>count</th>\n",
       "      <td>4320.000000</td>\n",
       "      <td>4320.000000</td>\n",
       "      <td>4320.000000</td>\n",
       "      <td>4320.000000</td>\n",
       "      <td>4320.000000</td>\n",
       "      <td>4320.000000</td>\n",
       "    </tr>\n",
       "    <tr>\n",
       "      <th>mean</th>\n",
       "      <td>0.473380</td>\n",
       "      <td>4.969969</td>\n",
       "      <td>2736.945139</td>\n",
       "      <td>25.698380</td>\n",
       "      <td>2.297222</td>\n",
       "      <td>0.000000</td>\n",
       "    </tr>\n",
       "    <tr>\n",
       "      <th>std</th>\n",
       "      <td>0.601561</td>\n",
       "      <td>0.162486</td>\n",
       "      <td>1586.606422</td>\n",
       "      <td>13.573806</td>\n",
       "      <td>2.118091</td>\n",
       "      <td>0.000000</td>\n",
       "    </tr>\n",
       "    <tr>\n",
       "      <th>min</th>\n",
       "      <td>0.000000</td>\n",
       "      <td>3.000000</td>\n",
       "      <td>1.000000</td>\n",
       "      <td>0.000000</td>\n",
       "      <td>0.000000</td>\n",
       "      <td>0.000000</td>\n",
       "    </tr>\n",
       "    <tr>\n",
       "      <th>25%</th>\n",
       "      <td>0.000000</td>\n",
       "      <td>5.000000</td>\n",
       "      <td>1424.750000</td>\n",
       "      <td>13.000000</td>\n",
       "      <td>0.000000</td>\n",
       "      <td>0.000000</td>\n",
       "    </tr>\n",
       "    <tr>\n",
       "      <th>50%</th>\n",
       "      <td>0.000000</td>\n",
       "      <td>5.000000</td>\n",
       "      <td>2710.500000</td>\n",
       "      <td>29.000000</td>\n",
       "      <td>3.000000</td>\n",
       "      <td>0.000000</td>\n",
       "    </tr>\n",
       "    <tr>\n",
       "      <th>75%</th>\n",
       "      <td>1.000000</td>\n",
       "      <td>5.000000</td>\n",
       "      <td>4066.250000</td>\n",
       "      <td>35.000000</td>\n",
       "      <td>5.000000</td>\n",
       "      <td>0.000000</td>\n",
       "    </tr>\n",
       "    <tr>\n",
       "      <th>max</th>\n",
       "      <td>2.000000</td>\n",
       "      <td>5.000000</td>\n",
       "      <td>5580.000000</td>\n",
       "      <td>49.000000</td>\n",
       "      <td>5.000000</td>\n",
       "      <td>0.000000</td>\n",
       "    </tr>\n",
       "  </tbody>\n",
       "</table>\n",
       "</div>"
      ],
      "text/plain": [
       "       reviews.numHelpful  reviews.rating     user_Id  Product_Id  \\\n",
       "count         4320.000000     4320.000000 4320.000000 4320.000000   \n",
       "mean             0.473380        4.969969 2736.945139   25.698380   \n",
       "std              0.601561        0.162486 1586.606422   13.573806   \n",
       "min              0.000000        3.000000    1.000000    0.000000   \n",
       "25%              0.000000        5.000000 1424.750000   13.000000   \n",
       "50%              0.000000        5.000000 2710.500000   29.000000   \n",
       "75%              1.000000        5.000000 4066.250000   35.000000   \n",
       "max              2.000000        5.000000 5580.000000   49.000000   \n",
       "\n",
       "       kmeans_cluster  hier_Cluster  \n",
       "count     4320.000000   4320.000000  \n",
       "mean         2.297222      0.000000  \n",
       "std          2.118091      0.000000  \n",
       "min          0.000000      0.000000  \n",
       "25%          0.000000      0.000000  \n",
       "50%          3.000000      0.000000  \n",
       "75%          5.000000      0.000000  \n",
       "max          5.000000      0.000000  "
      ]
     },
     "execution_count": 50,
     "metadata": {},
     "output_type": "execute_result"
    }
   ],
   "source": [
    "data[data.hier_Cluster==0].describe()"
   ]
  },
  {
   "cell_type": "code",
   "execution_count": 51,
   "metadata": {},
   "outputs": [
    {
     "data": {
      "text/html": [
       "<div>\n",
       "<style scoped>\n",
       "    .dataframe tbody tr th:only-of-type {\n",
       "        vertical-align: middle;\n",
       "    }\n",
       "\n",
       "    .dataframe tbody tr th {\n",
       "        vertical-align: top;\n",
       "    }\n",
       "\n",
       "    .dataframe thead th {\n",
       "        text-align: right;\n",
       "    }\n",
       "</style>\n",
       "<table border=\"1\" class=\"dataframe\">\n",
       "  <thead>\n",
       "    <tr style=\"text-align: right;\">\n",
       "      <th></th>\n",
       "      <th>id</th>\n",
       "      <th>brand</th>\n",
       "      <th>categories</th>\n",
       "      <th>name</th>\n",
       "      <th>reviews.text</th>\n",
       "      <th>reviews.title</th>\n",
       "      <th>reviews.username</th>\n",
       "    </tr>\n",
       "  </thead>\n",
       "  <tbody>\n",
       "    <tr>\n",
       "      <th>count</th>\n",
       "      <td>4320</td>\n",
       "      <td>4320</td>\n",
       "      <td>4320</td>\n",
       "      <td>4320</td>\n",
       "      <td>4320</td>\n",
       "      <td>4320</td>\n",
       "      <td>4320</td>\n",
       "    </tr>\n",
       "    <tr>\n",
       "      <th>unique</th>\n",
       "      <td>50</td>\n",
       "      <td>38</td>\n",
       "      <td>49</td>\n",
       "      <td>50</td>\n",
       "      <td>4259</td>\n",
       "      <td>3189</td>\n",
       "      <td>3913</td>\n",
       "    </tr>\n",
       "    <tr>\n",
       "      <th>top</th>\n",
       "      <td>AVpgfP3DilAPnD_xtG3M</td>\n",
       "      <td>Logitech</td>\n",
       "      <td>Electronics,Accessories &amp; Supplies,Audio &amp; Vid...</td>\n",
       "      <td>Logitech 915-000224  Harmony Ultimate One 15-D...</td>\n",
       "      <td>Using this with a Sony BD player and Onkyo 5.1...</td>\n",
       "      <td>Five Stars</td>\n",
       "      <td>ByAmazon Customer</td>\n",
       "    </tr>\n",
       "    <tr>\n",
       "      <th>freq</th>\n",
       "      <td>758</td>\n",
       "      <td>835</td>\n",
       "      <td>758</td>\n",
       "      <td>758</td>\n",
       "      <td>7</td>\n",
       "      <td>133</td>\n",
       "      <td>36</td>\n",
       "    </tr>\n",
       "  </tbody>\n",
       "</table>\n",
       "</div>"
      ],
      "text/plain": [
       "                          id     brand  \\\n",
       "count                   4320      4320   \n",
       "unique                    50        38   \n",
       "top     AVpgfP3DilAPnD_xtG3M  Logitech   \n",
       "freq                     758       835   \n",
       "\n",
       "                                               categories  \\\n",
       "count                                                4320   \n",
       "unique                                                 49   \n",
       "top     Electronics,Accessories & Supplies,Audio & Vid...   \n",
       "freq                                                  758   \n",
       "\n",
       "                                                     name  \\\n",
       "count                                                4320   \n",
       "unique                                                 50   \n",
       "top     Logitech 915-000224  Harmony Ultimate One 15-D...   \n",
       "freq                                                  758   \n",
       "\n",
       "                                             reviews.text reviews.title  \\\n",
       "count                                                4320          4320   \n",
       "unique                                               4259          3189   \n",
       "top     Using this with a Sony BD player and Onkyo 5.1...    Five Stars   \n",
       "freq                                                    7           133   \n",
       "\n",
       "         reviews.username  \n",
       "count                4320  \n",
       "unique               3913  \n",
       "top     ByAmazon Customer  \n",
       "freq                   36  "
      ]
     },
     "execution_count": 51,
     "metadata": {},
     "output_type": "execute_result"
    }
   ],
   "source": [
    "data[data.hier_Cluster==0].describe(include = object)"
   ]
  },
  {
   "cell_type": "markdown",
   "metadata": {},
   "source": [
    "**interpretation :**"
   ]
  },
  {
   "cell_type": "markdown",
   "metadata": {},
   "source": [
    "<a id='CA2'></a>\n",
    "#### 6.2.3 Analysis of Cluster 2"
   ]
  },
  {
   "cell_type": "code",
   "execution_count": 52,
   "metadata": {},
   "outputs": [
    {
     "data": {
      "text/plain": [
       "1923"
      ]
     },
     "execution_count": 52,
     "metadata": {},
     "output_type": "execute_result"
    }
   ],
   "source": [
    "data['hier_Cluster'].value_counts()[1]"
   ]
  },
  {
   "cell_type": "code",
   "execution_count": 54,
   "metadata": {},
   "outputs": [
    {
     "data": {
      "text/html": [
       "<div>\n",
       "<style scoped>\n",
       "    .dataframe tbody tr th:only-of-type {\n",
       "        vertical-align: middle;\n",
       "    }\n",
       "\n",
       "    .dataframe tbody tr th {\n",
       "        vertical-align: top;\n",
       "    }\n",
       "\n",
       "    .dataframe thead th {\n",
       "        text-align: right;\n",
       "    }\n",
       "</style>\n",
       "<table border=\"1\" class=\"dataframe\">\n",
       "  <thead>\n",
       "    <tr style=\"text-align: right;\">\n",
       "      <th></th>\n",
       "      <th>reviews.numHelpful</th>\n",
       "      <th>reviews.rating</th>\n",
       "      <th>user_Id</th>\n",
       "      <th>Product_Id</th>\n",
       "      <th>kmeans_cluster</th>\n",
       "      <th>hier_Cluster</th>\n",
       "    </tr>\n",
       "  </thead>\n",
       "  <tbody>\n",
       "    <tr>\n",
       "      <th>count</th>\n",
       "      <td>1923.000000</td>\n",
       "      <td>1923.000000</td>\n",
       "      <td>1923.000000</td>\n",
       "      <td>1923.000000</td>\n",
       "      <td>1923.000000</td>\n",
       "      <td>1923.000000</td>\n",
       "    </tr>\n",
       "    <tr>\n",
       "      <th>mean</th>\n",
       "      <td>0.427977</td>\n",
       "      <td>3.795554</td>\n",
       "      <td>2714.573063</td>\n",
       "      <td>26.392096</td>\n",
       "      <td>2.664587</td>\n",
       "      <td>1.000000</td>\n",
       "    </tr>\n",
       "    <tr>\n",
       "      <th>std</th>\n",
       "      <td>0.506346</td>\n",
       "      <td>0.409857</td>\n",
       "      <td>1631.149520</td>\n",
       "      <td>12.047564</td>\n",
       "      <td>1.089792</td>\n",
       "      <td>0.000000</td>\n",
       "    </tr>\n",
       "    <tr>\n",
       "      <th>min</th>\n",
       "      <td>0.000000</td>\n",
       "      <td>3.000000</td>\n",
       "      <td>0.000000</td>\n",
       "      <td>0.000000</td>\n",
       "      <td>0.000000</td>\n",
       "      <td>1.000000</td>\n",
       "    </tr>\n",
       "    <tr>\n",
       "      <th>25%</th>\n",
       "      <td>0.000000</td>\n",
       "      <td>4.000000</td>\n",
       "      <td>1237.000000</td>\n",
       "      <td>20.000000</td>\n",
       "      <td>1.000000</td>\n",
       "      <td>1.000000</td>\n",
       "    </tr>\n",
       "    <tr>\n",
       "      <th>50%</th>\n",
       "      <td>0.000000</td>\n",
       "      <td>4.000000</td>\n",
       "      <td>2674.000000</td>\n",
       "      <td>29.000000</td>\n",
       "      <td>3.000000</td>\n",
       "      <td>1.000000</td>\n",
       "    </tr>\n",
       "    <tr>\n",
       "      <th>75%</th>\n",
       "      <td>1.000000</td>\n",
       "      <td>4.000000</td>\n",
       "      <td>4143.000000</td>\n",
       "      <td>31.000000</td>\n",
       "      <td>3.000000</td>\n",
       "      <td>1.000000</td>\n",
       "    </tr>\n",
       "    <tr>\n",
       "      <th>max</th>\n",
       "      <td>2.000000</td>\n",
       "      <td>4.526923</td>\n",
       "      <td>5581.000000</td>\n",
       "      <td>49.000000</td>\n",
       "      <td>4.000000</td>\n",
       "      <td>1.000000</td>\n",
       "    </tr>\n",
       "  </tbody>\n",
       "</table>\n",
       "</div>"
      ],
      "text/plain": [
       "       reviews.numHelpful  reviews.rating     user_Id  Product_Id  \\\n",
       "count         1923.000000     1923.000000 1923.000000 1923.000000   \n",
       "mean             0.427977        3.795554 2714.573063   26.392096   \n",
       "std              0.506346        0.409857 1631.149520   12.047564   \n",
       "min              0.000000        3.000000    0.000000    0.000000   \n",
       "25%              0.000000        4.000000 1237.000000   20.000000   \n",
       "50%              0.000000        4.000000 2674.000000   29.000000   \n",
       "75%              1.000000        4.000000 4143.000000   31.000000   \n",
       "max              2.000000        4.526923 5581.000000   49.000000   \n",
       "\n",
       "       kmeans_cluster  hier_Cluster  \n",
       "count     1923.000000   1923.000000  \n",
       "mean         2.664587      1.000000  \n",
       "std          1.089792      0.000000  \n",
       "min          0.000000      1.000000  \n",
       "25%          1.000000      1.000000  \n",
       "50%          3.000000      1.000000  \n",
       "75%          3.000000      1.000000  \n",
       "max          4.000000      1.000000  "
      ]
     },
     "execution_count": 54,
     "metadata": {},
     "output_type": "execute_result"
    }
   ],
   "source": [
    "data[data.hier_Cluster==1].describe()"
   ]
  },
  {
   "cell_type": "code",
   "execution_count": 55,
   "metadata": {},
   "outputs": [
    {
     "data": {
      "text/html": [
       "<div>\n",
       "<style scoped>\n",
       "    .dataframe tbody tr th:only-of-type {\n",
       "        vertical-align: middle;\n",
       "    }\n",
       "\n",
       "    .dataframe tbody tr th {\n",
       "        vertical-align: top;\n",
       "    }\n",
       "\n",
       "    .dataframe thead th {\n",
       "        text-align: right;\n",
       "    }\n",
       "</style>\n",
       "<table border=\"1\" class=\"dataframe\">\n",
       "  <thead>\n",
       "    <tr style=\"text-align: right;\">\n",
       "      <th></th>\n",
       "      <th>id</th>\n",
       "      <th>brand</th>\n",
       "      <th>categories</th>\n",
       "      <th>name</th>\n",
       "      <th>reviews.text</th>\n",
       "      <th>reviews.title</th>\n",
       "      <th>reviews.username</th>\n",
       "    </tr>\n",
       "  </thead>\n",
       "  <tbody>\n",
       "    <tr>\n",
       "      <th>count</th>\n",
       "      <td>1923</td>\n",
       "      <td>1923</td>\n",
       "      <td>1923</td>\n",
       "      <td>1923</td>\n",
       "      <td>1923</td>\n",
       "      <td>1923</td>\n",
       "      <td>1923</td>\n",
       "    </tr>\n",
       "    <tr>\n",
       "      <th>unique</th>\n",
       "      <td>43</td>\n",
       "      <td>34</td>\n",
       "      <td>43</td>\n",
       "      <td>43</td>\n",
       "      <td>1909</td>\n",
       "      <td>1632</td>\n",
       "      <td>1813</td>\n",
       "    </tr>\n",
       "    <tr>\n",
       "      <th>top</th>\n",
       "      <td>AVpgfP3DilAPnD_xtG3M</td>\n",
       "      <td>Logitech</td>\n",
       "      <td>Electronics,Accessories &amp; Supplies,Audio &amp; Vid...</td>\n",
       "      <td>Logitech 915-000224  Harmony Ultimate One 15-D...</td>\n",
       "      <td>Between the cats' tendency to treat the camera...</td>\n",
       "      <td>Four Stars</td>\n",
       "      <td>ByAmazon Customer</td>\n",
       "    </tr>\n",
       "    <tr>\n",
       "      <th>freq</th>\n",
       "      <td>573</td>\n",
       "      <td>583</td>\n",
       "      <td>573</td>\n",
       "      <td>573</td>\n",
       "      <td>4</td>\n",
       "      <td>34</td>\n",
       "      <td>11</td>\n",
       "    </tr>\n",
       "  </tbody>\n",
       "</table>\n",
       "</div>"
      ],
      "text/plain": [
       "                          id     brand  \\\n",
       "count                   1923      1923   \n",
       "unique                    43        34   \n",
       "top     AVpgfP3DilAPnD_xtG3M  Logitech   \n",
       "freq                     573       583   \n",
       "\n",
       "                                               categories  \\\n",
       "count                                                1923   \n",
       "unique                                                 43   \n",
       "top     Electronics,Accessories & Supplies,Audio & Vid...   \n",
       "freq                                                  573   \n",
       "\n",
       "                                                     name  \\\n",
       "count                                                1923   \n",
       "unique                                                 43   \n",
       "top     Logitech 915-000224  Harmony Ultimate One 15-D...   \n",
       "freq                                                  573   \n",
       "\n",
       "                                             reviews.text reviews.title  \\\n",
       "count                                                1923          1923   \n",
       "unique                                               1909          1632   \n",
       "top     Between the cats' tendency to treat the camera...    Four Stars   \n",
       "freq                                                    4            34   \n",
       "\n",
       "         reviews.username  \n",
       "count                1923  \n",
       "unique               1813  \n",
       "top     ByAmazon Customer  \n",
       "freq                   11  "
      ]
     },
     "execution_count": 55,
     "metadata": {},
     "output_type": "execute_result"
    }
   ],
   "source": [
    "data[data.hier_Cluster==1].describe(include = object)"
   ]
  },
  {
   "cell_type": "markdown",
   "metadata": {},
   "source": [
    "**interpretation :**"
   ]
  },
  {
   "cell_type": "markdown",
   "metadata": {},
   "source": [
    "<a id='DBSCAN'></a>\n",
    "### 6.3 DBSCAN"
   ]
  },
  {
   "cell_type": "code",
   "execution_count": 158,
   "metadata": {},
   "outputs": [
    {
     "data": {
      "text/plain": [
       "DBSCAN(eps=0.8, min_samples=15)"
      ]
     },
     "execution_count": 158,
     "metadata": {},
     "output_type": "execute_result"
    }
   ],
   "source": [
    "model = DBSCAN(eps = 0.8, min_samples = 15)\n",
    "model.fit(data_scaled)"
   ]
  },
  {
   "cell_type": "code",
   "execution_count": 159,
   "metadata": {},
   "outputs": [
    {
     "data": {
      "text/plain": [
       "{0}"
      ]
     },
     "execution_count": 159,
     "metadata": {},
     "output_type": "execute_result"
    }
   ],
   "source": [
    "(set(model.labels_))"
   ]
  },
  {
   "cell_type": "code",
   "execution_count": 160,
   "metadata": {},
   "outputs": [],
   "source": [
    "data['Cluster_DBSCAN'] = model.labels_"
   ]
  },
  {
   "cell_type": "code",
   "execution_count": 161,
   "metadata": {},
   "outputs": [
    {
     "data": {
      "text/plain": [
       "0    6243\n",
       "Name: Cluster_DBSCAN, dtype: int64"
      ]
     },
     "execution_count": 161,
     "metadata": {},
     "output_type": "execute_result"
    }
   ],
   "source": [
    "data['Cluster_DBSCAN'].value_counts()"
   ]
  },
  {
   "cell_type": "code",
   "execution_count": 162,
   "metadata": {},
   "outputs": [
    {
     "data": {
      "image/png": "[encoded data removed]",
      "text/plain": [
       "<Figure size 1080x576 with 1 Axes>"
      ]
     },
     "metadata": {
      "needs_background": "light"
     },
     "output_type": "display_data"
    }
   ],
   "source": [
    "sns.countplot(data = data, x = 'Cluster_DBSCAN')\n",
    "\n",
    "plt.title('Size of Cluster', fontsize = 15)\n",
    "plt.xlabel('Cluster', fontsize = 15)\n",
    "plt.ylabel('No. of Products', fontsize = 15)\n",
    "plt.show()"
   ]
  },
  {
   "cell_type": "code",
   "execution_count": 163,
   "metadata": {},
   "outputs": [
    {
     "data": {
      "image/png": "[encoded data removed]",
      "text/plain": [
       "<Figure size 954.5x864 with 1 Axes>"
      ]
     },
     "metadata": {
      "needs_background": "light"
     },
     "output_type": "display_data"
    }
   ],
   "source": [
    "sns.lmplot(x = 'Product_Id', y = 'reviews.rating', data = data, hue = 'Cluster_DBSCAN', markers = ['o'], \n",
    "           fit_reg = False, size = 12)\n",
    "\n",
    "plt.title('DBSCABN (eps = 0.8, min_samples = 15) ', fontsize = 15)\n",
    "plt.xlabel('Sales', fontsize = 10)\n",
    "plt.ylabel('Profit', fontsize = 10)\n",
    "\n",
    "plt.show()"
   ]
  },
  {
   "cell_type": "code",
   "execution_count": 164,
   "metadata": {},
   "outputs": [
    {
     "data": {
      "text/plain": [
       "Logitech 915-000224  Harmony Ultimate One 15-Device Universal Infrared Remote with Customizable Touch Screen Control - Black         1331\n",
       "Sony SRSXB30/BLK XB30 Portable Wireless Speaker with Bluetooth                                                                        462\n",
       "Microsoft Surface Pro 4 Type Cover with Fingerprint ID                                                                                373\n",
       "Everest Elite 700 Around-Ear Wireless Headphones (White)                                                                              299\n",
       "Slingbox M2                                                                                                                           299\n",
       "SAMSUNG 40'' Class FHD (1080P) Smart LED TV (UN40M5300)                                                                               295\n",
       "Alpine - 6-1/2\" 2-Way Coaxial Car Speakers with Polypropylene Cones (Pair) - Black                                                    246\n",
       "PNY Anarchy 16GB Kit (2x8GB) DDR4 2400MHz (PC4-19200) CL15 Desktop Memory (BLUE) - MD16GK2D4240015AB                                  177\n",
       "Sony SRSHG1/BLK Hi-Res Wireless Speaker- Charcoal black                                                                               156\n",
       "Sanus VLF410B1 10-Inch Super Slim Full-Motion Mount for 37 - 84 Inches TV's                                                           152\n",
       "Nighthawk AC1900 Dual-Band Wi-Fi USB Adapter                                                                                          141\n",
       "JVC KD-X320BTS Apple iPod and Android Digital Media Receiver with Bluetooth                                                           140\n",
       "Verizon MiFi 6620L Jetpack 4G LTE Mobile Hotspot (Verizon Wireless)                                                                   139\n",
       "iHome Rechargeable Splash Proof Stereo Bluetooth Speaker - Black (IBT33BC)                                                            139\n",
       "Flipside 300 Backpack (Black)                                                                                                         125\n",
       "Sony LBT-GPX555 Mini-System with Bluetooth and NFC                                                                                    121\n",
       "Corsair CMSA8GX3M2A1066C7 Apple 8 GB Dual Channel Kit DDR3 1066 (PC3 8500) 204-Pin DDR3 Laptop SO-DIMM Memory 1.5V                    107\n",
       "Alpine                                                                                                                                106\n",
       "XPS 8920 Tower Desktop Computer                                                                                                       105\n",
       "AW6500 All-Weather Outdoor Speaker (White, Single)                                                                                    105\n",
       "Sony Mini Digital Video Cassettes - DVC - 1 Hour                                                                                      100\n",
       "Air-Fi Runaway AF32 Stereo Bluetooth Wireless Headphones with Hidden Microphone (White)                                                97\n",
       "JBL - 6\" x 8\" 2-Way Coaxial Car Speakers with Polypropylene Cones (Pair) - Black                                                       94\n",
       "Logitech G403 Wireless Gaming Mouse with High Performance Gaming Sensor                                                                87\n",
       "Ultimate Ears MEGABLAST Portable Wi-Fi/Bluetooth Speaker with hands-free Amazon Alexa voice control (waterproof) - Graphite Black      82\n",
       "SiriusXM SXEZR1V1 XM Onyx EZR Satellite Radio Receiver with Vehicle Kit                                                                79\n",
       "Samsung Universal 3100mAh Portable External Battery Charger - White                                                                    76\n",
       "NS-SP1800BL 5.1-Channel Home Theater System (Black)                                                                                    71\n",
       "Bowers & Wilkins P7 Wired Over Ear Headphones                                                                                          66\n",
       "SRS-ZR7 Wireless Speaker                                                                                                               62\n",
       "Boytone - 2500W 2.1-Ch. Home Theater System - Black Diamond                                                                            61\n",
       "Sony MEXM100BT 160W RMS Marine CD Receiver with Bluetooth (Black) and SiriusXM Ready                                                   59\n",
       "2TB Red 5400 rpm SATA III 3.5 Internal NAS HDD                                                                                         49\n",
       "Motorola Wi-Fi Pet Video Camera                                                                                                        41\n",
       "Midland Weather Alert Radio, 1.0 CT                                                                                                    38\n",
       "Lenovo - AC Adapter for Select Lenovo Yoga Laptops - Black                                                                             37\n",
       "Travel RockStar 3-in-1 2A USB and Dual-Outlet Wall Charger with Internal 3000mAh Battery Pack                                          31\n",
       "NS-IW480CWH In-Ceiling 8 Natural Sound Three-Way Speaker System (Pair)                                                                 25\n",
       "Acoustimass 6 Series V Home Theater Speaker System (Black)                                                                             18\n",
       "Toshiba - 3TB Internal Serial ATA III Hard Drive for Desktops                                                                          15\n",
       "CRX-322 CD Receiver                                                                                                                     9\n",
       "Clarity - Super-Loud Phone Ringer - White                                                                                               8\n",
       "Toshiba Micro Component Speaker System: Wireless Bluetooth Speaker Sound System with FM                                                 5\n",
       "Round LCD/Projector Ceiling Plate - Black                                                                                               4\n",
       "Kicker 41IK5BT2V2 Amphitheater High-Performance Audio System with Bluetooth, Black                                                      3\n",
       "Power Acoustik - Gothic Series 10\" Dual-Voice-Coil 2-Ohm Subwoofer - Black                                                              3\n",
       "The Rebel BT On-Ear Wireless Bluetooth Headphones (Black)                                                                               2\n",
       "DreamWave - Tremor Portable Bluetooth Speaker - Green,Black                                                                             1\n",
       "Prime Three-Way Center Channel Speaker (Premium Black Ash)                                                                              1\n",
       "House of Marley EM-DH003-PS TTR Noise-Cancelling Over-Ear Headphones (Black)                                                            1\n",
       "Name: name, dtype: int64"
      ]
     },
     "execution_count": 164,
     "metadata": {},
     "output_type": "execute_result"
    }
   ],
   "source": [
    "data[data.Cluster_DBSCAN==0]['name'].value_counts()"
   ]
  },
  {
   "cell_type": "code",
   "execution_count": 59,
   "metadata": {},
   "outputs": [
    {
     "data": {
      "text/plain": [
       "Series([], Name: name, dtype: int64)"
      ]
     },
     "execution_count": 59,
     "metadata": {},
     "output_type": "execute_result"
    }
   ],
   "source": [
    "data[data.Cluster_DBSCAN==-1]['name'].value_counts()"
   ]
  },
  {
   "cell_type": "markdown",
   "metadata": {},
   "source": [
    "<a id='BRS'></a>\n",
    "## 7. Building Recommendation Systems "
   ]
  },
  {
   "cell_type": "markdown",
   "metadata": {},
   "source": [
    "<a id='PB'></a>\n",
    "### 7.1 Popularity Based Recommendation"
   ]
  },
  {
   "cell_type": "code",
   "execution_count": 60,
   "metadata": {},
   "outputs": [
    {
     "data": {
      "text/html": [
       "<div>\n",
       "<style scoped>\n",
       "    .dataframe tbody tr th:only-of-type {\n",
       "        vertical-align: middle;\n",
       "    }\n",
       "\n",
       "    .dataframe tbody tr th {\n",
       "        vertical-align: top;\n",
       "    }\n",
       "\n",
       "    .dataframe thead th {\n",
       "        text-align: right;\n",
       "    }\n",
       "</style>\n",
       "<table border=\"1\" class=\"dataframe\">\n",
       "  <thead>\n",
       "    <tr style=\"text-align: right;\">\n",
       "      <th></th>\n",
       "      <th>reviews.rating</th>\n",
       "    </tr>\n",
       "    <tr>\n",
       "      <th>name</th>\n",
       "      <th></th>\n",
       "    </tr>\n",
       "  </thead>\n",
       "  <tbody>\n",
       "    <tr>\n",
       "      <th>Toshiba Micro Component Speaker System: Wireless Bluetooth Speaker Sound System with FM</th>\n",
       "      <td>5.000000</td>\n",
       "    </tr>\n",
       "    <tr>\n",
       "      <th>Prime Three-Way Center Channel Speaker (Premium Black Ash)</th>\n",
       "      <td>5.000000</td>\n",
       "    </tr>\n",
       "    <tr>\n",
       "      <th>Clarity - Super-Loud Phone Ringer - White</th>\n",
       "      <td>5.000000</td>\n",
       "    </tr>\n",
       "    <tr>\n",
       "      <th>DreamWave - Tremor Portable Bluetooth Speaker - Green,Black</th>\n",
       "      <td>5.000000</td>\n",
       "    </tr>\n",
       "    <tr>\n",
       "      <th>Kicker 41IK5BT2V2 Amphitheater High-Performance Audio System with Bluetooth, Black</th>\n",
       "      <td>5.000000</td>\n",
       "    </tr>\n",
       "    <tr>\n",
       "      <th>House of Marley EM-DH003-PS TTR Noise-Cancelling Over-Ear Headphones (Black)</th>\n",
       "      <td>5.000000</td>\n",
       "    </tr>\n",
       "    <tr>\n",
       "      <th>AW6500 All-Weather Outdoor Speaker (White, Single)</th>\n",
       "      <td>4.902646</td>\n",
       "    </tr>\n",
       "    <tr>\n",
       "      <th>Logitech G403 Wireless Gaming Mouse with High Performance Gaming Sensor</th>\n",
       "      <td>4.862069</td>\n",
       "    </tr>\n",
       "    <tr>\n",
       "      <th>Acoustimass 6 Series V Home Theater Speaker System (Black)</th>\n",
       "      <td>4.833333</td>\n",
       "    </tr>\n",
       "    <tr>\n",
       "      <th>Sony Mini Digital Video Cassettes - DVC - 1 Hour</th>\n",
       "      <td>4.830000</td>\n",
       "    </tr>\n",
       "    <tr>\n",
       "      <th>Corsair CMSA8GX3M2A1066C7 Apple 8 GB Dual Channel Kit DDR3 1066 (PC3 8500) 204-Pin DDR3 Laptop SO-DIMM Memory 1.5V</th>\n",
       "      <td>4.822430</td>\n",
       "    </tr>\n",
       "    <tr>\n",
       "      <th>2TB Red 5400 rpm SATA III 3.5 Internal NAS HDD</th>\n",
       "      <td>4.816327</td>\n",
       "    </tr>\n",
       "    <tr>\n",
       "      <th>Bowers &amp; Wilkins P7 Wired Over Ear Headphones</th>\n",
       "      <td>4.803030</td>\n",
       "    </tr>\n",
       "    <tr>\n",
       "      <th>PNY Anarchy 16GB Kit (2x8GB) DDR4 2400MHz (PC4-19200) CL15 Desktop Memory (BLUE) - MD16GK2D4240015AB</th>\n",
       "      <td>4.796610</td>\n",
       "    </tr>\n",
       "    <tr>\n",
       "      <th>JBL - 6\" x 8\" 2-Way Coaxial Car Speakers with Polypropylene Cones (Pair) - Black</th>\n",
       "      <td>4.765957</td>\n",
       "    </tr>\n",
       "    <tr>\n",
       "      <th>NS-SP1800BL 5.1-Channel Home Theater System (Black)</th>\n",
       "      <td>4.761298</td>\n",
       "    </tr>\n",
       "    <tr>\n",
       "      <th>Toshiba - 3TB Internal Serial ATA III Hard Drive for Desktops</th>\n",
       "      <td>4.733333</td>\n",
       "    </tr>\n",
       "    <tr>\n",
       "      <th>Lenovo - AC Adapter for Select Lenovo Yoga Laptops - Black</th>\n",
       "      <td>4.726834</td>\n",
       "    </tr>\n",
       "    <tr>\n",
       "      <th>Flipside 300 Backpack (Black)</th>\n",
       "      <td>4.724092</td>\n",
       "    </tr>\n",
       "    <tr>\n",
       "      <th>XPS 8920 Tower Desktop Computer</th>\n",
       "      <td>4.714286</td>\n",
       "    </tr>\n",
       "    <tr>\n",
       "      <th>Sony LBT-GPX555 Mini-System with Bluetooth and NFC</th>\n",
       "      <td>4.712112</td>\n",
       "    </tr>\n",
       "    <tr>\n",
       "      <th>Microsoft Surface Pro 4 Type Cover with Fingerprint ID</th>\n",
       "      <td>4.711187</td>\n",
       "    </tr>\n",
       "    <tr>\n",
       "      <th>Midland Weather Alert Radio, 1.0 CT</th>\n",
       "      <td>4.710526</td>\n",
       "    </tr>\n",
       "    <tr>\n",
       "      <th>Sony SRSXB30/BLK XB30 Portable Wireless Speaker with Bluetooth</th>\n",
       "      <td>4.705628</td>\n",
       "    </tr>\n",
       "    <tr>\n",
       "      <th>NS-IW480CWH In-Ceiling 8 Natural Sound Three-Way Speaker System (Pair)</th>\n",
       "      <td>4.694261</td>\n",
       "    </tr>\n",
       "    <tr>\n",
       "      <th>Alpine - 6-1/2\" 2-Way Coaxial Car Speakers with Polypropylene Cones (Pair) - Black</th>\n",
       "      <td>4.671826</td>\n",
       "    </tr>\n",
       "    <tr>\n",
       "      <th>CRX-322 CD Receiver</th>\n",
       "      <td>4.669565</td>\n",
       "    </tr>\n",
       "    <tr>\n",
       "      <th>Nighthawk AC1900 Dual-Band Wi-Fi USB Adapter</th>\n",
       "      <td>4.666667</td>\n",
       "    </tr>\n",
       "    <tr>\n",
       "      <th>Power Acoustik - Gothic Series 10\" Dual-Voice-Coil 2-Ohm Subwoofer - Black</th>\n",
       "      <td>4.666667</td>\n",
       "    </tr>\n",
       "    <tr>\n",
       "      <th>SiriusXM SXEZR1V1 XM Onyx EZR Satellite Radio Receiver with Vehicle Kit</th>\n",
       "      <td>4.658228</td>\n",
       "    </tr>\n",
       "    <tr>\n",
       "      <th>Samsung Universal 3100mAh Portable External Battery Charger - White</th>\n",
       "      <td>4.652068</td>\n",
       "    </tr>\n",
       "    <tr>\n",
       "      <th>SAMSUNG 40'' Class FHD (1080P) Smart LED TV (UN40M5300)</th>\n",
       "      <td>4.650847</td>\n",
       "    </tr>\n",
       "    <tr>\n",
       "      <th>JVC KD-X320BTS Apple iPod and Android Digital Media Receiver with Bluetooth</th>\n",
       "      <td>4.641684</td>\n",
       "    </tr>\n",
       "    <tr>\n",
       "      <th>Boytone - 2500W 2.1-Ch. Home Theater System - Black Diamond</th>\n",
       "      <td>4.633224</td>\n",
       "    </tr>\n",
       "    <tr>\n",
       "      <th>Sanus VLF410B1 10-Inch Super Slim Full-Motion Mount for 37 - 84 Inches TV's</th>\n",
       "      <td>4.585526</td>\n",
       "    </tr>\n",
       "    <tr>\n",
       "      <th>Air-Fi Runaway AF32 Stereo Bluetooth Wireless Headphones with Hidden Microphone (White)</th>\n",
       "      <td>4.577985</td>\n",
       "    </tr>\n",
       "    <tr>\n",
       "      <th>Sony MEXM100BT 160W RMS Marine CD Receiver with Bluetooth (Black) and SiriusXM Ready</th>\n",
       "      <td>4.576271</td>\n",
       "    </tr>\n",
       "    <tr>\n",
       "      <th>Slingbox M2</th>\n",
       "      <td>4.548495</td>\n",
       "    </tr>\n",
       "    <tr>\n",
       "      <th>Everest Elite 700 Around-Ear Wireless Headphones (White)</th>\n",
       "      <td>4.535117</td>\n",
       "    </tr>\n",
       "    <tr>\n",
       "      <th>Verizon MiFi 6620L Jetpack 4G LTE Mobile Hotspot (Verizon Wireless)</th>\n",
       "      <td>4.507091</td>\n",
       "    </tr>\n",
       "    <tr>\n",
       "      <th>Sony SRSHG1/BLK Hi-Res Wireless Speaker- Charcoal black</th>\n",
       "      <td>4.506410</td>\n",
       "    </tr>\n",
       "    <tr>\n",
       "      <th>The Rebel BT On-Ear Wireless Bluetooth Headphones (Black)</th>\n",
       "      <td>4.500000</td>\n",
       "    </tr>\n",
       "    <tr>\n",
       "      <th>iHome Rechargeable Splash Proof Stereo Bluetooth Speaker - Black (IBT33BC)</th>\n",
       "      <td>4.496403</td>\n",
       "    </tr>\n",
       "    <tr>\n",
       "      <th>Alpine</th>\n",
       "      <td>4.485104</td>\n",
       "    </tr>\n",
       "    <tr>\n",
       "      <th>SRS-ZR7 Wireless Speaker</th>\n",
       "      <td>4.483871</td>\n",
       "    </tr>\n",
       "    <tr>\n",
       "      <th>Ultimate Ears MEGABLAST Portable Wi-Fi/Bluetooth Speaker with hands-free Amazon Alexa voice control (waterproof) - Graphite Black</th>\n",
       "      <td>4.451220</td>\n",
       "    </tr>\n",
       "    <tr>\n",
       "      <th>Logitech 915-000224  Harmony Ultimate One 15-Device Universal Infrared Remote with Customizable Touch Screen Control - Black</th>\n",
       "      <td>4.444778</td>\n",
       "    </tr>\n",
       "    <tr>\n",
       "      <th>Travel RockStar 3-in-1 2A USB and Dual-Outlet Wall Charger with Internal 3000mAh Battery Pack</th>\n",
       "      <td>4.419355</td>\n",
       "    </tr>\n",
       "    <tr>\n",
       "      <th>Round LCD/Projector Ceiling Plate - Black</th>\n",
       "      <td>4.250000</td>\n",
       "    </tr>\n",
       "    <tr>\n",
       "      <th>Motorola Wi-Fi Pet Video Camera</th>\n",
       "      <td>4.019512</td>\n",
       "    </tr>\n",
       "  </tbody>\n",
       "</table>\n",
       "</div>"
      ],
      "text/plain": [
       "                                                    reviews.rating\n",
       "name                                                              \n",
       "Toshiba Micro Component Speaker System: Wireles...        5.000000\n",
       "Prime Three-Way Center Channel Speaker (Premium...        5.000000\n",
       "Clarity - Super-Loud Phone Ringer - White                 5.000000\n",
       "DreamWave - Tremor Portable Bluetooth Speaker -...        5.000000\n",
       "Kicker 41IK5BT2V2 Amphitheater High-Performance...        5.000000\n",
       "House of Marley EM-DH003-PS TTR Noise-Cancellin...        5.000000\n",
       "AW6500 All-Weather Outdoor Speaker (White, Single)        4.902646\n",
       "Logitech G403 Wireless Gaming Mouse with High P...        4.862069\n",
       "Acoustimass 6 Series V Home Theater Speaker Sys...        4.833333\n",
       "Sony Mini Digital Video Cassettes - DVC - 1 Hour          4.830000\n",
       "Corsair CMSA8GX3M2A1066C7 Apple 8 GB Dual Chann...        4.822430\n",
       "2TB Red 5400 rpm SATA III 3.5 Internal NAS HDD            4.816327\n",
       "Bowers & Wilkins P7 Wired Over Ear Headphones             4.803030\n",
       "PNY Anarchy 16GB Kit (2x8GB) DDR4 2400MHz (PC4-...        4.796610\n",
       "JBL - 6\" x 8\" 2-Way Coaxial Car Speakers with P...        4.765957\n",
       "NS-SP1800BL 5.1-Channel Home Theater System (Bl...        4.761298\n",
       "Toshiba - 3TB Internal Serial ATA III Hard Driv...        4.733333\n",
       "Lenovo - AC Adapter for Select Lenovo Yoga Lapt...        4.726834\n",
       "Flipside 300 Backpack (Black)                             4.724092\n",
       "XPS 8920 Tower Desktop Computer                           4.714286\n",
       "Sony LBT-GPX555 Mini-System with Bluetooth and NFC        4.712112\n",
       "Microsoft Surface Pro 4 Type Cover with Fingerp...        4.711187\n",
       "Midland Weather Alert Radio, 1.0 CT                       4.710526\n",
       "Sony SRSXB30/BLK XB30 Portable Wireless Speaker...        4.705628\n",
       "NS-IW480CWH In-Ceiling 8 Natural Sound Three-Wa...        4.694261\n",
       "Alpine - 6-1/2\" 2-Way Coaxial Car Speakers with...        4.671826\n",
       "CRX-322 CD Receiver                                       4.669565\n",
       "Nighthawk AC1900 Dual-Band Wi-Fi USB Adapter              4.666667\n",
       "Power Acoustik - Gothic Series 10\" Dual-Voice-C...        4.666667\n",
       "SiriusXM SXEZR1V1 XM Onyx EZR Satellite Radio R...        4.658228\n",
       "Samsung Universal 3100mAh Portable External Bat...        4.652068\n",
       "SAMSUNG 40'' Class FHD (1080P) Smart LED TV (UN...        4.650847\n",
       "JVC KD-X320BTS Apple iPod and Android Digital M...        4.641684\n",
       "Boytone - 2500W 2.1-Ch. Home Theater System - B...        4.633224\n",
       "Sanus VLF410B1 10-Inch Super Slim Full-Motion M...        4.585526\n",
       "Air-Fi Runaway AF32 Stereo Bluetooth Wireless H...        4.577985\n",
       "Sony MEXM100BT 160W RMS Marine CD Receiver with...        4.576271\n",
       "Slingbox M2                                               4.548495\n",
       "Everest Elite 700 Around-Ear Wireless Headphone...        4.535117\n",
       "Verizon MiFi 6620L Jetpack 4G LTE Mobile Hotspo...        4.507091\n",
       "Sony SRSHG1/BLK Hi-Res Wireless Speaker- Charco...        4.506410\n",
       "The Rebel BT On-Ear Wireless Bluetooth Headphon...        4.500000\n",
       "iHome Rechargeable Splash Proof Stereo Bluetoot...        4.496403\n",
       "Alpine                                                    4.485104\n",
       "SRS-ZR7 Wireless Speaker                                  4.483871\n",
       "Ultimate Ears MEGABLAST Portable Wi-Fi/Bluetoot...        4.451220\n",
       "Logitech 915-000224  Harmony Ultimate One 15-De...        4.444778\n",
       "Travel RockStar 3-in-1 2A USB and Dual-Outlet W...        4.419355\n",
       "Round LCD/Projector Ceiling Plate - Black                 4.250000\n",
       "Motorola Wi-Fi Pet Video Camera                           4.019512"
      ]
     },
     "execution_count": 60,
     "metadata": {},
     "output_type": "execute_result"
    }
   ],
   "source": [
    "pd.DataFrame(data.groupby('name')['reviews.rating'].mean().sort_values(ascending=False))"
   ]
  },
  {
   "cell_type": "code",
   "execution_count": 61,
   "metadata": {},
   "outputs": [],
   "source": [
    "popularity_table=data.groupby('name').agg({'reviews.rating':'mean','reviews.numHelpful':'count'})"
   ]
  },
  {
   "cell_type": "code",
   "execution_count": 62,
   "metadata": {},
   "outputs": [
    {
     "data": {
      "text/html": [
       "<div>\n",
       "<style scoped>\n",
       "    .dataframe tbody tr th:only-of-type {\n",
       "        vertical-align: middle;\n",
       "    }\n",
       "\n",
       "    .dataframe tbody tr th {\n",
       "        vertical-align: top;\n",
       "    }\n",
       "\n",
       "    .dataframe thead th {\n",
       "        text-align: right;\n",
       "    }\n",
       "</style>\n",
       "<table border=\"1\" class=\"dataframe\">\n",
       "  <thead>\n",
       "    <tr style=\"text-align: right;\">\n",
       "      <th></th>\n",
       "      <th>reviews.rating</th>\n",
       "      <th>reviews.numHelpful</th>\n",
       "      <th>rating_per_count</th>\n",
       "    </tr>\n",
       "    <tr>\n",
       "      <th>name</th>\n",
       "      <th></th>\n",
       "      <th></th>\n",
       "      <th></th>\n",
       "    </tr>\n",
       "  </thead>\n",
       "  <tbody>\n",
       "    <tr>\n",
       "      <th>DreamWave - Tremor Portable Bluetooth Speaker - Green,Black</th>\n",
       "      <td>5.000000</td>\n",
       "      <td>1</td>\n",
       "      <td>5.000000</td>\n",
       "    </tr>\n",
       "    <tr>\n",
       "      <th>Prime Three-Way Center Channel Speaker (Premium Black Ash)</th>\n",
       "      <td>5.000000</td>\n",
       "      <td>1</td>\n",
       "      <td>5.000000</td>\n",
       "    </tr>\n",
       "    <tr>\n",
       "      <th>House of Marley EM-DH003-PS TTR Noise-Cancelling Over-Ear Headphones (Black)</th>\n",
       "      <td>5.000000</td>\n",
       "      <td>1</td>\n",
       "      <td>5.000000</td>\n",
       "    </tr>\n",
       "    <tr>\n",
       "      <th>The Rebel BT On-Ear Wireless Bluetooth Headphones (Black)</th>\n",
       "      <td>4.500000</td>\n",
       "      <td>2</td>\n",
       "      <td>2.250000</td>\n",
       "    </tr>\n",
       "    <tr>\n",
       "      <th>Kicker 41IK5BT2V2 Amphitheater High-Performance Audio System with Bluetooth, Black</th>\n",
       "      <td>5.000000</td>\n",
       "      <td>3</td>\n",
       "      <td>1.666667</td>\n",
       "    </tr>\n",
       "    <tr>\n",
       "      <th>Power Acoustik - Gothic Series 10\" Dual-Voice-Coil 2-Ohm Subwoofer - Black</th>\n",
       "      <td>4.666667</td>\n",
       "      <td>3</td>\n",
       "      <td>1.555556</td>\n",
       "    </tr>\n",
       "    <tr>\n",
       "      <th>Round LCD/Projector Ceiling Plate - Black</th>\n",
       "      <td>4.250000</td>\n",
       "      <td>4</td>\n",
       "      <td>1.062500</td>\n",
       "    </tr>\n",
       "    <tr>\n",
       "      <th>Toshiba Micro Component Speaker System: Wireless Bluetooth Speaker Sound System with FM</th>\n",
       "      <td>5.000000</td>\n",
       "      <td>5</td>\n",
       "      <td>1.000000</td>\n",
       "    </tr>\n",
       "    <tr>\n",
       "      <th>Clarity - Super-Loud Phone Ringer - White</th>\n",
       "      <td>5.000000</td>\n",
       "      <td>8</td>\n",
       "      <td>0.625000</td>\n",
       "    </tr>\n",
       "    <tr>\n",
       "      <th>CRX-322 CD Receiver</th>\n",
       "      <td>4.669565</td>\n",
       "      <td>9</td>\n",
       "      <td>0.518841</td>\n",
       "    </tr>\n",
       "    <tr>\n",
       "      <th>Toshiba - 3TB Internal Serial ATA III Hard Drive for Desktops</th>\n",
       "      <td>4.733333</td>\n",
       "      <td>15</td>\n",
       "      <td>0.315556</td>\n",
       "    </tr>\n",
       "    <tr>\n",
       "      <th>Acoustimass 6 Series V Home Theater Speaker System (Black)</th>\n",
       "      <td>4.833333</td>\n",
       "      <td>18</td>\n",
       "      <td>0.268519</td>\n",
       "    </tr>\n",
       "    <tr>\n",
       "      <th>NS-IW480CWH In-Ceiling 8 Natural Sound Three-Way Speaker System (Pair)</th>\n",
       "      <td>4.694261</td>\n",
       "      <td>25</td>\n",
       "      <td>0.187770</td>\n",
       "    </tr>\n",
       "    <tr>\n",
       "      <th>Travel RockStar 3-in-1 2A USB and Dual-Outlet Wall Charger with Internal 3000mAh Battery Pack</th>\n",
       "      <td>4.419355</td>\n",
       "      <td>31</td>\n",
       "      <td>0.142560</td>\n",
       "    </tr>\n",
       "    <tr>\n",
       "      <th>Lenovo - AC Adapter for Select Lenovo Yoga Laptops - Black</th>\n",
       "      <td>4.726834</td>\n",
       "      <td>37</td>\n",
       "      <td>0.127752</td>\n",
       "    </tr>\n",
       "    <tr>\n",
       "      <th>Midland Weather Alert Radio, 1.0 CT</th>\n",
       "      <td>4.710526</td>\n",
       "      <td>38</td>\n",
       "      <td>0.123961</td>\n",
       "    </tr>\n",
       "    <tr>\n",
       "      <th>2TB Red 5400 rpm SATA III 3.5 Internal NAS HDD</th>\n",
       "      <td>4.816327</td>\n",
       "      <td>49</td>\n",
       "      <td>0.098292</td>\n",
       "    </tr>\n",
       "    <tr>\n",
       "      <th>Motorola Wi-Fi Pet Video Camera</th>\n",
       "      <td>4.019512</td>\n",
       "      <td>41</td>\n",
       "      <td>0.098037</td>\n",
       "    </tr>\n",
       "    <tr>\n",
       "      <th>Sony MEXM100BT 160W RMS Marine CD Receiver with Bluetooth (Black) and SiriusXM Ready</th>\n",
       "      <td>4.576271</td>\n",
       "      <td>59</td>\n",
       "      <td>0.077564</td>\n",
       "    </tr>\n",
       "    <tr>\n",
       "      <th>Boytone - 2500W 2.1-Ch. Home Theater System - Black Diamond</th>\n",
       "      <td>4.633224</td>\n",
       "      <td>61</td>\n",
       "      <td>0.075954</td>\n",
       "    </tr>\n",
       "    <tr>\n",
       "      <th>Bowers &amp; Wilkins P7 Wired Over Ear Headphones</th>\n",
       "      <td>4.803030</td>\n",
       "      <td>66</td>\n",
       "      <td>0.072773</td>\n",
       "    </tr>\n",
       "    <tr>\n",
       "      <th>SRS-ZR7 Wireless Speaker</th>\n",
       "      <td>4.483871</td>\n",
       "      <td>62</td>\n",
       "      <td>0.072320</td>\n",
       "    </tr>\n",
       "    <tr>\n",
       "      <th>NS-SP1800BL 5.1-Channel Home Theater System (Black)</th>\n",
       "      <td>4.761298</td>\n",
       "      <td>71</td>\n",
       "      <td>0.067061</td>\n",
       "    </tr>\n",
       "    <tr>\n",
       "      <th>Samsung Universal 3100mAh Portable External Battery Charger - White</th>\n",
       "      <td>4.652068</td>\n",
       "      <td>76</td>\n",
       "      <td>0.061211</td>\n",
       "    </tr>\n",
       "    <tr>\n",
       "      <th>SiriusXM SXEZR1V1 XM Onyx EZR Satellite Radio Receiver with Vehicle Kit</th>\n",
       "      <td>4.658228</td>\n",
       "      <td>79</td>\n",
       "      <td>0.058965</td>\n",
       "    </tr>\n",
       "    <tr>\n",
       "      <th>Logitech G403 Wireless Gaming Mouse with High Performance Gaming Sensor</th>\n",
       "      <td>4.862069</td>\n",
       "      <td>87</td>\n",
       "      <td>0.055886</td>\n",
       "    </tr>\n",
       "    <tr>\n",
       "      <th>Ultimate Ears MEGABLAST Portable Wi-Fi/Bluetooth Speaker with hands-free Amazon Alexa voice control (waterproof) - Graphite Black</th>\n",
       "      <td>4.451220</td>\n",
       "      <td>82</td>\n",
       "      <td>0.054283</td>\n",
       "    </tr>\n",
       "    <tr>\n",
       "      <th>JBL - 6\" x 8\" 2-Way Coaxial Car Speakers with Polypropylene Cones (Pair) - Black</th>\n",
       "      <td>4.765957</td>\n",
       "      <td>94</td>\n",
       "      <td>0.050702</td>\n",
       "    </tr>\n",
       "    <tr>\n",
       "      <th>Sony Mini Digital Video Cassettes - DVC - 1 Hour</th>\n",
       "      <td>4.830000</td>\n",
       "      <td>100</td>\n",
       "      <td>0.048300</td>\n",
       "    </tr>\n",
       "    <tr>\n",
       "      <th>Air-Fi Runaway AF32 Stereo Bluetooth Wireless Headphones with Hidden Microphone (White)</th>\n",
       "      <td>4.577985</td>\n",
       "      <td>97</td>\n",
       "      <td>0.047196</td>\n",
       "    </tr>\n",
       "    <tr>\n",
       "      <th>AW6500 All-Weather Outdoor Speaker (White, Single)</th>\n",
       "      <td>4.902646</td>\n",
       "      <td>105</td>\n",
       "      <td>0.046692</td>\n",
       "    </tr>\n",
       "    <tr>\n",
       "      <th>Corsair CMSA8GX3M2A1066C7 Apple 8 GB Dual Channel Kit DDR3 1066 (PC3 8500) 204-Pin DDR3 Laptop SO-DIMM Memory 1.5V</th>\n",
       "      <td>4.822430</td>\n",
       "      <td>107</td>\n",
       "      <td>0.045069</td>\n",
       "    </tr>\n",
       "    <tr>\n",
       "      <th>XPS 8920 Tower Desktop Computer</th>\n",
       "      <td>4.714286</td>\n",
       "      <td>105</td>\n",
       "      <td>0.044898</td>\n",
       "    </tr>\n",
       "    <tr>\n",
       "      <th>Alpine</th>\n",
       "      <td>4.485104</td>\n",
       "      <td>106</td>\n",
       "      <td>0.042312</td>\n",
       "    </tr>\n",
       "    <tr>\n",
       "      <th>Sony LBT-GPX555 Mini-System with Bluetooth and NFC</th>\n",
       "      <td>4.712112</td>\n",
       "      <td>121</td>\n",
       "      <td>0.038943</td>\n",
       "    </tr>\n",
       "    <tr>\n",
       "      <th>Flipside 300 Backpack (Black)</th>\n",
       "      <td>4.724092</td>\n",
       "      <td>125</td>\n",
       "      <td>0.037793</td>\n",
       "    </tr>\n",
       "    <tr>\n",
       "      <th>JVC KD-X320BTS Apple iPod and Android Digital Media Receiver with Bluetooth</th>\n",
       "      <td>4.641684</td>\n",
       "      <td>140</td>\n",
       "      <td>0.033155</td>\n",
       "    </tr>\n",
       "    <tr>\n",
       "      <th>Nighthawk AC1900 Dual-Band Wi-Fi USB Adapter</th>\n",
       "      <td>4.666667</td>\n",
       "      <td>141</td>\n",
       "      <td>0.033097</td>\n",
       "    </tr>\n",
       "    <tr>\n",
       "      <th>Verizon MiFi 6620L Jetpack 4G LTE Mobile Hotspot (Verizon Wireless)</th>\n",
       "      <td>4.507091</td>\n",
       "      <td>139</td>\n",
       "      <td>0.032425</td>\n",
       "    </tr>\n",
       "    <tr>\n",
       "      <th>iHome Rechargeable Splash Proof Stereo Bluetooth Speaker - Black (IBT33BC)</th>\n",
       "      <td>4.496403</td>\n",
       "      <td>139</td>\n",
       "      <td>0.032348</td>\n",
       "    </tr>\n",
       "    <tr>\n",
       "      <th>Sanus VLF410B1 10-Inch Super Slim Full-Motion Mount for 37 - 84 Inches TV's</th>\n",
       "      <td>4.585526</td>\n",
       "      <td>152</td>\n",
       "      <td>0.030168</td>\n",
       "    </tr>\n",
       "    <tr>\n",
       "      <th>Sony SRSHG1/BLK Hi-Res Wireless Speaker- Charcoal black</th>\n",
       "      <td>4.506410</td>\n",
       "      <td>156</td>\n",
       "      <td>0.028887</td>\n",
       "    </tr>\n",
       "    <tr>\n",
       "      <th>PNY Anarchy 16GB Kit (2x8GB) DDR4 2400MHz (PC4-19200) CL15 Desktop Memory (BLUE) - MD16GK2D4240015AB</th>\n",
       "      <td>4.796610</td>\n",
       "      <td>177</td>\n",
       "      <td>0.027099</td>\n",
       "    </tr>\n",
       "    <tr>\n",
       "      <th>Alpine - 6-1/2\" 2-Way Coaxial Car Speakers with Polypropylene Cones (Pair) - Black</th>\n",
       "      <td>4.671826</td>\n",
       "      <td>246</td>\n",
       "      <td>0.018991</td>\n",
       "    </tr>\n",
       "    <tr>\n",
       "      <th>SAMSUNG 40'' Class FHD (1080P) Smart LED TV (UN40M5300)</th>\n",
       "      <td>4.650847</td>\n",
       "      <td>295</td>\n",
       "      <td>0.015766</td>\n",
       "    </tr>\n",
       "    <tr>\n",
       "      <th>Slingbox M2</th>\n",
       "      <td>4.548495</td>\n",
       "      <td>299</td>\n",
       "      <td>0.015212</td>\n",
       "    </tr>\n",
       "    <tr>\n",
       "      <th>Everest Elite 700 Around-Ear Wireless Headphones (White)</th>\n",
       "      <td>4.535117</td>\n",
       "      <td>299</td>\n",
       "      <td>0.015168</td>\n",
       "    </tr>\n",
       "    <tr>\n",
       "      <th>Microsoft Surface Pro 4 Type Cover with Fingerprint ID</th>\n",
       "      <td>4.711187</td>\n",
       "      <td>373</td>\n",
       "      <td>0.012631</td>\n",
       "    </tr>\n",
       "    <tr>\n",
       "      <th>Sony SRSXB30/BLK XB30 Portable Wireless Speaker with Bluetooth</th>\n",
       "      <td>4.705628</td>\n",
       "      <td>462</td>\n",
       "      <td>0.010185</td>\n",
       "    </tr>\n",
       "    <tr>\n",
       "      <th>Logitech 915-000224  Harmony Ultimate One 15-Device Universal Infrared Remote with Customizable Touch Screen Control - Black</th>\n",
       "      <td>4.444778</td>\n",
       "      <td>1331</td>\n",
       "      <td>0.003339</td>\n",
       "    </tr>\n",
       "  </tbody>\n",
       "</table>\n",
       "</div>"
      ],
      "text/plain": [
       "                                                    reviews.rating  \\\n",
       "name                                                                 \n",
       "DreamWave - Tremor Portable Bluetooth Speaker -...        5.000000   \n",
       "Prime Three-Way Center Channel Speaker (Premium...        5.000000   \n",
       "House of Marley EM-DH003-PS TTR Noise-Cancellin...        5.000000   \n",
       "The Rebel BT On-Ear Wireless Bluetooth Headphon...        4.500000   \n",
       "Kicker 41IK5BT2V2 Amphitheater High-Performance...        5.000000   \n",
       "Power Acoustik - Gothic Series 10\" Dual-Voice-C...        4.666667   \n",
       "Round LCD/Projector Ceiling Plate - Black                 4.250000   \n",
       "Toshiba Micro Component Speaker System: Wireles...        5.000000   \n",
       "Clarity - Super-Loud Phone Ringer - White                 5.000000   \n",
       "CRX-322 CD Receiver                                       4.669565   \n",
       "Toshiba - 3TB Internal Serial ATA III Hard Driv...        4.733333   \n",
       "Acoustimass 6 Series V Home Theater Speaker Sys...        4.833333   \n",
       "NS-IW480CWH In-Ceiling 8 Natural Sound Three-Wa...        4.694261   \n",
       "Travel RockStar 3-in-1 2A USB and Dual-Outlet W...        4.419355   \n",
       "Lenovo - AC Adapter for Select Lenovo Yoga Lapt...        4.726834   \n",
       "Midland Weather Alert Radio, 1.0 CT                       4.710526   \n",
       "2TB Red 5400 rpm SATA III 3.5 Internal NAS HDD            4.816327   \n",
       "Motorola Wi-Fi Pet Video Camera                           4.019512   \n",
       "Sony MEXM100BT 160W RMS Marine CD Receiver with...        4.576271   \n",
       "Boytone - 2500W 2.1-Ch. Home Theater System - B...        4.633224   \n",
       "Bowers & Wilkins P7 Wired Over Ear Headphones             4.803030   \n",
       "SRS-ZR7 Wireless Speaker                                  4.483871   \n",
       "NS-SP1800BL 5.1-Channel Home Theater System (Bl...        4.761298   \n",
       "Samsung Universal 3100mAh Portable External Bat...        4.652068   \n",
       "SiriusXM SXEZR1V1 XM Onyx EZR Satellite Radio R...        4.658228   \n",
       "Logitech G403 Wireless Gaming Mouse with High P...        4.862069   \n",
       "Ultimate Ears MEGABLAST Portable Wi-Fi/Bluetoot...        4.451220   \n",
       "JBL - 6\" x 8\" 2-Way Coaxial Car Speakers with P...        4.765957   \n",
       "Sony Mini Digital Video Cassettes - DVC - 1 Hour          4.830000   \n",
       "Air-Fi Runaway AF32 Stereo Bluetooth Wireless H...        4.577985   \n",
       "AW6500 All-Weather Outdoor Speaker (White, Single)        4.902646   \n",
       "Corsair CMSA8GX3M2A1066C7 Apple 8 GB Dual Chann...        4.822430   \n",
       "XPS 8920 Tower Desktop Computer                           4.714286   \n",
       "Alpine                                                    4.485104   \n",
       "Sony LBT-GPX555 Mini-System with Bluetooth and NFC        4.712112   \n",
       "Flipside 300 Backpack (Black)                             4.724092   \n",
       "JVC KD-X320BTS Apple iPod and Android Digital M...        4.641684   \n",
       "Nighthawk AC1900 Dual-Band Wi-Fi USB Adapter              4.666667   \n",
       "Verizon MiFi 6620L Jetpack 4G LTE Mobile Hotspo...        4.507091   \n",
       "iHome Rechargeable Splash Proof Stereo Bluetoot...        4.496403   \n",
       "Sanus VLF410B1 10-Inch Super Slim Full-Motion M...        4.585526   \n",
       "Sony SRSHG1/BLK Hi-Res Wireless Speaker- Charco...        4.506410   \n",
       "PNY Anarchy 16GB Kit (2x8GB) DDR4 2400MHz (PC4-...        4.796610   \n",
       "Alpine - 6-1/2\" 2-Way Coaxial Car Speakers with...        4.671826   \n",
       "SAMSUNG 40'' Class FHD (1080P) Smart LED TV (UN...        4.650847   \n",
       "Slingbox M2                                               4.548495   \n",
       "Everest Elite 700 Around-Ear Wireless Headphone...        4.535117   \n",
       "Microsoft Surface Pro 4 Type Cover with Fingerp...        4.711187   \n",
       "Sony SRSXB30/BLK XB30 Portable Wireless Speaker...        4.705628   \n",
       "Logitech 915-000224  Harmony Ultimate One 15-De...        4.444778   \n",
       "\n",
       "                                                    reviews.numHelpful  \\\n",
       "name                                                                     \n",
       "DreamWave - Tremor Portable Bluetooth Speaker -...                   1   \n",
       "Prime Three-Way Center Channel Speaker (Premium...                   1   \n",
       "House of Marley EM-DH003-PS TTR Noise-Cancellin...                   1   \n",
       "The Rebel BT On-Ear Wireless Bluetooth Headphon...                   2   \n",
       "Kicker 41IK5BT2V2 Amphitheater High-Performance...                   3   \n",
       "Power Acoustik - Gothic Series 10\" Dual-Voice-C...                   3   \n",
       "Round LCD/Projector Ceiling Plate - Black                            4   \n",
       "Toshiba Micro Component Speaker System: Wireles...                   5   \n",
       "Clarity - Super-Loud Phone Ringer - White                            8   \n",
       "CRX-322 CD Receiver                                                  9   \n",
       "Toshiba - 3TB Internal Serial ATA III Hard Driv...                  15   \n",
       "Acoustimass 6 Series V Home Theater Speaker Sys...                  18   \n",
       "NS-IW480CWH In-Ceiling 8 Natural Sound Three-Wa...                  25   \n",
       "Travel RockStar 3-in-1 2A USB and Dual-Outlet W...                  31   \n",
       "Lenovo - AC Adapter for Select Lenovo Yoga Lapt...                  37   \n",
       "Midland Weather Alert Radio, 1.0 CT                                 38   \n",
       "2TB Red 5400 rpm SATA III 3.5 Internal NAS HDD                      49   \n",
       "Motorola Wi-Fi Pet Video Camera                                     41   \n",
       "Sony MEXM100BT 160W RMS Marine CD Receiver with...                  59   \n",
       "Boytone - 2500W 2.1-Ch. Home Theater System - B...                  61   \n",
       "Bowers & Wilkins P7 Wired Over Ear Headphones                       66   \n",
       "SRS-ZR7 Wireless Speaker                                            62   \n",
       "NS-SP1800BL 5.1-Channel Home Theater System (Bl...                  71   \n",
       "Samsung Universal 3100mAh Portable External Bat...                  76   \n",
       "SiriusXM SXEZR1V1 XM Onyx EZR Satellite Radio R...                  79   \n",
       "Logitech G403 Wireless Gaming Mouse with High P...                  87   \n",
       "Ultimate Ears MEGABLAST Portable Wi-Fi/Bluetoot...                  82   \n",
       "JBL - 6\" x 8\" 2-Way Coaxial Car Speakers with P...                  94   \n",
       "Sony Mini Digital Video Cassettes - DVC - 1 Hour                   100   \n",
       "Air-Fi Runaway AF32 Stereo Bluetooth Wireless H...                  97   \n",
       "AW6500 All-Weather Outdoor Speaker (White, Single)                 105   \n",
       "Corsair CMSA8GX3M2A1066C7 Apple 8 GB Dual Chann...                 107   \n",
       "XPS 8920 Tower Desktop Computer                                    105   \n",
       "Alpine                                                             106   \n",
       "Sony LBT-GPX555 Mini-System with Bluetooth and NFC                 121   \n",
       "Flipside 300 Backpack (Black)                                      125   \n",
       "JVC KD-X320BTS Apple iPod and Android Digital M...                 140   \n",
       "Nighthawk AC1900 Dual-Band Wi-Fi USB Adapter                       141   \n",
       "Verizon MiFi 6620L Jetpack 4G LTE Mobile Hotspo...                 139   \n",
       "iHome Rechargeable Splash Proof Stereo Bluetoot...                 139   \n",
       "Sanus VLF410B1 10-Inch Super Slim Full-Motion M...                 152   \n",
       "Sony SRSHG1/BLK Hi-Res Wireless Speaker- Charco...                 156   \n",
       "PNY Anarchy 16GB Kit (2x8GB) DDR4 2400MHz (PC4-...                 177   \n",
       "Alpine - 6-1/2\" 2-Way Coaxial Car Speakers with...                 246   \n",
       "SAMSUNG 40'' Class FHD (1080P) Smart LED TV (UN...                 295   \n",
       "Slingbox M2                                                        299   \n",
       "Everest Elite 700 Around-Ear Wireless Headphone...                 299   \n",
       "Microsoft Surface Pro 4 Type Cover with Fingerp...                 373   \n",
       "Sony SRSXB30/BLK XB30 Portable Wireless Speaker...                 462   \n",
       "Logitech 915-000224  Harmony Ultimate One 15-De...                1331   \n",
       "\n",
       "                                                    rating_per_count  \n",
       "name                                                                  \n",
       "DreamWave - Tremor Portable Bluetooth Speaker -...          5.000000  \n",
       "Prime Three-Way Center Channel Speaker (Premium...          5.000000  \n",
       "House of Marley EM-DH003-PS TTR Noise-Cancellin...          5.000000  \n",
       "The Rebel BT On-Ear Wireless Bluetooth Headphon...          2.250000  \n",
       "Kicker 41IK5BT2V2 Amphitheater High-Performance...          1.666667  \n",
       "Power Acoustik - Gothic Series 10\" Dual-Voice-C...          1.555556  \n",
       "Round LCD/Projector Ceiling Plate - Black                   1.062500  \n",
       "Toshiba Micro Component Speaker System: Wireles...          1.000000  \n",
       "Clarity - Super-Loud Phone Ringer - White                   0.625000  \n",
       "CRX-322 CD Receiver                                         0.518841  \n",
       "Toshiba - 3TB Internal Serial ATA III Hard Driv...          0.315556  \n",
       "Acoustimass 6 Series V Home Theater Speaker Sys...          0.268519  \n",
       "NS-IW480CWH In-Ceiling 8 Natural Sound Three-Wa...          0.187770  \n",
       "Travel RockStar 3-in-1 2A USB and Dual-Outlet W...          0.142560  \n",
       "Lenovo - AC Adapter for Select Lenovo Yoga Lapt...          0.127752  \n",
       "Midland Weather Alert Radio, 1.0 CT                         0.123961  \n",
       "2TB Red 5400 rpm SATA III 3.5 Internal NAS HDD              0.098292  \n",
       "Motorola Wi-Fi Pet Video Camera                             0.098037  \n",
       "Sony MEXM100BT 160W RMS Marine CD Receiver with...          0.077564  \n",
       "Boytone - 2500W 2.1-Ch. Home Theater System - B...          0.075954  \n",
       "Bowers & Wilkins P7 Wired Over Ear Headphones               0.072773  \n",
       "SRS-ZR7 Wireless Speaker                                    0.072320  \n",
       "NS-SP1800BL 5.1-Channel Home Theater System (Bl...          0.067061  \n",
       "Samsung Universal 3100mAh Portable External Bat...          0.061211  \n",
       "SiriusXM SXEZR1V1 XM Onyx EZR Satellite Radio R...          0.058965  \n",
       "Logitech G403 Wireless Gaming Mouse with High P...          0.055886  \n",
       "Ultimate Ears MEGABLAST Portable Wi-Fi/Bluetoot...          0.054283  \n",
       "JBL - 6\" x 8\" 2-Way Coaxial Car Speakers with P...          0.050702  \n",
       "Sony Mini Digital Video Cassettes - DVC - 1 Hour            0.048300  \n",
       "Air-Fi Runaway AF32 Stereo Bluetooth Wireless H...          0.047196  \n",
       "AW6500 All-Weather Outdoor Speaker (White, Single)          0.046692  \n",
       "Corsair CMSA8GX3M2A1066C7 Apple 8 GB Dual Chann...          0.045069  \n",
       "XPS 8920 Tower Desktop Computer                             0.044898  \n",
       "Alpine                                                      0.042312  \n",
       "Sony LBT-GPX555 Mini-System with Bluetooth and NFC          0.038943  \n",
       "Flipside 300 Backpack (Black)                               0.037793  \n",
       "JVC KD-X320BTS Apple iPod and Android Digital M...          0.033155  \n",
       "Nighthawk AC1900 Dual-Band Wi-Fi USB Adapter                0.033097  \n",
       "Verizon MiFi 6620L Jetpack 4G LTE Mobile Hotspo...          0.032425  \n",
       "iHome Rechargeable Splash Proof Stereo Bluetoot...          0.032348  \n",
       "Sanus VLF410B1 10-Inch Super Slim Full-Motion M...          0.030168  \n",
       "Sony SRSHG1/BLK Hi-Res Wireless Speaker- Charco...          0.028887  \n",
       "PNY Anarchy 16GB Kit (2x8GB) DDR4 2400MHz (PC4-...          0.027099  \n",
       "Alpine - 6-1/2\" 2-Way Coaxial Car Speakers with...          0.018991  \n",
       "SAMSUNG 40'' Class FHD (1080P) Smart LED TV (UN...          0.015766  \n",
       "Slingbox M2                                                 0.015212  \n",
       "Everest Elite 700 Around-Ear Wireless Headphone...          0.015168  \n",
       "Microsoft Surface Pro 4 Type Cover with Fingerp...          0.012631  \n",
       "Sony SRSXB30/BLK XB30 Portable Wireless Speaker...          0.010185  \n",
       "Logitech 915-000224  Harmony Ultimate One 15-De...          0.003339  "
      ]
     },
     "execution_count": 62,
     "metadata": {},
     "output_type": "execute_result"
    }
   ],
   "source": [
    "popularity_table['rating_per_count']=popularity_table['reviews.rating']/popularity_table['reviews.numHelpful']\n",
    "popularity_table.sort_values('rating_per_count',ascending=False)"
   ]
  },
  {
   "cell_type": "code",
   "execution_count": 63,
   "metadata": {},
   "outputs": [
    {
     "data": {
      "text/html": [
       "<div>\n",
       "<style scoped>\n",
       "    .dataframe tbody tr th:only-of-type {\n",
       "        vertical-align: middle;\n",
       "    }\n",
       "\n",
       "    .dataframe tbody tr th {\n",
       "        vertical-align: top;\n",
       "    }\n",
       "\n",
       "    .dataframe thead th {\n",
       "        text-align: right;\n",
       "    }\n",
       "</style>\n",
       "<table border=\"1\" class=\"dataframe\">\n",
       "  <thead>\n",
       "    <tr style=\"text-align: right;\">\n",
       "      <th></th>\n",
       "      <th>reviews.rating</th>\n",
       "      <th>reviews.numHelpful</th>\n",
       "      <th>rating_per_count</th>\n",
       "    </tr>\n",
       "    <tr>\n",
       "      <th>name</th>\n",
       "      <th></th>\n",
       "      <th></th>\n",
       "      <th></th>\n",
       "    </tr>\n",
       "  </thead>\n",
       "  <tbody>\n",
       "    <tr>\n",
       "      <th>DreamWave - Tremor Portable Bluetooth Speaker - Green,Black</th>\n",
       "      <td>5.000000</td>\n",
       "      <td>1</td>\n",
       "      <td>5.000000</td>\n",
       "    </tr>\n",
       "    <tr>\n",
       "      <th>House of Marley EM-DH003-PS TTR Noise-Cancelling Over-Ear Headphones (Black)</th>\n",
       "      <td>5.000000</td>\n",
       "      <td>1</td>\n",
       "      <td>5.000000</td>\n",
       "    </tr>\n",
       "    <tr>\n",
       "      <th>Kicker 41IK5BT2V2 Amphitheater High-Performance Audio System with Bluetooth, Black</th>\n",
       "      <td>5.000000</td>\n",
       "      <td>3</td>\n",
       "      <td>1.666667</td>\n",
       "    </tr>\n",
       "    <tr>\n",
       "      <th>Power Acoustik - Gothic Series 10\" Dual-Voice-Coil 2-Ohm Subwoofer - Black</th>\n",
       "      <td>4.666667</td>\n",
       "      <td>3</td>\n",
       "      <td>1.555556</td>\n",
       "    </tr>\n",
       "    <tr>\n",
       "      <th>Prime Three-Way Center Channel Speaker (Premium Black Ash)</th>\n",
       "      <td>5.000000</td>\n",
       "      <td>1</td>\n",
       "      <td>5.000000</td>\n",
       "    </tr>\n",
       "    <tr>\n",
       "      <th>Round LCD/Projector Ceiling Plate - Black</th>\n",
       "      <td>4.250000</td>\n",
       "      <td>4</td>\n",
       "      <td>1.062500</td>\n",
       "    </tr>\n",
       "    <tr>\n",
       "      <th>The Rebel BT On-Ear Wireless Bluetooth Headphones (Black)</th>\n",
       "      <td>4.500000</td>\n",
       "      <td>2</td>\n",
       "      <td>2.250000</td>\n",
       "    </tr>\n",
       "  </tbody>\n",
       "</table>\n",
       "</div>"
      ],
      "text/plain": [
       "                                                    reviews.rating  \\\n",
       "name                                                                 \n",
       "DreamWave - Tremor Portable Bluetooth Speaker -...        5.000000   \n",
       "House of Marley EM-DH003-PS TTR Noise-Cancellin...        5.000000   \n",
       "Kicker 41IK5BT2V2 Amphitheater High-Performance...        5.000000   \n",
       "Power Acoustik - Gothic Series 10\" Dual-Voice-C...        4.666667   \n",
       "Prime Three-Way Center Channel Speaker (Premium...        5.000000   \n",
       "Round LCD/Projector Ceiling Plate - Black                 4.250000   \n",
       "The Rebel BT On-Ear Wireless Bluetooth Headphon...        4.500000   \n",
       "\n",
       "                                                    reviews.numHelpful  \\\n",
       "name                                                                     \n",
       "DreamWave - Tremor Portable Bluetooth Speaker -...                   1   \n",
       "House of Marley EM-DH003-PS TTR Noise-Cancellin...                   1   \n",
       "Kicker 41IK5BT2V2 Amphitheater High-Performance...                   3   \n",
       "Power Acoustik - Gothic Series 10\" Dual-Voice-C...                   3   \n",
       "Prime Three-Way Center Channel Speaker (Premium...                   1   \n",
       "Round LCD/Projector Ceiling Plate - Black                            4   \n",
       "The Rebel BT On-Ear Wireless Bluetooth Headphon...                   2   \n",
       "\n",
       "                                                    rating_per_count  \n",
       "name                                                                  \n",
       "DreamWave - Tremor Portable Bluetooth Speaker -...          5.000000  \n",
       "House of Marley EM-DH003-PS TTR Noise-Cancellin...          5.000000  \n",
       "Kicker 41IK5BT2V2 Amphitheater High-Performance...          1.666667  \n",
       "Power Acoustik - Gothic Series 10\" Dual-Voice-C...          1.555556  \n",
       "Prime Three-Way Center Channel Speaker (Premium...          5.000000  \n",
       "Round LCD/Projector Ceiling Plate - Black                   1.062500  \n",
       "The Rebel BT On-Ear Wireless Bluetooth Headphon...          2.250000  "
      ]
     },
     "execution_count": 63,
     "metadata": {},
     "output_type": "execute_result"
    }
   ],
   "source": [
    "top_popularity_table=popularity_table[popularity_table['rating_per_count']>1.0]\n",
    "top_popularity_table"
   ]
  },
  {
   "cell_type": "code",
   "execution_count": 64,
   "metadata": {},
   "outputs": [
    {
     "data": {
      "text/html": [
       "<div>\n",
       "<style scoped>\n",
       "    .dataframe tbody tr th:only-of-type {\n",
       "        vertical-align: middle;\n",
       "    }\n",
       "\n",
       "    .dataframe tbody tr th {\n",
       "        vertical-align: top;\n",
       "    }\n",
       "\n",
       "    .dataframe thead th {\n",
       "        text-align: right;\n",
       "    }\n",
       "</style>\n",
       "<table border=\"1\" class=\"dataframe\">\n",
       "  <thead>\n",
       "    <tr style=\"text-align: right;\">\n",
       "      <th></th>\n",
       "      <th>reviews.rating</th>\n",
       "      <th>reviews.numHelpful</th>\n",
       "      <th>rating_per_count</th>\n",
       "    </tr>\n",
       "    <tr>\n",
       "      <th>name</th>\n",
       "      <th></th>\n",
       "      <th></th>\n",
       "      <th></th>\n",
       "    </tr>\n",
       "  </thead>\n",
       "  <tbody>\n",
       "    <tr>\n",
       "      <th>DreamWave - Tremor Portable Bluetooth Speaker - Green,Black</th>\n",
       "      <td>5.000000</td>\n",
       "      <td>1</td>\n",
       "      <td>5.000000</td>\n",
       "    </tr>\n",
       "    <tr>\n",
       "      <th>House of Marley EM-DH003-PS TTR Noise-Cancelling Over-Ear Headphones (Black)</th>\n",
       "      <td>5.000000</td>\n",
       "      <td>1</td>\n",
       "      <td>5.000000</td>\n",
       "    </tr>\n",
       "    <tr>\n",
       "      <th>Kicker 41IK5BT2V2 Amphitheater High-Performance Audio System with Bluetooth, Black</th>\n",
       "      <td>5.000000</td>\n",
       "      <td>3</td>\n",
       "      <td>1.666667</td>\n",
       "    </tr>\n",
       "    <tr>\n",
       "      <th>Prime Three-Way Center Channel Speaker (Premium Black Ash)</th>\n",
       "      <td>5.000000</td>\n",
       "      <td>1</td>\n",
       "      <td>5.000000</td>\n",
       "    </tr>\n",
       "    <tr>\n",
       "      <th>Power Acoustik - Gothic Series 10\" Dual-Voice-Coil 2-Ohm Subwoofer - Black</th>\n",
       "      <td>4.666667</td>\n",
       "      <td>3</td>\n",
       "      <td>1.555556</td>\n",
       "    </tr>\n",
       "  </tbody>\n",
       "</table>\n",
       "</div>"
      ],
      "text/plain": [
       "                                                    reviews.rating  \\\n",
       "name                                                                 \n",
       "DreamWave - Tremor Portable Bluetooth Speaker -...        5.000000   \n",
       "House of Marley EM-DH003-PS TTR Noise-Cancellin...        5.000000   \n",
       "Kicker 41IK5BT2V2 Amphitheater High-Performance...        5.000000   \n",
       "Prime Three-Way Center Channel Speaker (Premium...        5.000000   \n",
       "Power Acoustik - Gothic Series 10\" Dual-Voice-C...        4.666667   \n",
       "\n",
       "                                                    reviews.numHelpful  \\\n",
       "name                                                                     \n",
       "DreamWave - Tremor Portable Bluetooth Speaker -...                   1   \n",
       "House of Marley EM-DH003-PS TTR Noise-Cancellin...                   1   \n",
       "Kicker 41IK5BT2V2 Amphitheater High-Performance...                   3   \n",
       "Prime Three-Way Center Channel Speaker (Premium...                   1   \n",
       "Power Acoustik - Gothic Series 10\" Dual-Voice-C...                   3   \n",
       "\n",
       "                                                    rating_per_count  \n",
       "name                                                                  \n",
       "DreamWave - Tremor Portable Bluetooth Speaker -...          5.000000  \n",
       "House of Marley EM-DH003-PS TTR Noise-Cancellin...          5.000000  \n",
       "Kicker 41IK5BT2V2 Amphitheater High-Performance...          1.666667  \n",
       "Prime Three-Way Center Channel Speaker (Premium...          5.000000  \n",
       "Power Acoustik - Gothic Series 10\" Dual-Voice-C...          1.555556  "
      ]
     },
     "execution_count": 64,
     "metadata": {},
     "output_type": "execute_result"
    }
   ],
   "source": [
    "top_popularity_table.sort_values('reviews.rating',ascending=False).head()"
   ]
  },
  {
   "cell_type": "markdown",
   "metadata": {},
   "source": [
    "<a id='CB'></a>\n",
    "### 7.2 Content Based Recommendation"
   ]
  },
  {
   "cell_type": "code",
   "execution_count": 65,
   "metadata": {},
   "outputs": [
    {
     "data": {
      "text/html": [
       "<div>\n",
       "<style scoped>\n",
       "    .dataframe tbody tr th:only-of-type {\n",
       "        vertical-align: middle;\n",
       "    }\n",
       "\n",
       "    .dataframe tbody tr th {\n",
       "        vertical-align: top;\n",
       "    }\n",
       "\n",
       "    .dataframe thead th {\n",
       "        text-align: right;\n",
       "    }\n",
       "</style>\n",
       "<table border=\"1\" class=\"dataframe\">\n",
       "  <thead>\n",
       "    <tr style=\"text-align: right;\">\n",
       "      <th></th>\n",
       "      <th>0</th>\n",
       "      <th>1</th>\n",
       "      <th>2</th>\n",
       "    </tr>\n",
       "  </thead>\n",
       "  <tbody>\n",
       "    <tr>\n",
       "      <th>0</th>\n",
       "      <td>Electronics</td>\n",
       "      <td>Computers</td>\n",
       "      <td>Computer Accessories</td>\n",
       "    </tr>\n",
       "    <tr>\n",
       "      <th>1</th>\n",
       "      <td>Electronics</td>\n",
       "      <td>Computers</td>\n",
       "      <td>Computer Accessories</td>\n",
       "    </tr>\n",
       "    <tr>\n",
       "      <th>2</th>\n",
       "      <td>Electronics</td>\n",
       "      <td>Computers</td>\n",
       "      <td>Computer Accessories</td>\n",
       "    </tr>\n",
       "    <tr>\n",
       "      <th>3</th>\n",
       "      <td>Electronics</td>\n",
       "      <td>Computers</td>\n",
       "      <td>Computer Accessories</td>\n",
       "    </tr>\n",
       "    <tr>\n",
       "      <th>4</th>\n",
       "      <td>Electronics</td>\n",
       "      <td>Computers</td>\n",
       "      <td>Computer Accessories</td>\n",
       "    </tr>\n",
       "  </tbody>\n",
       "</table>\n",
       "</div>"
      ],
      "text/plain": [
       "             0          1                     2\n",
       "0  Electronics  Computers  Computer Accessories\n",
       "1  Electronics  Computers  Computer Accessories\n",
       "2  Electronics  Computers  Computer Accessories\n",
       "3  Electronics  Computers  Computer Accessories\n",
       "4  Electronics  Computers  Computer Accessories"
      ]
     },
     "execution_count": 65,
     "metadata": {},
     "output_type": "execute_result"
    }
   ],
   "source": [
    "categories=data['categories'].str.split(',',expand=True)\n",
    "categories=categories.iloc[:,0:3]\n",
    "categories.head()"
   ]
  },
  {
   "cell_type": "code",
   "execution_count": 66,
   "metadata": {},
   "outputs": [
    {
     "data": {
      "text/plain": [
       "0    0\n",
       "1    0\n",
       "2    0\n",
       "dtype: int64"
      ]
     },
     "execution_count": 66,
     "metadata": {},
     "output_type": "execute_result"
    }
   ],
   "source": [
    "categories.isnull().sum()"
   ]
  },
  {
   "cell_type": "code",
   "execution_count": 67,
   "metadata": {},
   "outputs": [
    {
     "data": {
      "text/html": [
       "<div>\n",
       "<style scoped>\n",
       "    .dataframe tbody tr th:only-of-type {\n",
       "        vertical-align: middle;\n",
       "    }\n",
       "\n",
       "    .dataframe tbody tr th {\n",
       "        vertical-align: top;\n",
       "    }\n",
       "\n",
       "    .dataframe thead th {\n",
       "        text-align: right;\n",
       "    }\n",
       "</style>\n",
       "<table border=\"1\" class=\"dataframe\">\n",
       "  <thead>\n",
       "    <tr style=\"text-align: right;\">\n",
       "      <th></th>\n",
       "      <th>category</th>\n",
       "      <th>sub_category_1</th>\n",
       "      <th>sub_category_2</th>\n",
       "    </tr>\n",
       "  </thead>\n",
       "  <tbody>\n",
       "    <tr>\n",
       "      <th>0</th>\n",
       "      <td>Electronics</td>\n",
       "      <td>Computers</td>\n",
       "      <td>Computer Accessories</td>\n",
       "    </tr>\n",
       "    <tr>\n",
       "      <th>1</th>\n",
       "      <td>Electronics</td>\n",
       "      <td>Computers</td>\n",
       "      <td>Computer Accessories</td>\n",
       "    </tr>\n",
       "  </tbody>\n",
       "</table>\n",
       "</div>"
      ],
      "text/plain": [
       "      category sub_category_1        sub_category_2\n",
       "0  Electronics      Computers  Computer Accessories\n",
       "1  Electronics      Computers  Computer Accessories"
      ]
     },
     "execution_count": 67,
     "metadata": {},
     "output_type": "execute_result"
    }
   ],
   "source": [
    "categories.columns=['category','sub_category_1','sub_category_2']\n",
    "categories.head(2)"
   ]
  },
  {
   "cell_type": "code",
   "execution_count": 68,
   "metadata": {},
   "outputs": [
    {
     "data": {
      "text/html": [
       "<div>\n",
       "<style scoped>\n",
       "    .dataframe tbody tr th:only-of-type {\n",
       "        vertical-align: middle;\n",
       "    }\n",
       "\n",
       "    .dataframe tbody tr th {\n",
       "        vertical-align: top;\n",
       "    }\n",
       "\n",
       "    .dataframe thead th {\n",
       "        text-align: right;\n",
       "    }\n",
       "</style>\n",
       "<table border=\"1\" class=\"dataframe\">\n",
       "  <thead>\n",
       "    <tr style=\"text-align: right;\">\n",
       "      <th></th>\n",
       "      <th>id</th>\n",
       "      <th>brand</th>\n",
       "      <th>categories</th>\n",
       "      <th>name</th>\n",
       "      <th>reviews.numHelpful</th>\n",
       "      <th>reviews.rating</th>\n",
       "      <th>reviews.text</th>\n",
       "      <th>reviews.title</th>\n",
       "      <th>reviews.username</th>\n",
       "      <th>user_Id</th>\n",
       "      <th>Product_Id</th>\n",
       "      <th>kmeans_cluster</th>\n",
       "      <th>hier_Cluster</th>\n",
       "      <th>Cluster_DBSCAN</th>\n",
       "      <th>category</th>\n",
       "      <th>sub_category_1</th>\n",
       "      <th>sub_category_2</th>\n",
       "    </tr>\n",
       "  </thead>\n",
       "  <tbody>\n",
       "    <tr>\n",
       "      <th>0</th>\n",
       "      <td>AVpf3txeLJeJML43FN82</td>\n",
       "      <td>Microsoft</td>\n",
       "      <td>Electronics,Computers,Computer Accessories,Key...</td>\n",
       "      <td>Microsoft Surface Pro 4 Type Cover with Finger...</td>\n",
       "      <td>2.000000</td>\n",
       "      <td>5.000000</td>\n",
       "      <td>This keyboard is very easy to type on, but the...</td>\n",
       "      <td>Love the fingerprint reader</td>\n",
       "      <td>JNH1</td>\n",
       "      <td>2099</td>\n",
       "      <td>12</td>\n",
       "      <td>5</td>\n",
       "      <td>0</td>\n",
       "      <td>0</td>\n",
       "      <td>Electronics</td>\n",
       "      <td>Computers</td>\n",
       "      <td>Computer Accessories</td>\n",
       "    </tr>\n",
       "    <tr>\n",
       "      <th>1</th>\n",
       "      <td>AVpf3txeLJeJML43FN82</td>\n",
       "      <td>Microsoft</td>\n",
       "      <td>Electronics,Computers,Computer Accessories,Key...</td>\n",
       "      <td>Microsoft Surface Pro 4 Type Cover with Finger...</td>\n",
       "      <td>2.000000</td>\n",
       "      <td>5.000000</td>\n",
       "      <td>purchased to replace original surface pro 3 ke...</td>\n",
       "      <td>big improvement</td>\n",
       "      <td>gjohnsonxc</td>\n",
       "      <td>4684</td>\n",
       "      <td>12</td>\n",
       "      <td>5</td>\n",
       "      <td>0</td>\n",
       "      <td>0</td>\n",
       "      <td>Electronics</td>\n",
       "      <td>Computers</td>\n",
       "      <td>Computer Accessories</td>\n",
       "    </tr>\n",
       "    <tr>\n",
       "      <th>2</th>\n",
       "      <td>AVpf3txeLJeJML43FN82</td>\n",
       "      <td>Microsoft</td>\n",
       "      <td>Electronics,Computers,Computer Accessories,Key...</td>\n",
       "      <td>Microsoft Surface Pro 4 Type Cover with Finger...</td>\n",
       "      <td>1.000000</td>\n",
       "      <td>3.000000</td>\n",
       "      <td>Good Keyboard and addition to the Surface Pro ...</td>\n",
       "      <td>Good Keyboard</td>\n",
       "      <td>Angie</td>\n",
       "      <td>166</td>\n",
       "      <td>12</td>\n",
       "      <td>1</td>\n",
       "      <td>1</td>\n",
       "      <td>0</td>\n",
       "      <td>Electronics</td>\n",
       "      <td>Computers</td>\n",
       "      <td>Computer Accessories</td>\n",
       "    </tr>\n",
       "    <tr>\n",
       "      <th>3</th>\n",
       "      <td>AVpf3txeLJeJML43FN82</td>\n",
       "      <td>Microsoft</td>\n",
       "      <td>Electronics,Computers,Computer Accessories,Key...</td>\n",
       "      <td>Microsoft Surface Pro 4 Type Cover with Finger...</td>\n",
       "      <td>1.000000</td>\n",
       "      <td>5.000000</td>\n",
       "      <td>A must have accessory for the surface pro comp...</td>\n",
       "      <td>Must have</td>\n",
       "      <td>hooverlover</td>\n",
       "      <td>4745</td>\n",
       "      <td>12</td>\n",
       "      <td>5</td>\n",
       "      <td>0</td>\n",
       "      <td>0</td>\n",
       "      <td>Electronics</td>\n",
       "      <td>Computers</td>\n",
       "      <td>Computer Accessories</td>\n",
       "    </tr>\n",
       "    <tr>\n",
       "      <th>4</th>\n",
       "      <td>AVpf3txeLJeJML43FN82</td>\n",
       "      <td>Microsoft</td>\n",
       "      <td>Electronics,Computers,Computer Accessories,Key...</td>\n",
       "      <td>Microsoft Surface Pro 4 Type Cover with Finger...</td>\n",
       "      <td>2.000000</td>\n",
       "      <td>4.000000</td>\n",
       "      <td>Fingerprint scanner for that price is not wort...</td>\n",
       "      <td>not worth the price</td>\n",
       "      <td>lundi3</td>\n",
       "      <td>4980</td>\n",
       "      <td>12</td>\n",
       "      <td>4</td>\n",
       "      <td>0</td>\n",
       "      <td>0</td>\n",
       "      <td>Electronics</td>\n",
       "      <td>Computers</td>\n",
       "      <td>Computer Accessories</td>\n",
       "    </tr>\n",
       "  </tbody>\n",
       "</table>\n",
       "</div>"
      ],
      "text/plain": [
       "                     id      brand  \\\n",
       "0  AVpf3txeLJeJML43FN82  Microsoft   \n",
       "1  AVpf3txeLJeJML43FN82  Microsoft   \n",
       "2  AVpf3txeLJeJML43FN82  Microsoft   \n",
       "3  AVpf3txeLJeJML43FN82  Microsoft   \n",
       "4  AVpf3txeLJeJML43FN82  Microsoft   \n",
       "\n",
       "                                          categories  \\\n",
       "0  Electronics,Computers,Computer Accessories,Key...   \n",
       "1  Electronics,Computers,Computer Accessories,Key...   \n",
       "2  Electronics,Computers,Computer Accessories,Key...   \n",
       "3  Electronics,Computers,Computer Accessories,Key...   \n",
       "4  Electronics,Computers,Computer Accessories,Key...   \n",
       "\n",
       "                                                name  reviews.numHelpful  \\\n",
       "0  Microsoft Surface Pro 4 Type Cover with Finger...            2.000000   \n",
       "1  Microsoft Surface Pro 4 Type Cover with Finger...            2.000000   \n",
       "2  Microsoft Surface Pro 4 Type Cover with Finger...            1.000000   \n",
       "3  Microsoft Surface Pro 4 Type Cover with Finger...            1.000000   \n",
       "4  Microsoft Surface Pro 4 Type Cover with Finger...            2.000000   \n",
       "\n",
       "   reviews.rating                                       reviews.text  \\\n",
       "0        5.000000  This keyboard is very easy to type on, but the...   \n",
       "1        5.000000  purchased to replace original surface pro 3 ke...   \n",
       "2        3.000000  Good Keyboard and addition to the Surface Pro ...   \n",
       "3        5.000000  A must have accessory for the surface pro comp...   \n",
       "4        4.000000  Fingerprint scanner for that price is not wort...   \n",
       "\n",
       "                 reviews.title reviews.username  user_Id  Product_Id  \\\n",
       "0  Love the fingerprint reader             JNH1     2099          12   \n",
       "1              big improvement       gjohnsonxc     4684          12   \n",
       "2                Good Keyboard            Angie      166          12   \n",
       "3                    Must have      hooverlover     4745          12   \n",
       "4          not worth the price           lundi3     4980          12   \n",
       "\n",
       "   kmeans_cluster  hier_Cluster  Cluster_DBSCAN     category sub_category_1  \\\n",
       "0               5             0               0  Electronics      Computers   \n",
       "1               5             0               0  Electronics      Computers   \n",
       "2               1             1               0  Electronics      Computers   \n",
       "3               5             0               0  Electronics      Computers   \n",
       "4               4             0               0  Electronics      Computers   \n",
       "\n",
       "         sub_category_2  \n",
       "0  Computer Accessories  \n",
       "1  Computer Accessories  \n",
       "2  Computer Accessories  \n",
       "3  Computer Accessories  \n",
       "4  Computer Accessories  "
      ]
     },
     "execution_count": 68,
     "metadata": {},
     "output_type": "execute_result"
    }
   ],
   "source": [
    "data1=pd.concat([data,categories],axis=1)\n",
    "data1.head()"
   ]
  },
  {
   "cell_type": "code",
   "execution_count": 69,
   "metadata": {},
   "outputs": [
    {
     "data": {
      "text/html": [
       "<div>\n",
       "<style scoped>\n",
       "    .dataframe tbody tr th:only-of-type {\n",
       "        vertical-align: middle;\n",
       "    }\n",
       "\n",
       "    .dataframe tbody tr th {\n",
       "        vertical-align: top;\n",
       "    }\n",
       "\n",
       "    .dataframe thead th {\n",
       "        text-align: right;\n",
       "    }\n",
       "</style>\n",
       "<table border=\"1\" class=\"dataframe\">\n",
       "  <thead>\n",
       "    <tr style=\"text-align: right;\">\n",
       "      <th></th>\n",
       "      <th>name</th>\n",
       "      <th>category</th>\n",
       "      <th>sub_category_1</th>\n",
       "      <th>sub_category_2</th>\n",
       "      <th>reviews.rating</th>\n",
       "    </tr>\n",
       "  </thead>\n",
       "  <tbody>\n",
       "    <tr>\n",
       "      <th>0</th>\n",
       "      <td>Microsoft Surface Pro 4 Type Cover with Finger...</td>\n",
       "      <td>Electronics</td>\n",
       "      <td>Computers</td>\n",
       "      <td>Computer Accessories</td>\n",
       "      <td>5.000000</td>\n",
       "    </tr>\n",
       "    <tr>\n",
       "      <th>1</th>\n",
       "      <td>Microsoft Surface Pro 4 Type Cover with Finger...</td>\n",
       "      <td>Electronics</td>\n",
       "      <td>Computers</td>\n",
       "      <td>Computer Accessories</td>\n",
       "      <td>5.000000</td>\n",
       "    </tr>\n",
       "    <tr>\n",
       "      <th>2</th>\n",
       "      <td>Microsoft Surface Pro 4 Type Cover with Finger...</td>\n",
       "      <td>Electronics</td>\n",
       "      <td>Computers</td>\n",
       "      <td>Computer Accessories</td>\n",
       "      <td>3.000000</td>\n",
       "    </tr>\n",
       "    <tr>\n",
       "      <th>3</th>\n",
       "      <td>Microsoft Surface Pro 4 Type Cover with Finger...</td>\n",
       "      <td>Electronics</td>\n",
       "      <td>Computers</td>\n",
       "      <td>Computer Accessories</td>\n",
       "      <td>5.000000</td>\n",
       "    </tr>\n",
       "    <tr>\n",
       "      <th>4</th>\n",
       "      <td>Microsoft Surface Pro 4 Type Cover with Finger...</td>\n",
       "      <td>Electronics</td>\n",
       "      <td>Computers</td>\n",
       "      <td>Computer Accessories</td>\n",
       "      <td>4.000000</td>\n",
       "    </tr>\n",
       "  </tbody>\n",
       "</table>\n",
       "</div>"
      ],
      "text/plain": [
       "                                                name     category  \\\n",
       "0  Microsoft Surface Pro 4 Type Cover with Finger...  Electronics   \n",
       "1  Microsoft Surface Pro 4 Type Cover with Finger...  Electronics   \n",
       "2  Microsoft Surface Pro 4 Type Cover with Finger...  Electronics   \n",
       "3  Microsoft Surface Pro 4 Type Cover with Finger...  Electronics   \n",
       "4  Microsoft Surface Pro 4 Type Cover with Finger...  Electronics   \n",
       "\n",
       "  sub_category_1        sub_category_2  reviews.rating  \n",
       "0      Computers  Computer Accessories        5.000000  \n",
       "1      Computers  Computer Accessories        5.000000  \n",
       "2      Computers  Computer Accessories        3.000000  \n",
       "3      Computers  Computer Accessories        5.000000  \n",
       "4      Computers  Computer Accessories        4.000000  "
      ]
     },
     "execution_count": 69,
     "metadata": {},
     "output_type": "execute_result"
    }
   ],
   "source": [
    "data_feat=data1[['name','category','sub_category_1','sub_category_2','reviews.rating']]\n",
    "data_feat.head()"
   ]
  },
  {
   "cell_type": "code",
   "execution_count": 70,
   "metadata": {},
   "outputs": [
    {
     "data": {
      "text/plain": [
       "(6243, 5)"
      ]
     },
     "execution_count": 70,
     "metadata": {},
     "output_type": "execute_result"
    }
   ],
   "source": [
    "data_feat.shape"
   ]
  },
  {
   "cell_type": "code",
   "execution_count": 71,
   "metadata": {},
   "outputs": [
    {
     "data": {
      "text/plain": [
       "(146, 5)"
      ]
     },
     "execution_count": 71,
     "metadata": {},
     "output_type": "execute_result"
    }
   ],
   "source": [
    "data_feat=data_feat.drop_duplicates()\n",
    "data_feat.shape"
   ]
  },
  {
   "cell_type": "code",
   "execution_count": 72,
   "metadata": {},
   "outputs": [],
   "source": [
    "data_feat.index=data_feat['name']"
   ]
  },
  {
   "cell_type": "code",
   "execution_count": 73,
   "metadata": {},
   "outputs": [
    {
     "data": {
      "text/html": [
       "<div>\n",
       "<style scoped>\n",
       "    .dataframe tbody tr th:only-of-type {\n",
       "        vertical-align: middle;\n",
       "    }\n",
       "\n",
       "    .dataframe tbody tr th {\n",
       "        vertical-align: top;\n",
       "    }\n",
       "\n",
       "    .dataframe thead th {\n",
       "        text-align: right;\n",
       "    }\n",
       "</style>\n",
       "<table border=\"1\" class=\"dataframe\">\n",
       "  <thead>\n",
       "    <tr style=\"text-align: right;\">\n",
       "      <th></th>\n",
       "      <th>category</th>\n",
       "      <th>sub_category_1</th>\n",
       "      <th>sub_category_2</th>\n",
       "      <th>reviews.rating</th>\n",
       "    </tr>\n",
       "    <tr>\n",
       "      <th>name</th>\n",
       "      <th></th>\n",
       "      <th></th>\n",
       "      <th></th>\n",
       "      <th></th>\n",
       "    </tr>\n",
       "  </thead>\n",
       "  <tbody>\n",
       "    <tr>\n",
       "      <th>Microsoft Surface Pro 4 Type Cover with Fingerprint ID</th>\n",
       "      <td>Electronics</td>\n",
       "      <td>Computers</td>\n",
       "      <td>Computer Accessories</td>\n",
       "      <td>5.000000</td>\n",
       "    </tr>\n",
       "    <tr>\n",
       "      <th>Microsoft Surface Pro 4 Type Cover with Fingerprint ID</th>\n",
       "      <td>Electronics</td>\n",
       "      <td>Computers</td>\n",
       "      <td>Computer Accessories</td>\n",
       "      <td>3.000000</td>\n",
       "    </tr>\n",
       "    <tr>\n",
       "      <th>Microsoft Surface Pro 4 Type Cover with Fingerprint ID</th>\n",
       "      <td>Electronics</td>\n",
       "      <td>Computers</td>\n",
       "      <td>Computer Accessories</td>\n",
       "      <td>4.000000</td>\n",
       "    </tr>\n",
       "    <tr>\n",
       "      <th>Microsoft Surface Pro 4 Type Cover with Fingerprint ID</th>\n",
       "      <td>Electronics</td>\n",
       "      <td>Computers</td>\n",
       "      <td>Computer Accessories</td>\n",
       "      <td>4.606061</td>\n",
       "    </tr>\n",
       "    <tr>\n",
       "      <th>Boytone - 2500W 2.1-Ch. Home Theater System - Black Diamond</th>\n",
       "      <td>Electronics</td>\n",
       "      <td>Portable Audio &amp; Video</td>\n",
       "      <td>Home Audio &amp; Theater</td>\n",
       "      <td>5.000000</td>\n",
       "    </tr>\n",
       "  </tbody>\n",
       "</table>\n",
       "</div>"
      ],
      "text/plain": [
       "                                                       category  \\\n",
       "name                                                              \n",
       "Microsoft Surface Pro 4 Type Cover with Fingerp...  Electronics   \n",
       "Microsoft Surface Pro 4 Type Cover with Fingerp...  Electronics   \n",
       "Microsoft Surface Pro 4 Type Cover with Fingerp...  Electronics   \n",
       "Microsoft Surface Pro 4 Type Cover with Fingerp...  Electronics   \n",
       "Boytone - 2500W 2.1-Ch. Home Theater System - B...  Electronics   \n",
       "\n",
       "                                                            sub_category_1  \\\n",
       "name                                                                         \n",
       "Microsoft Surface Pro 4 Type Cover with Fingerp...               Computers   \n",
       "Microsoft Surface Pro 4 Type Cover with Fingerp...               Computers   \n",
       "Microsoft Surface Pro 4 Type Cover with Fingerp...               Computers   \n",
       "Microsoft Surface Pro 4 Type Cover with Fingerp...               Computers   \n",
       "Boytone - 2500W 2.1-Ch. Home Theater System - B...  Portable Audio & Video   \n",
       "\n",
       "                                                          sub_category_2  \\\n",
       "name                                                                       \n",
       "Microsoft Surface Pro 4 Type Cover with Fingerp...  Computer Accessories   \n",
       "Microsoft Surface Pro 4 Type Cover with Fingerp...  Computer Accessories   \n",
       "Microsoft Surface Pro 4 Type Cover with Fingerp...  Computer Accessories   \n",
       "Microsoft Surface Pro 4 Type Cover with Fingerp...  Computer Accessories   \n",
       "Boytone - 2500W 2.1-Ch. Home Theater System - B...  Home Audio & Theater   \n",
       "\n",
       "                                                    reviews.rating  \n",
       "name                                                                \n",
       "Microsoft Surface Pro 4 Type Cover with Fingerp...        5.000000  \n",
       "Microsoft Surface Pro 4 Type Cover with Fingerp...        3.000000  \n",
       "Microsoft Surface Pro 4 Type Cover with Fingerp...        4.000000  \n",
       "Microsoft Surface Pro 4 Type Cover with Fingerp...        4.606061  \n",
       "Boytone - 2500W 2.1-Ch. Home Theater System - B...        5.000000  "
      ]
     },
     "execution_count": 73,
     "metadata": {},
     "output_type": "execute_result"
    }
   ],
   "source": [
    "data_feat=data_feat.drop('name',axis=1)\n",
    "data_feat.head()"
   ]
  },
  {
   "cell_type": "code",
   "execution_count": null,
   "metadata": {},
   "outputs": [],
   "source": [
    "data3=pd.get_dummies(data_feat)"
   ]
  },
  {
   "cell_type": "code",
   "execution_count": null,
   "metadata": {},
   "outputs": [],
   "source": [
    "rec_model = NearestNeighbors(metric = 'cosine')\n",
    "rec_model.fit(data3)"
   ]
  },
  {
   "cell_type": "code",
   "execution_count": null,
   "metadata": {},
   "outputs": [],
   "source": [
    "query_product_index=12\n",
    "dist, ind = rec_model.kneighbors(data3.iloc[query_product_index, :].values.reshape(1, -1), n_neighbors = 9)"
   ]
  },
  {
   "cell_type": "code",
   "execution_count": null,
   "metadata": {},
   "outputs": [],
   "source": [
    "list(data3.index[ind[0]])[3:]"
   ]
  },
  {
   "cell_type": "code",
   "execution_count": null,
   "metadata": {},
   "outputs": [],
   "source": [
    "for i in range(3, len(dist[0])):\n",
    "    if i == 3:\n",
    "        print('Top 5 Recommendations for the user who bought the product :\\n',data3.index[query_product_index])\n",
    "    else:\n",
    "        print('\\n', data3.index[ind[0][i]])"
   ]
  },
  {
   "cell_type": "markdown",
   "metadata": {},
   "source": [
    "<a id='CF'></a>\n",
    "### 7.3 Collaborative Filtering"
   ]
  },
  {
   "cell_type": "code",
   "execution_count": 83,
   "metadata": {},
   "outputs": [
    {
     "data": {
      "text/html": [
       "<div>\n",
       "<style scoped>\n",
       "    .dataframe tbody tr th:only-of-type {\n",
       "        vertical-align: middle;\n",
       "    }\n",
       "\n",
       "    .dataframe tbody tr th {\n",
       "        vertical-align: top;\n",
       "    }\n",
       "\n",
       "    .dataframe thead th {\n",
       "        text-align: right;\n",
       "    }\n",
       "</style>\n",
       "<table border=\"1\" class=\"dataframe\">\n",
       "  <thead>\n",
       "    <tr style=\"text-align: right;\">\n",
       "      <th></th>\n",
       "      <th>id</th>\n",
       "      <th>brand</th>\n",
       "      <th>categories</th>\n",
       "      <th>name</th>\n",
       "      <th>reviews.numHelpful</th>\n",
       "      <th>reviews.rating</th>\n",
       "      <th>reviews.text</th>\n",
       "      <th>reviews.title</th>\n",
       "      <th>reviews.username</th>\n",
       "      <th>user_Id</th>\n",
       "      <th>Product_Id</th>\n",
       "      <th>kmeans_cluster</th>\n",
       "      <th>hier_Cluster</th>\n",
       "      <th>Cluster_DBSCAN</th>\n",
       "    </tr>\n",
       "  </thead>\n",
       "  <tbody>\n",
       "    <tr>\n",
       "      <th>0</th>\n",
       "      <td>AVpf3txeLJeJML43FN82</td>\n",
       "      <td>Microsoft</td>\n",
       "      <td>Electronics,Computers,Computer Accessories,Key...</td>\n",
       "      <td>Microsoft Surface Pro 4 Type Cover with Finger...</td>\n",
       "      <td>2.000000</td>\n",
       "      <td>5.000000</td>\n",
       "      <td>This keyboard is very easy to type on, but the...</td>\n",
       "      <td>Love the fingerprint reader</td>\n",
       "      <td>JNH1</td>\n",
       "      <td>2099</td>\n",
       "      <td>12</td>\n",
       "      <td>5</td>\n",
       "      <td>0</td>\n",
       "      <td>0</td>\n",
       "    </tr>\n",
       "  </tbody>\n",
       "</table>\n",
       "</div>"
      ],
      "text/plain": [
       "                     id      brand  \\\n",
       "0  AVpf3txeLJeJML43FN82  Microsoft   \n",
       "\n",
       "                                          categories  \\\n",
       "0  Electronics,Computers,Computer Accessories,Key...   \n",
       "\n",
       "                                                name  reviews.numHelpful  \\\n",
       "0  Microsoft Surface Pro 4 Type Cover with Finger...            2.000000   \n",
       "\n",
       "   reviews.rating                                       reviews.text  \\\n",
       "0        5.000000  This keyboard is very easy to type on, but the...   \n",
       "\n",
       "                 reviews.title reviews.username  user_Id  Product_Id  \\\n",
       "0  Love the fingerprint reader             JNH1     2099          12   \n",
       "\n",
       "   kmeans_cluster  hier_Cluster  Cluster_DBSCAN  \n",
       "0               5             0               0  "
      ]
     },
     "execution_count": 83,
     "metadata": {},
     "output_type": "execute_result"
    }
   ],
   "source": [
    "reader = Reader(rating_scale=(1, 5))\n",
    "data.head(1)"
   ]
  },
  {
   "cell_type": "code",
   "execution_count": 84,
   "metadata": {},
   "outputs": [],
   "source": [
    "rating_data = Dataset.load_from_df(data[['user_Id','Product_Id','reviews.rating']],reader)\n",
    "[trainset, testset] = train_test_split(rating_data, test_size=.15,shuffle=True)"
   ]
  },
  {
   "cell_type": "code",
   "execution_count": 85,
   "metadata": {},
   "outputs": [
    {
     "name": "stdout",
     "output_type": "stream",
     "text": [
      "Number of users:  5582 \n",
      "\n",
      "Number of items:  50 \n",
      "\n"
     ]
    }
   ],
   "source": [
    "trainsetfull = rating_data.build_full_trainset()\n",
    "print('Number of users: ', trainsetfull.n_users, '\\n')\n",
    "print('Number of items: ', trainsetfull.n_items, '\\n')"
   ]
  },
  {
   "cell_type": "code",
   "execution_count": 86,
   "metadata": {},
   "outputs": [],
   "source": [
    "my_k = 15\n",
    "my_min_k = 5\n",
    "my_sim_option = {'name':'pearson', 'user_based':False}"
   ]
  },
  {
   "cell_type": "code",
   "execution_count": 87,
   "metadata": {},
   "outputs": [],
   "source": [
    "algo = KNNWithMeans(k = my_k, min_k = my_min_k, sim_options = my_sim_option, verbose = True)"
   ]
  },
  {
   "cell_type": "code",
   "execution_count": 88,
   "metadata": {},
   "outputs": [
    {
     "name": "stdout",
     "output_type": "stream",
     "text": [
      "Computing the pearson similarity matrix...\n",
      "Done computing similarity matrix.\n",
      "Computing the pearson similarity matrix...\n",
      "Done computing similarity matrix.\n",
      "Computing the pearson similarity matrix...\n",
      "Done computing similarity matrix.\n",
      "Computing the pearson similarity matrix...\n",
      "Done computing similarity matrix.\n",
      "Computing the pearson similarity matrix...\n",
      "Done computing similarity matrix.\n"
     ]
    }
   ],
   "source": [
    "results = cross_validate(algo = algo, data = rating_data, measures=['RMSE'], cv=5, return_train_measures=True  )"
   ]
  },
  {
   "cell_type": "code",
   "execution_count": 89,
   "metadata": {},
   "outputs": [
    {
     "name": "stdout",
     "output_type": "stream",
     "text": [
      "0.6016273021352226\n"
     ]
    }
   ],
   "source": [
    "print(results['test_rmse'].mean())"
   ]
  },
  {
   "cell_type": "code",
   "execution_count": 90,
   "metadata": {},
   "outputs": [
    {
     "data": {
      "text/plain": [
       "<surprise.prediction_algorithms.matrix_factorization.SVDpp at 0x7fa714cc4150>"
      ]
     },
     "execution_count": 90,
     "metadata": {},
     "output_type": "execute_result"
    }
   ],
   "source": [
    "alg=SVDpp()\n",
    "alg.fit(trainsetfull)"
   ]
  },
  {
   "cell_type": "code",
   "execution_count": 91,
   "metadata": {},
   "outputs": [
    {
     "name": "stdout",
     "output_type": "stream",
     "text": [
      "Computing the pearson similarity matrix...\n",
      "Done computing similarity matrix.\n"
     ]
    },
    {
     "data": {
      "text/plain": [
       "<surprise.prediction_algorithms.knns.KNNWithMeans at 0x7fa718309250>"
      ]
     },
     "execution_count": 91,
     "metadata": {},
     "output_type": "execute_result"
    }
   ],
   "source": [
    "algo.fit(trainsetfull)"
   ]
  },
  {
   "cell_type": "code",
   "execution_count": 92,
   "metadata": {},
   "outputs": [
    {
     "data": {
      "text/plain": [
       "Prediction(uid=50, iid=2, r_ui=None, est=4.822429906542056, details={'actual_k': 0, 'was_impossible': False})"
      ]
     },
     "execution_count": 92,
     "metadata": {},
     "output_type": "execute_result"
    }
   ],
   "source": [
    "algo.predict(uid = 50, iid =2)"
   ]
  },
  {
   "cell_type": "code",
   "execution_count": 93,
   "metadata": {},
   "outputs": [],
   "source": [
    "item_id=data['Product_Id'].unique()\n",
    "item_id10=data.loc[data['user_Id']==10,'Product_Id']\n",
    "item_id_pred=np.setdiff1d(item_id,item_id10)"
   ]
  },
  {
   "cell_type": "code",
   "execution_count": 94,
   "metadata": {},
   "outputs": [
    {
     "data": {
      "text/plain": [
       "array([ 0,  1,  2,  3,  4,  5,  6,  7,  8,  9, 10, 11, 12, 13, 14, 15, 16,\n",
       "       17, 18, 19, 20, 21, 22, 23, 24, 25, 26, 27, 28, 30, 31, 32, 33, 34,\n",
       "       35, 36, 37, 38, 39, 40, 41, 42, 43, 44, 45, 46, 47, 48, 49])"
      ]
     },
     "execution_count": 94,
     "metadata": {},
     "output_type": "execute_result"
    }
   ],
   "source": [
    "item_id_pred"
   ]
  },
  {
   "cell_type": "code",
   "execution_count": 95,
   "metadata": {},
   "outputs": [
    {
     "data": {
      "text/plain": [
       "[Prediction(uid=50, iid=0, r_ui=4, est=4.781933766737105, details={'was_impossible': False}),\n",
       " Prediction(uid=50, iid=1, r_ui=4, est=4.715515369759503, details={'was_impossible': False}),\n",
       " Prediction(uid=50, iid=2, r_ui=4, est=4.8309087825490735, details={'was_impossible': False}),\n",
       " Prediction(uid=50, iid=3, r_ui=4, est=4.952441761719348, details={'was_impossible': False}),\n",
       " Prediction(uid=50, iid=4, r_ui=4, est=4.732342008613257, details={'was_impossible': False}),\n",
       " Prediction(uid=50, iid=5, r_ui=4, est=4.781813264932011, details={'was_impossible': False}),\n",
       " Prediction(uid=50, iid=6, r_ui=4, est=4.650136854680233, details={'was_impossible': False}),\n",
       " Prediction(uid=50, iid=7, r_ui=4, est=4.624350921437724, details={'was_impossible': False}),\n",
       " Prediction(uid=50, iid=8, r_ui=4, est=4.6471931777230076, details={'was_impossible': False}),\n",
       " Prediction(uid=50, iid=9, r_ui=4, est=4.857731849469515, details={'was_impossible': False}),\n",
       " Prediction(uid=50, iid=10, r_ui=4, est=4.768082771897035, details={'was_impossible': False}),\n",
       " Prediction(uid=50, iid=11, r_ui=4, est=4.8708881371145845, details={'was_impossible': False}),\n",
       " Prediction(uid=50, iid=12, r_ui=4, est=4.83881687601712, details={'was_impossible': False}),\n",
       " Prediction(uid=50, iid=13, r_ui=4, est=4.752608794485642, details={'was_impossible': False}),\n",
       " Prediction(uid=50, iid=14, r_ui=4, est=4.764472538985645, details={'was_impossible': False}),\n",
       " Prediction(uid=50, iid=15, r_ui=4, est=4.775380309911092, details={'was_impossible': False}),\n",
       " Prediction(uid=50, iid=16, r_ui=4, est=4.753259799924324, details={'was_impossible': False}),\n",
       " Prediction(uid=50, iid=17, r_ui=4, est=4.580507560639406, details={'was_impossible': False}),\n",
       " Prediction(uid=50, iid=18, r_ui=4, est=4.805477552153846, details={'was_impossible': False}),\n",
       " Prediction(uid=50, iid=19, r_ui=4, est=4.742096326831397, details={'was_impossible': False}),\n",
       " Prediction(uid=50, iid=20, r_ui=4, est=4.644754395774162, details={'was_impossible': False}),\n",
       " Prediction(uid=50, iid=21, r_ui=4, est=4.648572600247716, details={'was_impossible': False}),\n",
       " Prediction(uid=50, iid=22, r_ui=4, est=4.7710613113446545, details={'was_impossible': False}),\n",
       " Prediction(uid=50, iid=23, r_ui=4, est=4.723414907105684, details={'was_impossible': False}),\n",
       " Prediction(uid=50, iid=24, r_ui=4, est=4.685613746976215, details={'was_impossible': False}),\n",
       " Prediction(uid=50, iid=25, r_ui=4, est=4.671462568054241, details={'was_impossible': False}),\n",
       " Prediction(uid=50, iid=26, r_ui=4, est=4.647316171881507, details={'was_impossible': False}),\n",
       " Prediction(uid=50, iid=27, r_ui=4, est=4.271528972582809, details={'was_impossible': False}),\n",
       " Prediction(uid=50, iid=28, r_ui=4, est=4.715995826535087, details={'was_impossible': False}),\n",
       " Prediction(uid=50, iid=30, r_ui=4, est=4.514882560250547, details={'was_impossible': False}),\n",
       " Prediction(uid=50, iid=31, r_ui=4, est=4.670139442023653, details={'was_impossible': False}),\n",
       " Prediction(uid=50, iid=32, r_ui=4, est=4.677950671577242, details={'was_impossible': False}),\n",
       " Prediction(uid=50, iid=33, r_ui=4, est=4.803533542534619, details={'was_impossible': False}),\n",
       " Prediction(uid=50, iid=34, r_ui=4, est=4.831567750436719, details={'was_impossible': False}),\n",
       " Prediction(uid=50, iid=35, r_ui=4, est=4.685774004293269, details={'was_impossible': False}),\n",
       " Prediction(uid=50, iid=36, r_ui=4, est=4.9558931489140425, details={'was_impossible': False}),\n",
       " Prediction(uid=50, iid=37, r_ui=4, est=4.916325260948959, details={'was_impossible': False}),\n",
       " Prediction(uid=50, iid=38, r_ui=4, est=4.698907515838329, details={'was_impossible': False}),\n",
       " Prediction(uid=50, iid=39, r_ui=4, est=4.668871926853987, details={'was_impossible': False}),\n",
       " Prediction(uid=50, iid=40, r_ui=4, est=4.5899935543405785, details={'was_impossible': False}),\n",
       " Prediction(uid=50, iid=41, r_ui=4, est=4.76593554769013, details={'was_impossible': False}),\n",
       " Prediction(uid=50, iid=42, r_ui=4, est=4.667003919438956, details={'was_impossible': False}),\n",
       " Prediction(uid=50, iid=43, r_ui=4, est=4.921601559551286, details={'was_impossible': False}),\n",
       " Prediction(uid=50, iid=44, r_ui=4, est=4.565044528450882, details={'was_impossible': False}),\n",
       " Prediction(uid=50, iid=45, r_ui=4, est=4.852856472201097, details={'was_impossible': False}),\n",
       " Prediction(uid=50, iid=46, r_ui=4, est=4.699930590786946, details={'was_impossible': False}),\n",
       " Prediction(uid=50, iid=47, r_ui=4, est=4.667933147620819, details={'was_impossible': False}),\n",
       " Prediction(uid=50, iid=48, r_ui=4, est=4.766302232978276, details={'was_impossible': False}),\n",
       " Prediction(uid=50, iid=49, r_ui=4, est=4.662359722792377, details={'was_impossible': False})]"
      ]
     },
     "execution_count": 95,
     "metadata": {},
     "output_type": "execute_result"
    }
   ],
   "source": [
    "testset=[[50,iid,4] for iid in item_id_pred]\n",
    "pred=alg.test(testset)\n",
    "pred"
   ]
  },
  {
   "cell_type": "code",
   "execution_count": 96,
   "metadata": {},
   "outputs": [
    {
     "name": "stdout",
     "output_type": "stream",
     "text": [
      "Top item for user 10 has iid 36 with predicted rating 4.9558931489140425\n"
     ]
    }
   ],
   "source": [
    "pred_ratings=np.array([pred1.est for pred1 in pred])\n",
    "i_max=pred_ratings.argmax()\n",
    "iid=item_id_pred[i_max]\n",
    "print(\"Top item for user 10 has iid {0} with predicted rating {1}\".format(iid,pred_ratings[i_max]))"
   ]
  },
  {
   "cell_type": "markdown",
   "metadata": {},
   "source": [
    "<a id='HR'></a>\n",
    "### 7.4 Hybrid Recommendation System"
   ]
  },
  {
   "cell_type": "code",
   "execution_count": 97,
   "metadata": {},
   "outputs": [],
   "source": [
    "from sklearn.model_selection import train_test_split"
   ]
  },
  {
   "cell_type": "code",
   "execution_count": 98,
   "metadata": {},
   "outputs": [],
   "source": [
    "ratings=data[['Product_Id','user_Id','reviews.rating']]"
   ]
  },
  {
   "cell_type": "code",
   "execution_count": 99,
   "metadata": {},
   "outputs": [],
   "source": [
    "ratings=ratings.drop_duplicates(subset=['user_Id','Product_Id'])"
   ]
  },
  {
   "cell_type": "code",
   "execution_count": 100,
   "metadata": {},
   "outputs": [
    {
     "data": {
      "text/html": [
       "<div>\n",
       "<style scoped>\n",
       "    .dataframe tbody tr th:only-of-type {\n",
       "        vertical-align: middle;\n",
       "    }\n",
       "\n",
       "    .dataframe tbody tr th {\n",
       "        vertical-align: top;\n",
       "    }\n",
       "\n",
       "    .dataframe thead th {\n",
       "        text-align: right;\n",
       "    }\n",
       "</style>\n",
       "<table border=\"1\" class=\"dataframe\">\n",
       "  <thead>\n",
       "    <tr style=\"text-align: right;\">\n",
       "      <th></th>\n",
       "      <th>Product_Id</th>\n",
       "      <th>user_Id</th>\n",
       "      <th>reviews.rating</th>\n",
       "    </tr>\n",
       "  </thead>\n",
       "  <tbody>\n",
       "    <tr>\n",
       "      <th>0</th>\n",
       "      <td>12</td>\n",
       "      <td>2099</td>\n",
       "      <td>5.000000</td>\n",
       "    </tr>\n",
       "    <tr>\n",
       "      <th>1</th>\n",
       "      <td>12</td>\n",
       "      <td>4684</td>\n",
       "      <td>5.000000</td>\n",
       "    </tr>\n",
       "    <tr>\n",
       "      <th>2</th>\n",
       "      <td>12</td>\n",
       "      <td>166</td>\n",
       "      <td>3.000000</td>\n",
       "    </tr>\n",
       "    <tr>\n",
       "      <th>3</th>\n",
       "      <td>12</td>\n",
       "      <td>4745</td>\n",
       "      <td>5.000000</td>\n",
       "    </tr>\n",
       "    <tr>\n",
       "      <th>4</th>\n",
       "      <td>12</td>\n",
       "      <td>4980</td>\n",
       "      <td>4.000000</td>\n",
       "    </tr>\n",
       "  </tbody>\n",
       "</table>\n",
       "</div>"
      ],
      "text/plain": [
       "   Product_Id  user_Id  reviews.rating\n",
       "0          12     2099        5.000000\n",
       "1          12     4684        5.000000\n",
       "2          12      166        3.000000\n",
       "3          12     4745        5.000000\n",
       "4          12     4980        4.000000"
      ]
     },
     "execution_count": 100,
     "metadata": {},
     "output_type": "execute_result"
    }
   ],
   "source": [
    "ratings.head()"
   ]
  },
  {
   "cell_type": "code",
   "execution_count": 101,
   "metadata": {},
   "outputs": [
    {
     "data": {
      "text/plain": [
       "5.000000    3981\n",
       "4.000000    1491\n",
       "3.000000     391\n",
       "4.669565      17\n",
       "4.535714      11\n",
       "4.263158      11\n",
       "4.526923      10\n",
       "4.851852       9\n",
       "4.604478       8\n",
       "4.606061       8\n",
       "4.520693       8\n",
       "4.625954       7\n",
       "4.453333       7\n",
       "4.426190       6\n",
       "4.412903       5\n",
       "4.435714       5\n",
       "4.600000       5\n",
       "3.850000       4\n",
       "Name: reviews.rating, dtype: int64"
      ]
     },
     "execution_count": 101,
     "metadata": {},
     "output_type": "execute_result"
    }
   ],
   "source": [
    "ratings['reviews.rating'].value_counts()"
   ]
  },
  {
   "cell_type": "code",
   "execution_count": 102,
   "metadata": {},
   "outputs": [
    {
     "data": {
      "text/html": [
       "<div>\n",
       "<style scoped>\n",
       "    .dataframe tbody tr th:only-of-type {\n",
       "        vertical-align: middle;\n",
       "    }\n",
       "\n",
       "    .dataframe tbody tr th {\n",
       "        vertical-align: top;\n",
       "    }\n",
       "\n",
       "    .dataframe thead th {\n",
       "        text-align: right;\n",
       "    }\n",
       "</style>\n",
       "<table border=\"1\" class=\"dataframe\">\n",
       "  <thead>\n",
       "    <tr style=\"text-align: right;\">\n",
       "      <th></th>\n",
       "      <th>Product_Id</th>\n",
       "      <th>name</th>\n",
       "      <th>categories</th>\n",
       "    </tr>\n",
       "  </thead>\n",
       "  <tbody>\n",
       "    <tr>\n",
       "      <th>0</th>\n",
       "      <td>12</td>\n",
       "      <td>Microsoft Surface Pro 4 Type Cover with Finger...</td>\n",
       "      <td>Electronics,Computers,Computer Accessories,Key...</td>\n",
       "    </tr>\n",
       "    <tr>\n",
       "      <th>1</th>\n",
       "      <td>12</td>\n",
       "      <td>Microsoft Surface Pro 4 Type Cover with Finger...</td>\n",
       "      <td>Electronics,Computers,Computer Accessories,Key...</td>\n",
       "    </tr>\n",
       "    <tr>\n",
       "      <th>2</th>\n",
       "      <td>12</td>\n",
       "      <td>Microsoft Surface Pro 4 Type Cover with Finger...</td>\n",
       "      <td>Electronics,Computers,Computer Accessories,Key...</td>\n",
       "    </tr>\n",
       "    <tr>\n",
       "      <th>3</th>\n",
       "      <td>12</td>\n",
       "      <td>Microsoft Surface Pro 4 Type Cover with Finger...</td>\n",
       "      <td>Electronics,Computers,Computer Accessories,Key...</td>\n",
       "    </tr>\n",
       "    <tr>\n",
       "      <th>4</th>\n",
       "      <td>12</td>\n",
       "      <td>Microsoft Surface Pro 4 Type Cover with Finger...</td>\n",
       "      <td>Electronics,Computers,Computer Accessories,Key...</td>\n",
       "    </tr>\n",
       "  </tbody>\n",
       "</table>\n",
       "</div>"
      ],
      "text/plain": [
       "   Product_Id                                               name  \\\n",
       "0          12  Microsoft Surface Pro 4 Type Cover with Finger...   \n",
       "1          12  Microsoft Surface Pro 4 Type Cover with Finger...   \n",
       "2          12  Microsoft Surface Pro 4 Type Cover with Finger...   \n",
       "3          12  Microsoft Surface Pro 4 Type Cover with Finger...   \n",
       "4          12  Microsoft Surface Pro 4 Type Cover with Finger...   \n",
       "\n",
       "                                          categories  \n",
       "0  Electronics,Computers,Computer Accessories,Key...  \n",
       "1  Electronics,Computers,Computer Accessories,Key...  \n",
       "2  Electronics,Computers,Computer Accessories,Key...  \n",
       "3  Electronics,Computers,Computer Accessories,Key...  \n",
       "4  Electronics,Computers,Computer Accessories,Key...  "
      ]
     },
     "execution_count": 102,
     "metadata": {},
     "output_type": "execute_result"
    }
   ],
   "source": [
    "products=data[['Product_Id','name','categories']]\n",
    "products.head()"
   ]
  },
  {
   "cell_type": "code",
   "execution_count": 103,
   "metadata": {},
   "outputs": [],
   "source": [
    "trainDF, tempDF = train_test_split(ratings, test_size=0.2, random_state=100)"
   ]
  },
  {
   "cell_type": "code",
   "execution_count": 104,
   "metadata": {},
   "outputs": [
    {
     "data": {
      "text/html": [
       "<div>\n",
       "<style scoped>\n",
       "    .dataframe tbody tr th:only-of-type {\n",
       "        vertical-align: middle;\n",
       "    }\n",
       "\n",
       "    .dataframe tbody tr th {\n",
       "        vertical-align: top;\n",
       "    }\n",
       "\n",
       "    .dataframe thead th {\n",
       "        text-align: right;\n",
       "    }\n",
       "</style>\n",
       "<table border=\"1\" class=\"dataframe\">\n",
       "  <thead>\n",
       "    <tr style=\"text-align: right;\">\n",
       "      <th></th>\n",
       "      <th>Product_Id</th>\n",
       "      <th>user_Id</th>\n",
       "      <th>reviews.rating</th>\n",
       "    </tr>\n",
       "  </thead>\n",
       "  <tbody>\n",
       "    <tr>\n",
       "      <th>6161</th>\n",
       "      <td>29</td>\n",
       "      <td>5477</td>\n",
       "      <td>5.000000</td>\n",
       "    </tr>\n",
       "    <tr>\n",
       "      <th>4983</th>\n",
       "      <td>29</td>\n",
       "      <td>1033</td>\n",
       "      <td>3.000000</td>\n",
       "    </tr>\n",
       "    <tr>\n",
       "      <th>2538</th>\n",
       "      <td>47</td>\n",
       "      <td>2330</td>\n",
       "      <td>5.000000</td>\n",
       "    </tr>\n",
       "    <tr>\n",
       "      <th>303</th>\n",
       "      <td>12</td>\n",
       "      <td>4806</td>\n",
       "      <td>5.000000</td>\n",
       "    </tr>\n",
       "    <tr>\n",
       "      <th>2563</th>\n",
       "      <td>47</td>\n",
       "      <td>2175</td>\n",
       "      <td>5.000000</td>\n",
       "    </tr>\n",
       "  </tbody>\n",
       "</table>\n",
       "</div>"
      ],
      "text/plain": [
       "      Product_Id  user_Id  reviews.rating\n",
       "6161          29     5477        5.000000\n",
       "4983          29     1033        3.000000\n",
       "2538          47     2330        5.000000\n",
       "303           12     4806        5.000000\n",
       "2563          47     2175        5.000000"
      ]
     },
     "execution_count": 104,
     "metadata": {},
     "output_type": "execute_result"
    }
   ],
   "source": [
    "tempDF.head()"
   ]
  },
  {
   "cell_type": "code",
   "execution_count": 105,
   "metadata": {},
   "outputs": [
    {
     "data": {
      "text/html": [
       "<div>\n",
       "<style scoped>\n",
       "    .dataframe tbody tr th:only-of-type {\n",
       "        vertical-align: middle;\n",
       "    }\n",
       "\n",
       "    .dataframe tbody tr th {\n",
       "        vertical-align: top;\n",
       "    }\n",
       "\n",
       "    .dataframe thead th {\n",
       "        text-align: right;\n",
       "    }\n",
       "</style>\n",
       "<table border=\"1\" class=\"dataframe\">\n",
       "  <thead>\n",
       "    <tr style=\"text-align: right;\">\n",
       "      <th></th>\n",
       "      <th>Product_Id</th>\n",
       "      <th>user_Id</th>\n",
       "      <th>reviews.rating</th>\n",
       "    </tr>\n",
       "  </thead>\n",
       "  <tbody>\n",
       "    <tr>\n",
       "      <th>3501</th>\n",
       "      <td>46</td>\n",
       "      <td>189</td>\n",
       "      <td>4.000000</td>\n",
       "    </tr>\n",
       "    <tr>\n",
       "      <th>2318</th>\n",
       "      <td>17</td>\n",
       "      <td>1995</td>\n",
       "      <td>5.000000</td>\n",
       "    </tr>\n",
       "    <tr>\n",
       "      <th>4122</th>\n",
       "      <td>39</td>\n",
       "      <td>3472</td>\n",
       "      <td>4.526923</td>\n",
       "    </tr>\n",
       "    <tr>\n",
       "      <th>1557</th>\n",
       "      <td>11</td>\n",
       "      <td>2625</td>\n",
       "      <td>5.000000</td>\n",
       "    </tr>\n",
       "    <tr>\n",
       "      <th>5764</th>\n",
       "      <td>29</td>\n",
       "      <td>1992</td>\n",
       "      <td>5.000000</td>\n",
       "    </tr>\n",
       "  </tbody>\n",
       "</table>\n",
       "</div>"
      ],
      "text/plain": [
       "      Product_Id  user_Id  reviews.rating\n",
       "3501          46      189        4.000000\n",
       "2318          17     1995        5.000000\n",
       "4122          39     3472        4.526923\n",
       "1557          11     2625        5.000000\n",
       "5764          29     1992        5.000000"
      ]
     },
     "execution_count": 105,
     "metadata": {},
     "output_type": "execute_result"
    }
   ],
   "source": [
    "trainDF = trainDF.dropna()\n",
    "trainDF.head()"
   ]
  },
  {
   "cell_type": "code",
   "execution_count": 106,
   "metadata": {},
   "outputs": [
    {
     "data": {
      "text/html": [
       "<div>\n",
       "<style scoped>\n",
       "    .dataframe tbody tr th:only-of-type {\n",
       "        vertical-align: middle;\n",
       "    }\n",
       "\n",
       "    .dataframe tbody tr th {\n",
       "        vertical-align: top;\n",
       "    }\n",
       "\n",
       "    .dataframe thead th {\n",
       "        text-align: right;\n",
       "    }\n",
       "</style>\n",
       "<table border=\"1\" class=\"dataframe\">\n",
       "  <thead>\n",
       "    <tr style=\"text-align: right;\">\n",
       "      <th></th>\n",
       "      <th>index</th>\n",
       "      <th>Product_Id</th>\n",
       "      <th>user_Id</th>\n",
       "      <th>reviews.rating</th>\n",
       "    </tr>\n",
       "  </thead>\n",
       "  <tbody>\n",
       "    <tr>\n",
       "      <th>0</th>\n",
       "      <td>3501</td>\n",
       "      <td>46</td>\n",
       "      <td>189</td>\n",
       "      <td>4.000000</td>\n",
       "    </tr>\n",
       "    <tr>\n",
       "      <th>1</th>\n",
       "      <td>2318</td>\n",
       "      <td>17</td>\n",
       "      <td>1995</td>\n",
       "      <td>5.000000</td>\n",
       "    </tr>\n",
       "    <tr>\n",
       "      <th>2</th>\n",
       "      <td>4122</td>\n",
       "      <td>39</td>\n",
       "      <td>3472</td>\n",
       "      <td>4.526923</td>\n",
       "    </tr>\n",
       "    <tr>\n",
       "      <th>3</th>\n",
       "      <td>1557</td>\n",
       "      <td>11</td>\n",
       "      <td>2625</td>\n",
       "      <td>5.000000</td>\n",
       "    </tr>\n",
       "    <tr>\n",
       "      <th>4</th>\n",
       "      <td>5764</td>\n",
       "      <td>29</td>\n",
       "      <td>1992</td>\n",
       "      <td>5.000000</td>\n",
       "    </tr>\n",
       "  </tbody>\n",
       "</table>\n",
       "</div>"
      ],
      "text/plain": [
       "   index  Product_Id  user_Id  reviews.rating\n",
       "0   3501          46      189        4.000000\n",
       "1   2318          17     1995        5.000000\n",
       "2   4122          39     3472        4.526923\n",
       "3   1557          11     2625        5.000000\n",
       "4   5764          29     1992        5.000000"
      ]
     },
     "execution_count": 106,
     "metadata": {},
     "output_type": "execute_result"
    }
   ],
   "source": [
    "ratings = pd.concat([trainDF, tempDF]).reset_index()\n",
    "ratings.head()"
   ]
  },
  {
   "cell_type": "code",
   "execution_count": 107,
   "metadata": {},
   "outputs": [
    {
     "data": {
      "text/html": [
       "<div>\n",
       "<style scoped>\n",
       "    .dataframe tbody tr th:only-of-type {\n",
       "        vertical-align: middle;\n",
       "    }\n",
       "\n",
       "    .dataframe tbody tr th {\n",
       "        vertical-align: top;\n",
       "    }\n",
       "\n",
       "    .dataframe thead th {\n",
       "        text-align: right;\n",
       "    }\n",
       "</style>\n",
       "<table border=\"1\" class=\"dataframe\">\n",
       "  <thead>\n",
       "    <tr style=\"text-align: right;\">\n",
       "      <th></th>\n",
       "      <th>index</th>\n",
       "      <th>Product_Id</th>\n",
       "      <th>user_Id</th>\n",
       "      <th>reviews.rating</th>\n",
       "    </tr>\n",
       "  </thead>\n",
       "  <tbody>\n",
       "    <tr>\n",
       "      <th>0</th>\n",
       "      <td>3501</td>\n",
       "      <td>46</td>\n",
       "      <td>189</td>\n",
       "      <td>4.000000</td>\n",
       "    </tr>\n",
       "    <tr>\n",
       "      <th>1</th>\n",
       "      <td>2318</td>\n",
       "      <td>17</td>\n",
       "      <td>1995</td>\n",
       "      <td>5.000000</td>\n",
       "    </tr>\n",
       "    <tr>\n",
       "      <th>2</th>\n",
       "      <td>4122</td>\n",
       "      <td>39</td>\n",
       "      <td>3472</td>\n",
       "      <td>4.526923</td>\n",
       "    </tr>\n",
       "    <tr>\n",
       "      <th>3</th>\n",
       "      <td>1557</td>\n",
       "      <td>11</td>\n",
       "      <td>2625</td>\n",
       "      <td>5.000000</td>\n",
       "    </tr>\n",
       "    <tr>\n",
       "      <th>4</th>\n",
       "      <td>5764</td>\n",
       "      <td>29</td>\n",
       "      <td>1992</td>\n",
       "      <td>5.000000</td>\n",
       "    </tr>\n",
       "    <tr>\n",
       "      <th>...</th>\n",
       "      <td>...</td>\n",
       "      <td>...</td>\n",
       "      <td>...</td>\n",
       "      <td>...</td>\n",
       "    </tr>\n",
       "    <tr>\n",
       "      <th>5979</th>\n",
       "      <td>5570</td>\n",
       "      <td>29</td>\n",
       "      <td>180</td>\n",
       "      <td>5.000000</td>\n",
       "    </tr>\n",
       "    <tr>\n",
       "      <th>5980</th>\n",
       "      <td>5892</td>\n",
       "      <td>29</td>\n",
       "      <td>5467</td>\n",
       "      <td>5.000000</td>\n",
       "    </tr>\n",
       "    <tr>\n",
       "      <th>5981</th>\n",
       "      <td>2826</td>\n",
       "      <td>4</td>\n",
       "      <td>2087</td>\n",
       "      <td>4.000000</td>\n",
       "    </tr>\n",
       "    <tr>\n",
       "      <th>5982</th>\n",
       "      <td>1128</td>\n",
       "      <td>40</td>\n",
       "      <td>4935</td>\n",
       "      <td>3.000000</td>\n",
       "    </tr>\n",
       "    <tr>\n",
       "      <th>5983</th>\n",
       "      <td>2935</td>\n",
       "      <td>4</td>\n",
       "      <td>455</td>\n",
       "      <td>5.000000</td>\n",
       "    </tr>\n",
       "  </tbody>\n",
       "</table>\n",
       "<p>5984 rows × 4 columns</p>\n",
       "</div>"
      ],
      "text/plain": [
       "      index  Product_Id  user_Id  reviews.rating\n",
       "0      3501          46      189        4.000000\n",
       "1      2318          17     1995        5.000000\n",
       "2      4122          39     3472        4.526923\n",
       "3      1557          11     2625        5.000000\n",
       "4      5764          29     1992        5.000000\n",
       "...     ...         ...      ...             ...\n",
       "5979   5570          29      180        5.000000\n",
       "5980   5892          29     5467        5.000000\n",
       "5981   2826           4     2087        4.000000\n",
       "5982   1128          40     4935        3.000000\n",
       "5983   2935           4      455        5.000000\n",
       "\n",
       "[5984 rows x 4 columns]"
      ]
     },
     "execution_count": 107,
     "metadata": {},
     "output_type": "execute_result"
    }
   ],
   "source": [
    "ratings.drop_duplicates()"
   ]
  },
  {
   "cell_type": "code",
   "execution_count": 108,
   "metadata": {},
   "outputs": [
    {
     "data": {
      "text/html": [
       "<div>\n",
       "<style scoped>\n",
       "    .dataframe tbody tr th:only-of-type {\n",
       "        vertical-align: middle;\n",
       "    }\n",
       "\n",
       "    .dataframe tbody tr th {\n",
       "        vertical-align: top;\n",
       "    }\n",
       "\n",
       "    .dataframe thead th {\n",
       "        text-align: right;\n",
       "    }\n",
       "</style>\n",
       "<table border=\"1\" class=\"dataframe\">\n",
       "  <thead>\n",
       "    <tr style=\"text-align: right;\">\n",
       "      <th>user_Id</th>\n",
       "      <th>0</th>\n",
       "      <th>1</th>\n",
       "      <th>2</th>\n",
       "      <th>3</th>\n",
       "      <th>4</th>\n",
       "      <th>5</th>\n",
       "      <th>6</th>\n",
       "      <th>7</th>\n",
       "      <th>8</th>\n",
       "      <th>9</th>\n",
       "      <th>...</th>\n",
       "      <th>5572</th>\n",
       "      <th>5573</th>\n",
       "      <th>5574</th>\n",
       "      <th>5575</th>\n",
       "      <th>5576</th>\n",
       "      <th>5577</th>\n",
       "      <th>5578</th>\n",
       "      <th>5579</th>\n",
       "      <th>5580</th>\n",
       "      <th>5581</th>\n",
       "    </tr>\n",
       "    <tr>\n",
       "      <th>Product_Id</th>\n",
       "      <th></th>\n",
       "      <th></th>\n",
       "      <th></th>\n",
       "      <th></th>\n",
       "      <th></th>\n",
       "      <th></th>\n",
       "      <th></th>\n",
       "      <th></th>\n",
       "      <th></th>\n",
       "      <th></th>\n",
       "      <th></th>\n",
       "      <th></th>\n",
       "      <th></th>\n",
       "      <th></th>\n",
       "      <th></th>\n",
       "      <th></th>\n",
       "      <th></th>\n",
       "      <th></th>\n",
       "      <th></th>\n",
       "      <th></th>\n",
       "      <th></th>\n",
       "    </tr>\n",
       "  </thead>\n",
       "  <tbody>\n",
       "    <tr>\n",
       "      <th>0</th>\n",
       "      <td>0.000000</td>\n",
       "      <td>0.000000</td>\n",
       "      <td>0.000000</td>\n",
       "      <td>0.000000</td>\n",
       "      <td>0.000000</td>\n",
       "      <td>0.000000</td>\n",
       "      <td>0.000000</td>\n",
       "      <td>0.000000</td>\n",
       "      <td>0.000000</td>\n",
       "      <td>0.000000</td>\n",
       "      <td>...</td>\n",
       "      <td>0.000000</td>\n",
       "      <td>0.000000</td>\n",
       "      <td>0.000000</td>\n",
       "      <td>0.000000</td>\n",
       "      <td>0.000000</td>\n",
       "      <td>0.000000</td>\n",
       "      <td>0.000000</td>\n",
       "      <td>0.000000</td>\n",
       "      <td>0.000000</td>\n",
       "      <td>0.000000</td>\n",
       "    </tr>\n",
       "    <tr>\n",
       "      <th>1</th>\n",
       "      <td>0.000000</td>\n",
       "      <td>0.000000</td>\n",
       "      <td>0.000000</td>\n",
       "      <td>0.000000</td>\n",
       "      <td>0.000000</td>\n",
       "      <td>0.000000</td>\n",
       "      <td>0.000000</td>\n",
       "      <td>0.000000</td>\n",
       "      <td>0.000000</td>\n",
       "      <td>0.000000</td>\n",
       "      <td>...</td>\n",
       "      <td>0.000000</td>\n",
       "      <td>0.000000</td>\n",
       "      <td>0.000000</td>\n",
       "      <td>0.000000</td>\n",
       "      <td>0.000000</td>\n",
       "      <td>0.000000</td>\n",
       "      <td>0.000000</td>\n",
       "      <td>0.000000</td>\n",
       "      <td>0.000000</td>\n",
       "      <td>0.000000</td>\n",
       "    </tr>\n",
       "    <tr>\n",
       "      <th>2</th>\n",
       "      <td>0.000000</td>\n",
       "      <td>0.000000</td>\n",
       "      <td>0.000000</td>\n",
       "      <td>5.000000</td>\n",
       "      <td>0.000000</td>\n",
       "      <td>0.000000</td>\n",
       "      <td>0.000000</td>\n",
       "      <td>0.000000</td>\n",
       "      <td>0.000000</td>\n",
       "      <td>0.000000</td>\n",
       "      <td>...</td>\n",
       "      <td>0.000000</td>\n",
       "      <td>0.000000</td>\n",
       "      <td>0.000000</td>\n",
       "      <td>0.000000</td>\n",
       "      <td>0.000000</td>\n",
       "      <td>0.000000</td>\n",
       "      <td>5.000000</td>\n",
       "      <td>0.000000</td>\n",
       "      <td>0.000000</td>\n",
       "      <td>0.000000</td>\n",
       "    </tr>\n",
       "    <tr>\n",
       "      <th>3</th>\n",
       "      <td>0.000000</td>\n",
       "      <td>0.000000</td>\n",
       "      <td>0.000000</td>\n",
       "      <td>0.000000</td>\n",
       "      <td>0.000000</td>\n",
       "      <td>0.000000</td>\n",
       "      <td>0.000000</td>\n",
       "      <td>0.000000</td>\n",
       "      <td>0.000000</td>\n",
       "      <td>0.000000</td>\n",
       "      <td>...</td>\n",
       "      <td>0.000000</td>\n",
       "      <td>0.000000</td>\n",
       "      <td>0.000000</td>\n",
       "      <td>0.000000</td>\n",
       "      <td>0.000000</td>\n",
       "      <td>0.000000</td>\n",
       "      <td>0.000000</td>\n",
       "      <td>0.000000</td>\n",
       "      <td>0.000000</td>\n",
       "      <td>0.000000</td>\n",
       "    </tr>\n",
       "    <tr>\n",
       "      <th>4</th>\n",
       "      <td>0.000000</td>\n",
       "      <td>0.000000</td>\n",
       "      <td>0.000000</td>\n",
       "      <td>0.000000</td>\n",
       "      <td>0.000000</td>\n",
       "      <td>0.000000</td>\n",
       "      <td>0.000000</td>\n",
       "      <td>0.000000</td>\n",
       "      <td>0.000000</td>\n",
       "      <td>0.000000</td>\n",
       "      <td>...</td>\n",
       "      <td>0.000000</td>\n",
       "      <td>0.000000</td>\n",
       "      <td>0.000000</td>\n",
       "      <td>0.000000</td>\n",
       "      <td>0.000000</td>\n",
       "      <td>0.000000</td>\n",
       "      <td>0.000000</td>\n",
       "      <td>0.000000</td>\n",
       "      <td>0.000000</td>\n",
       "      <td>0.000000</td>\n",
       "    </tr>\n",
       "  </tbody>\n",
       "</table>\n",
       "<p>5 rows × 5582 columns</p>\n",
       "</div>"
      ],
      "text/plain": [
       "user_Id        0        1        2        3        4        5        6     \\\n",
       "Product_Id                                                                  \n",
       "0          0.000000 0.000000 0.000000 0.000000 0.000000 0.000000 0.000000   \n",
       "1          0.000000 0.000000 0.000000 0.000000 0.000000 0.000000 0.000000   \n",
       "2          0.000000 0.000000 0.000000 5.000000 0.000000 0.000000 0.000000   \n",
       "3          0.000000 0.000000 0.000000 0.000000 0.000000 0.000000 0.000000   \n",
       "4          0.000000 0.000000 0.000000 0.000000 0.000000 0.000000 0.000000   \n",
       "\n",
       "user_Id        7        8        9     ...     5572     5573     5574  \\\n",
       "Product_Id                             ...                              \n",
       "0          0.000000 0.000000 0.000000  ... 0.000000 0.000000 0.000000   \n",
       "1          0.000000 0.000000 0.000000  ... 0.000000 0.000000 0.000000   \n",
       "2          0.000000 0.000000 0.000000  ... 0.000000 0.000000 0.000000   \n",
       "3          0.000000 0.000000 0.000000  ... 0.000000 0.000000 0.000000   \n",
       "4          0.000000 0.000000 0.000000  ... 0.000000 0.000000 0.000000   \n",
       "\n",
       "user_Id        5575     5576     5577     5578     5579     5580     5581  \n",
       "Product_Id                                                                 \n",
       "0          0.000000 0.000000 0.000000 0.000000 0.000000 0.000000 0.000000  \n",
       "1          0.000000 0.000000 0.000000 0.000000 0.000000 0.000000 0.000000  \n",
       "2          0.000000 0.000000 0.000000 5.000000 0.000000 0.000000 0.000000  \n",
       "3          0.000000 0.000000 0.000000 0.000000 0.000000 0.000000 0.000000  \n",
       "4          0.000000 0.000000 0.000000 0.000000 0.000000 0.000000 0.000000  \n",
       "\n",
       "[5 rows x 5582 columns]"
      ]
     },
     "execution_count": 108,
     "metadata": {},
     "output_type": "execute_result"
    }
   ],
   "source": [
    "ratings2=ratings.pivot(index='Product_Id',columns='user_Id',values='reviews.rating').fillna(0)\n",
    "ratings2.head()"
   ]
  },
  {
   "cell_type": "code",
   "execution_count": 109,
   "metadata": {},
   "outputs": [
    {
     "data": {
      "text/plain": [
       "TruncatedSVD(n_components=40, random_state=4)"
      ]
     },
     "execution_count": 109,
     "metadata": {},
     "output_type": "execute_result"
    }
   ],
   "source": [
    "from sklearn.decomposition import TruncatedSVD\n",
    "svd=TruncatedSVD(n_components=40,random_state=4)\n",
    "svd.fit(ratings2)"
   ]
  },
  {
   "cell_type": "code",
   "execution_count": 110,
   "metadata": {},
   "outputs": [
    {
     "data": {
      "image/png": "[encoded data removed]",
      "text/plain": [
       "<Figure size 1080x576 with 1 Axes>"
      ]
     },
     "metadata": {
      "needs_background": "light"
     },
     "output_type": "display_data"
    }
   ],
   "source": [
    "plt.plot(np.cumsum(svd.explained_variance_ratio_))\n",
    "plt.show()"
   ]
  },
  {
   "cell_type": "code",
   "execution_count": 111,
   "metadata": {},
   "outputs": [
    {
     "data": {
      "image/png": "[encoded data removed]",
      "text/plain": [
       "<Figure size 1080x576 with 1 Axes>"
      ]
     },
     "metadata": {
      "needs_background": "light"
     },
     "output_type": "display_data"
    }
   ],
   "source": [
    "plt.plot((svd.explained_variance_ratio_))\n",
    "plt.show()"
   ]
  },
  {
   "cell_type": "code",
   "execution_count": 112,
   "metadata": {},
   "outputs": [
    {
     "data": {
      "text/plain": [
       "(50, 40)"
      ]
     },
     "execution_count": 112,
     "metadata": {},
     "output_type": "execute_result"
    }
   ],
   "source": [
    "ratings_svd=svd.fit_transform(ratings2)\n",
    "ratings_svd.shape"
   ]
  },
  {
   "cell_type": "code",
   "execution_count": 113,
   "metadata": {},
   "outputs": [],
   "source": [
    "pid=ratings2.index"
   ]
  },
  {
   "cell_type": "code",
   "execution_count": 114,
   "metadata": {},
   "outputs": [
    {
     "data": {
      "text/html": [
       "<div>\n",
       "<style scoped>\n",
       "    .dataframe tbody tr th:only-of-type {\n",
       "        vertical-align: middle;\n",
       "    }\n",
       "\n",
       "    .dataframe tbody tr th {\n",
       "        vertical-align: top;\n",
       "    }\n",
       "\n",
       "    .dataframe thead th {\n",
       "        text-align: right;\n",
       "    }\n",
       "</style>\n",
       "<table border=\"1\" class=\"dataframe\">\n",
       "  <thead>\n",
       "    <tr style=\"text-align: right;\">\n",
       "      <th>Product_Id</th>\n",
       "      <th>0</th>\n",
       "      <th>1</th>\n",
       "      <th>2</th>\n",
       "      <th>3</th>\n",
       "      <th>4</th>\n",
       "      <th>5</th>\n",
       "      <th>6</th>\n",
       "      <th>7</th>\n",
       "      <th>8</th>\n",
       "      <th>9</th>\n",
       "      <th>...</th>\n",
       "      <th>40</th>\n",
       "      <th>41</th>\n",
       "      <th>42</th>\n",
       "      <th>43</th>\n",
       "      <th>44</th>\n",
       "      <th>45</th>\n",
       "      <th>46</th>\n",
       "      <th>47</th>\n",
       "      <th>48</th>\n",
       "      <th>49</th>\n",
       "    </tr>\n",
       "    <tr>\n",
       "      <th>Product_Id</th>\n",
       "      <th></th>\n",
       "      <th></th>\n",
       "      <th></th>\n",
       "      <th></th>\n",
       "      <th></th>\n",
       "      <th></th>\n",
       "      <th></th>\n",
       "      <th></th>\n",
       "      <th></th>\n",
       "      <th></th>\n",
       "      <th></th>\n",
       "      <th></th>\n",
       "      <th></th>\n",
       "      <th></th>\n",
       "      <th></th>\n",
       "      <th></th>\n",
       "      <th></th>\n",
       "      <th></th>\n",
       "      <th></th>\n",
       "      <th></th>\n",
       "      <th></th>\n",
       "    </tr>\n",
       "  </thead>\n",
       "  <tbody>\n",
       "    <tr>\n",
       "      <th>0</th>\n",
       "      <td>1.000000</td>\n",
       "      <td>-0.031776</td>\n",
       "      <td>-0.031603</td>\n",
       "      <td>-0.020244</td>\n",
       "      <td>-0.015201</td>\n",
       "      <td>-0.041346</td>\n",
       "      <td>-0.019706</td>\n",
       "      <td>-0.036426</td>\n",
       "      <td>0.013017</td>\n",
       "      <td>-0.028209</td>\n",
       "      <td>...</td>\n",
       "      <td>-0.045954</td>\n",
       "      <td>-0.050170</td>\n",
       "      <td>-0.025028</td>\n",
       "      <td>-0.024397</td>\n",
       "      <td>-0.025844</td>\n",
       "      <td>-0.045315</td>\n",
       "      <td>-0.017446</td>\n",
       "      <td>-0.034689</td>\n",
       "      <td>-0.048668</td>\n",
       "      <td>-0.027477</td>\n",
       "    </tr>\n",
       "    <tr>\n",
       "      <th>1</th>\n",
       "      <td>-0.031776</td>\n",
       "      <td>1.000000</td>\n",
       "      <td>-0.029667</td>\n",
       "      <td>-0.025336</td>\n",
       "      <td>-0.006936</td>\n",
       "      <td>-0.051351</td>\n",
       "      <td>-0.024421</td>\n",
       "      <td>-0.016466</td>\n",
       "      <td>-0.091013</td>\n",
       "      <td>-0.034959</td>\n",
       "      <td>...</td>\n",
       "      <td>-0.042399</td>\n",
       "      <td>-0.062940</td>\n",
       "      <td>-0.035436</td>\n",
       "      <td>-0.005037</td>\n",
       "      <td>-0.032028</td>\n",
       "      <td>-0.034587</td>\n",
       "      <td>-0.005710</td>\n",
       "      <td>-0.025302</td>\n",
       "      <td>-0.041211</td>\n",
       "      <td>0.001011</td>\n",
       "    </tr>\n",
       "    <tr>\n",
       "      <th>2</th>\n",
       "      <td>-0.031603</td>\n",
       "      <td>-0.029667</td>\n",
       "      <td>1.000000</td>\n",
       "      <td>-0.025953</td>\n",
       "      <td>-0.012291</td>\n",
       "      <td>-0.050993</td>\n",
       "      <td>-0.024288</td>\n",
       "      <td>0.033287</td>\n",
       "      <td>0.154531</td>\n",
       "      <td>-0.034768</td>\n",
       "      <td>...</td>\n",
       "      <td>-0.046594</td>\n",
       "      <td>-0.062910</td>\n",
       "      <td>0.129950</td>\n",
       "      <td>-0.019365</td>\n",
       "      <td>-0.031853</td>\n",
       "      <td>-0.032026</td>\n",
       "      <td>0.001240</td>\n",
       "      <td>-0.036243</td>\n",
       "      <td>-0.040944</td>\n",
       "      <td>-0.033866</td>\n",
       "    </tr>\n",
       "    <tr>\n",
       "      <th>3</th>\n",
       "      <td>-0.020244</td>\n",
       "      <td>-0.025336</td>\n",
       "      <td>-0.025953</td>\n",
       "      <td>1.000000</td>\n",
       "      <td>-0.012284</td>\n",
       "      <td>-0.056564</td>\n",
       "      <td>0.722353</td>\n",
       "      <td>0.254868</td>\n",
       "      <td>0.094393</td>\n",
       "      <td>-0.021742</td>\n",
       "      <td>...</td>\n",
       "      <td>-0.036491</td>\n",
       "      <td>-0.056300</td>\n",
       "      <td>0.427517</td>\n",
       "      <td>-0.019574</td>\n",
       "      <td>-0.020301</td>\n",
       "      <td>-0.037225</td>\n",
       "      <td>0.307367</td>\n",
       "      <td>-0.027995</td>\n",
       "      <td>-0.038917</td>\n",
       "      <td>-0.022134</td>\n",
       "    </tr>\n",
       "    <tr>\n",
       "      <th>4</th>\n",
       "      <td>-0.015201</td>\n",
       "      <td>-0.006936</td>\n",
       "      <td>-0.012291</td>\n",
       "      <td>-0.012284</td>\n",
       "      <td>1.000000</td>\n",
       "      <td>-0.024726</td>\n",
       "      <td>-0.004739</td>\n",
       "      <td>-0.140000</td>\n",
       "      <td>0.110832</td>\n",
       "      <td>-0.001169</td>\n",
       "      <td>...</td>\n",
       "      <td>-0.008731</td>\n",
       "      <td>-0.030047</td>\n",
       "      <td>-0.016629</td>\n",
       "      <td>-0.009203</td>\n",
       "      <td>-0.005722</td>\n",
       "      <td>-0.019546</td>\n",
       "      <td>0.009344</td>\n",
       "      <td>-0.001897</td>\n",
       "      <td>-0.028852</td>\n",
       "      <td>-0.004552</td>\n",
       "    </tr>\n",
       "  </tbody>\n",
       "</table>\n",
       "<p>5 rows × 50 columns</p>\n",
       "</div>"
      ],
      "text/plain": [
       "Product_Id        0         1         2         3         4         5   \\\n",
       "Product_Id                                                               \n",
       "0           1.000000 -0.031776 -0.031603 -0.020244 -0.015201 -0.041346   \n",
       "1          -0.031776  1.000000 -0.029667 -0.025336 -0.006936 -0.051351   \n",
       "2          -0.031603 -0.029667  1.000000 -0.025953 -0.012291 -0.050993   \n",
       "3          -0.020244 -0.025336 -0.025953  1.000000 -0.012284 -0.056564   \n",
       "4          -0.015201 -0.006936 -0.012291 -0.012284  1.000000 -0.024726   \n",
       "\n",
       "Product_Id        6         7         8         9   ...        40        41  \\\n",
       "Product_Id                                          ...                       \n",
       "0          -0.019706 -0.036426  0.013017 -0.028209  ... -0.045954 -0.050170   \n",
       "1          -0.024421 -0.016466 -0.091013 -0.034959  ... -0.042399 -0.062940   \n",
       "2          -0.024288  0.033287  0.154531 -0.034768  ... -0.046594 -0.062910   \n",
       "3           0.722353  0.254868  0.094393 -0.021742  ... -0.036491 -0.056300   \n",
       "4          -0.004739 -0.140000  0.110832 -0.001169  ... -0.008731 -0.030047   \n",
       "\n",
       "Product_Id        42        43        44        45        46        47  \\\n",
       "Product_Id                                                               \n",
       "0          -0.025028 -0.024397 -0.025844 -0.045315 -0.017446 -0.034689   \n",
       "1          -0.035436 -0.005037 -0.032028 -0.034587 -0.005710 -0.025302   \n",
       "2           0.129950 -0.019365 -0.031853 -0.032026  0.001240 -0.036243   \n",
       "3           0.427517 -0.019574 -0.020301 -0.037225  0.307367 -0.027995   \n",
       "4          -0.016629 -0.009203 -0.005722 -0.019546  0.009344 -0.001897   \n",
       "\n",
       "Product_Id        48        49  \n",
       "Product_Id                      \n",
       "0          -0.048668 -0.027477  \n",
       "1          -0.041211  0.001011  \n",
       "2          -0.040944 -0.033866  \n",
       "3          -0.038917 -0.022134  \n",
       "4          -0.028852 -0.004552  \n",
       "\n",
       "[5 rows x 50 columns]"
      ]
     },
     "execution_count": 114,
     "metadata": {},
     "output_type": "execute_result"
    }
   ],
   "source": [
    "ratings_corr=np.corrcoef(ratings_svd)\n",
    "ratings_corr=pd.DataFrame(ratings_corr,columns=pid,index=pid)\n",
    "ratings_corr.head()"
   ]
  },
  {
   "cell_type": "code",
   "execution_count": 115,
   "metadata": {},
   "outputs": [],
   "source": [
    "def prod_rec(pid):\n",
    "    rec=ratings_corr[ratings_corr.index==pid].T\n",
    "    rec=rec.rename(columns={pid:'corr'})\n",
    "    rec=rec.sort_values(by='corr',ascending=False)\n",
    "    return(rec)"
   ]
  },
  {
   "cell_type": "code",
   "execution_count": 116,
   "metadata": {},
   "outputs": [],
   "source": [
    "prod_index=12\n",
    "product=prod_rec(prod_index).head()\n"
   ]
  },
  {
   "cell_type": "code",
   "execution_count": 117,
   "metadata": {},
   "outputs": [
    {
     "data": {
      "text/html": [
       "<div>\n",
       "<style scoped>\n",
       "    .dataframe tbody tr th:only-of-type {\n",
       "        vertical-align: middle;\n",
       "    }\n",
       "\n",
       "    .dataframe tbody tr th {\n",
       "        vertical-align: top;\n",
       "    }\n",
       "\n",
       "    .dataframe thead th {\n",
       "        text-align: right;\n",
       "    }\n",
       "</style>\n",
       "<table border=\"1\" class=\"dataframe\">\n",
       "  <thead>\n",
       "    <tr style=\"text-align: right;\">\n",
       "      <th>Product_Id</th>\n",
       "      <th>prod_id</th>\n",
       "      <th>corr</th>\n",
       "    </tr>\n",
       "  </thead>\n",
       "  <tbody>\n",
       "    <tr>\n",
       "      <th>0</th>\n",
       "      <td>12</td>\n",
       "      <td>1.000000</td>\n",
       "    </tr>\n",
       "    <tr>\n",
       "      <th>1</th>\n",
       "      <td>7</td>\n",
       "      <td>0.169670</td>\n",
       "    </tr>\n",
       "    <tr>\n",
       "      <th>2</th>\n",
       "      <td>38</td>\n",
       "      <td>0.037411</td>\n",
       "    </tr>\n",
       "    <tr>\n",
       "      <th>3</th>\n",
       "      <td>4</td>\n",
       "      <td>0.021877</td>\n",
       "    </tr>\n",
       "    <tr>\n",
       "      <th>4</th>\n",
       "      <td>13</td>\n",
       "      <td>0.021833</td>\n",
       "    </tr>\n",
       "  </tbody>\n",
       "</table>\n",
       "</div>"
      ],
      "text/plain": [
       "Product_Id  prod_id     corr\n",
       "0                12 1.000000\n",
       "1                 7 0.169670\n",
       "2                38 0.037411\n",
       "3                 4 0.021877\n",
       "4                13 0.021833"
      ]
     },
     "execution_count": 117,
     "metadata": {},
     "output_type": "execute_result"
    }
   ],
   "source": [
    "prod_r=product.reset_index()\n",
    "prod_r=prod_r.rename(columns={prod_r.columns[0]:'prod_id'})\n",
    "prod_r"
   ]
  },
  {
   "cell_type": "code",
   "execution_count": 118,
   "metadata": {},
   "outputs": [
    {
     "data": {
      "text/html": [
       "<div>\n",
       "<style scoped>\n",
       "    .dataframe tbody tr th:only-of-type {\n",
       "        vertical-align: middle;\n",
       "    }\n",
       "\n",
       "    .dataframe tbody tr th {\n",
       "        vertical-align: top;\n",
       "    }\n",
       "\n",
       "    .dataframe thead th {\n",
       "        text-align: right;\n",
       "    }\n",
       "</style>\n",
       "<table border=\"1\" class=\"dataframe\">\n",
       "  <thead>\n",
       "    <tr style=\"text-align: right;\">\n",
       "      <th></th>\n",
       "      <th>Product_Id</th>\n",
       "      <th>brand</th>\n",
       "      <th>name</th>\n",
       "    </tr>\n",
       "  </thead>\n",
       "  <tbody>\n",
       "    <tr>\n",
       "      <th>0</th>\n",
       "      <td>12</td>\n",
       "      <td>Microsoft</td>\n",
       "      <td>Microsoft Surface Pro 4 Type Cover with Finger...</td>\n",
       "    </tr>\n",
       "    <tr>\n",
       "      <th>1</th>\n",
       "      <td>12</td>\n",
       "      <td>Microsoft</td>\n",
       "      <td>Microsoft Surface Pro 4 Type Cover with Finger...</td>\n",
       "    </tr>\n",
       "    <tr>\n",
       "      <th>2</th>\n",
       "      <td>12</td>\n",
       "      <td>Microsoft</td>\n",
       "      <td>Microsoft Surface Pro 4 Type Cover with Finger...</td>\n",
       "    </tr>\n",
       "    <tr>\n",
       "      <th>3</th>\n",
       "      <td>12</td>\n",
       "      <td>Microsoft</td>\n",
       "      <td>Microsoft Surface Pro 4 Type Cover with Finger...</td>\n",
       "    </tr>\n",
       "    <tr>\n",
       "      <th>4</th>\n",
       "      <td>12</td>\n",
       "      <td>Microsoft</td>\n",
       "      <td>Microsoft Surface Pro 4 Type Cover with Finger...</td>\n",
       "    </tr>\n",
       "  </tbody>\n",
       "</table>\n",
       "</div>"
      ],
      "text/plain": [
       "   Product_Id      brand                                               name\n",
       "0          12  Microsoft  Microsoft Surface Pro 4 Type Cover with Finger...\n",
       "1          12  Microsoft  Microsoft Surface Pro 4 Type Cover with Finger...\n",
       "2          12  Microsoft  Microsoft Surface Pro 4 Type Cover with Finger...\n",
       "3          12  Microsoft  Microsoft Surface Pro 4 Type Cover with Finger...\n",
       "4          12  Microsoft  Microsoft Surface Pro 4 Type Cover with Finger..."
      ]
     },
     "execution_count": 118,
     "metadata": {},
     "output_type": "execute_result"
    }
   ],
   "source": [
    "products=data[['Product_Id','brand','name']]\n",
    "products.head()"
   ]
  },
  {
   "cell_type": "code",
   "execution_count": 119,
   "metadata": {},
   "outputs": [],
   "source": [
    "products=products.drop_duplicates()"
   ]
  },
  {
   "cell_type": "code",
   "execution_count": 120,
   "metadata": {},
   "outputs": [
    {
     "data": {
      "text/html": [
       "<div>\n",
       "<style scoped>\n",
       "    .dataframe tbody tr th:only-of-type {\n",
       "        vertical-align: middle;\n",
       "    }\n",
       "\n",
       "    .dataframe tbody tr th {\n",
       "        vertical-align: top;\n",
       "    }\n",
       "\n",
       "    .dataframe thead th {\n",
       "        text-align: right;\n",
       "    }\n",
       "</style>\n",
       "<table border=\"1\" class=\"dataframe\">\n",
       "  <thead>\n",
       "    <tr style=\"text-align: right;\">\n",
       "      <th></th>\n",
       "      <th>brand</th>\n",
       "      <th>name</th>\n",
       "    </tr>\n",
       "    <tr>\n",
       "      <th>Product_Id</th>\n",
       "      <th></th>\n",
       "      <th></th>\n",
       "    </tr>\n",
       "  </thead>\n",
       "  <tbody>\n",
       "    <tr>\n",
       "      <th>12</th>\n",
       "      <td>Microsoft</td>\n",
       "      <td>Microsoft Surface Pro 4 Type Cover with Finger...</td>\n",
       "    </tr>\n",
       "    <tr>\n",
       "      <th>28</th>\n",
       "      <td>Boytone</td>\n",
       "      <td>Boytone - 2500W 2.1-Ch. Home Theater System - ...</td>\n",
       "    </tr>\n",
       "    <tr>\n",
       "      <th>35</th>\n",
       "      <td>Sanus</td>\n",
       "      <td>Sanus VLF410B1 10-Inch Super Slim Full-Motion ...</td>\n",
       "    </tr>\n",
       "    <tr>\n",
       "      <th>49</th>\n",
       "      <td>Ultimate Ears</td>\n",
       "      <td>Ultimate Ears MEGABLAST Portable Wi-Fi/Bluetoo...</td>\n",
       "    </tr>\n",
       "    <tr>\n",
       "      <th>19</th>\n",
       "      <td>Lowepro</td>\n",
       "      <td>Flipside 300 Backpack (Black)</td>\n",
       "    </tr>\n",
       "  </tbody>\n",
       "</table>\n",
       "</div>"
      ],
      "text/plain": [
       "                    brand                                               name\n",
       "Product_Id                                                                  \n",
       "12              Microsoft  Microsoft Surface Pro 4 Type Cover with Finger...\n",
       "28                Boytone  Boytone - 2500W 2.1-Ch. Home Theater System - ...\n",
       "35                  Sanus  Sanus VLF410B1 10-Inch Super Slim Full-Motion ...\n",
       "49          Ultimate Ears  Ultimate Ears MEGABLAST Portable Wi-Fi/Bluetoo...\n",
       "19                Lowepro                      Flipside 300 Backpack (Black)"
      ]
     },
     "execution_count": 120,
     "metadata": {},
     "output_type": "execute_result"
    }
   ],
   "source": [
    "products.set_index('Product_Id',inplace=True)\n",
    "products.head()"
   ]
  },
  {
   "cell_type": "code",
   "execution_count": 121,
   "metadata": {},
   "outputs": [
    {
     "name": "stdout",
     "output_type": "stream",
     "text": [
      "Top Recommendations for the user who bought the product :\n",
      " brand                                            Microsoft\n",
      "name     Microsoft Surface Pro 4 Type Cover with Finger...\n",
      "Name: 12, dtype: object\n",
      "\n",
      " brand                                  Peerless-AV\n",
      "name     Round LCD/Projector Ceiling Plate - Black\n",
      "Name: 7, dtype: object\n",
      "\n",
      " brand                                       Power Acoustik\n",
      "name     Power Acoustik - Gothic Series 10\" Dual-Voice-...\n",
      "Name: 38, dtype: object\n",
      "\n",
      " brand                                              Samsung\n",
      "name     SAMSUNG 40'' Class FHD (1080P) Smart LED TV (U...\n",
      "Name: 4, dtype: object\n",
      "\n",
      " brand                                                  JVC\n",
      "name     JVC KD-X320BTS Apple iPod and Android Digital ...\n",
      "Name: 13, dtype: object\n"
     ]
    }
   ],
   "source": [
    "for i in range(0, 5):\n",
    "    if i == 0:\n",
    "        print('Top Recommendations for the user who bought the product :\\n',products.loc[prod_index])\n",
    "    else:\n",
    "        x=prod_r['prod_id']\n",
    "        y=x[i]\n",
    "        print('\\n',products.loc[y])"
   ]
  }
 ],
 "metadata": {
  "kernelspec": {
   "display_name": "Python 3",
   "language": "python",
   "name": "python3"
  },
  "language_info": {
   "codemirror_mode": {
    "name": "ipython",
    "version": 3
   },
   "file_extension": ".py",
   "mimetype": "text/x-python",
   "name": "python",
   "nbconvert_exporter": "python",
   "pygments_lexer": "ipython3",
   "version": "3.8.5"
  }
 },
 "nbformat": 4,
 "nbformat_minor": 5
}
