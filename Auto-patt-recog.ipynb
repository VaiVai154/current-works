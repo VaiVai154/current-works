{
 "cells": [
  {
   "cell_type": "markdown",
   "metadata": {},
   "source": [
    "# Dataset Information\n",
    "\n",
    "Steel Plates Faults Data Set\n",
    "A dataset of steel plates' faults, classified into 7 different types. The goal was to train machine learning for automatic pattern recognition.\n",
    "\n",
    "The dataset consists of 27 features describing each fault (location, size, ...) and 7 binary features indicating the type of fault (on of 7: Pastry, Z_Scratch, K_Scatch, Stains, Dirtiness, Bumps, Other_Faults). The latter is commonly used as a binary classification target ('common' or 'other' fault.)\n",
    "\n",
    "- Attribute Information\n",
    "- V1: X_Minimum\n",
    "- V2: X_Maximum\n",
    "- V3: Y_Minimum\n",
    "- V4: Y_Maximum\n",
    "- V5: Pixels_Areas\n",
    "- V6: X_Perimeter\n",
    "- V7: Y_Perimeter\n",
    "- V8: Sum_of_Luminosity\n",
    "- V9: Minimum_of_Luminosity\n",
    "- V10: Maximum_of_Luminosity\n",
    "- V11: Length_of_Conveyer\n",
    "- V12: TypeOfSteel_A300\n",
    "- V13: TypeOfSteel_A400\n",
    "- V14: Steel_Plate_Thickness\n",
    "- V15: Edges_Index\n",
    "- V16: Empty_Index\n",
    "- V17: Square_Index\n",
    "- V18: Outside_X_Index\n",
    "- V19: Edges_X_Index\n",
    "- V20: Edges_Y_Index\n",
    "- V21: Outside_Global_Index\n",
    "- V22: LogOfAreas\n",
    "- V23: Log_X_Index\n",
    "- V24: Log_Y_Index\n",
    "- V25: Orientation_Index\n",
    "- V26: Luminosity_Index\n",
    "- V27: SigmoidOfAreas\n",
    "- V28: Pastry\n",
    "- V29: Z_Scratch\n",
    "- V30: K_Scatch\n",
    "- V31: Stains\n",
    "- V32: Dirtiness\n",
    "- V33: Bumps\n",
    "- Class: Other_Faults"
   ]
  },
  {
   "cell_type": "code",
   "execution_count": 86,
   "metadata": {},
   "outputs": [],
   "source": [
    "import pandas as pd\n",
    "import numpy as np\n",
    "import seaborn as sns\n",
    "from sklearn.cluster import KMeans\n",
    "from sklearn import metrics\n",
    "from scipy.spatial.distance import cdist\n",
    "import matplotlib.pyplot as plt"
   ]
  },
  {
   "cell_type": "code",
   "execution_count": 87,
   "metadata": {},
   "outputs": [
    {
     "data": {
      "text/html": [
       "<div>\n",
       "<style scoped>\n",
       "    .dataframe tbody tr th:only-of-type {\n",
       "        vertical-align: middle;\n",
       "    }\n",
       "\n",
       "    .dataframe tbody tr th {\n",
       "        vertical-align: top;\n",
       "    }\n",
       "\n",
       "    .dataframe thead th {\n",
       "        text-align: right;\n",
       "    }\n",
       "</style>\n",
       "<table border=\"1\" class=\"dataframe\">\n",
       "  <thead>\n",
       "    <tr style=\"text-align: right;\">\n",
       "      <th></th>\n",
       "      <th>V1</th>\n",
       "      <th>V2</th>\n",
       "      <th>V3</th>\n",
       "      <th>V4</th>\n",
       "      <th>V5</th>\n",
       "      <th>V6</th>\n",
       "      <th>V7</th>\n",
       "      <th>V8</th>\n",
       "      <th>V9</th>\n",
       "      <th>V10</th>\n",
       "      <th>...</th>\n",
       "      <th>V25</th>\n",
       "      <th>V26</th>\n",
       "      <th>V27</th>\n",
       "      <th>V28</th>\n",
       "      <th>V29</th>\n",
       "      <th>V30</th>\n",
       "      <th>V31</th>\n",
       "      <th>V32</th>\n",
       "      <th>V33</th>\n",
       "      <th>Class</th>\n",
       "    </tr>\n",
       "  </thead>\n",
       "  <tbody>\n",
       "    <tr>\n",
       "      <th>0</th>\n",
       "      <td>42</td>\n",
       "      <td>50</td>\n",
       "      <td>270900</td>\n",
       "      <td>270944</td>\n",
       "      <td>267</td>\n",
       "      <td>17</td>\n",
       "      <td>44</td>\n",
       "      <td>24220</td>\n",
       "      <td>76</td>\n",
       "      <td>108</td>\n",
       "      <td>...</td>\n",
       "      <td>0.8182</td>\n",
       "      <td>-0.2913</td>\n",
       "      <td>0.5822</td>\n",
       "      <td>1</td>\n",
       "      <td>0</td>\n",
       "      <td>0</td>\n",
       "      <td>0</td>\n",
       "      <td>0</td>\n",
       "      <td>0</td>\n",
       "      <td>1</td>\n",
       "    </tr>\n",
       "    <tr>\n",
       "      <th>1</th>\n",
       "      <td>645</td>\n",
       "      <td>651</td>\n",
       "      <td>2538079</td>\n",
       "      <td>2538108</td>\n",
       "      <td>108</td>\n",
       "      <td>10</td>\n",
       "      <td>30</td>\n",
       "      <td>11397</td>\n",
       "      <td>84</td>\n",
       "      <td>123</td>\n",
       "      <td>...</td>\n",
       "      <td>0.7931</td>\n",
       "      <td>-0.1756</td>\n",
       "      <td>0.2984</td>\n",
       "      <td>1</td>\n",
       "      <td>0</td>\n",
       "      <td>0</td>\n",
       "      <td>0</td>\n",
       "      <td>0</td>\n",
       "      <td>0</td>\n",
       "      <td>1</td>\n",
       "    </tr>\n",
       "    <tr>\n",
       "      <th>2</th>\n",
       "      <td>829</td>\n",
       "      <td>835</td>\n",
       "      <td>1553913</td>\n",
       "      <td>1553931</td>\n",
       "      <td>71</td>\n",
       "      <td>8</td>\n",
       "      <td>19</td>\n",
       "      <td>7972</td>\n",
       "      <td>99</td>\n",
       "      <td>125</td>\n",
       "      <td>...</td>\n",
       "      <td>0.6667</td>\n",
       "      <td>-0.1228</td>\n",
       "      <td>0.2150</td>\n",
       "      <td>1</td>\n",
       "      <td>0</td>\n",
       "      <td>0</td>\n",
       "      <td>0</td>\n",
       "      <td>0</td>\n",
       "      <td>0</td>\n",
       "      <td>1</td>\n",
       "    </tr>\n",
       "    <tr>\n",
       "      <th>3</th>\n",
       "      <td>853</td>\n",
       "      <td>860</td>\n",
       "      <td>369370</td>\n",
       "      <td>369415</td>\n",
       "      <td>176</td>\n",
       "      <td>13</td>\n",
       "      <td>45</td>\n",
       "      <td>18996</td>\n",
       "      <td>99</td>\n",
       "      <td>126</td>\n",
       "      <td>...</td>\n",
       "      <td>0.8444</td>\n",
       "      <td>-0.1568</td>\n",
       "      <td>0.5212</td>\n",
       "      <td>1</td>\n",
       "      <td>0</td>\n",
       "      <td>0</td>\n",
       "      <td>0</td>\n",
       "      <td>0</td>\n",
       "      <td>0</td>\n",
       "      <td>1</td>\n",
       "    </tr>\n",
       "    <tr>\n",
       "      <th>4</th>\n",
       "      <td>1289</td>\n",
       "      <td>1306</td>\n",
       "      <td>498078</td>\n",
       "      <td>498335</td>\n",
       "      <td>2409</td>\n",
       "      <td>60</td>\n",
       "      <td>260</td>\n",
       "      <td>246930</td>\n",
       "      <td>37</td>\n",
       "      <td>126</td>\n",
       "      <td>...</td>\n",
       "      <td>0.9338</td>\n",
       "      <td>-0.1992</td>\n",
       "      <td>1.0000</td>\n",
       "      <td>1</td>\n",
       "      <td>0</td>\n",
       "      <td>0</td>\n",
       "      <td>0</td>\n",
       "      <td>0</td>\n",
       "      <td>0</td>\n",
       "      <td>1</td>\n",
       "    </tr>\n",
       "  </tbody>\n",
       "</table>\n",
       "<p>5 rows × 34 columns</p>\n",
       "</div>"
      ],
      "text/plain": [
       "     V1    V2       V3       V4    V5  V6   V7      V8  V9  V10  ...     V25  \\\n",
       "0    42    50   270900   270944   267  17   44   24220  76  108  ...  0.8182   \n",
       "1   645   651  2538079  2538108   108  10   30   11397  84  123  ...  0.7931   \n",
       "2   829   835  1553913  1553931    71   8   19    7972  99  125  ...  0.6667   \n",
       "3   853   860   369370   369415   176  13   45   18996  99  126  ...  0.8444   \n",
       "4  1289  1306   498078   498335  2409  60  260  246930  37  126  ...  0.9338   \n",
       "\n",
       "      V26     V27  V28  V29  V30  V31  V32  V33  Class  \n",
       "0 -0.2913  0.5822    1    0    0    0    0    0      1  \n",
       "1 -0.1756  0.2984    1    0    0    0    0    0      1  \n",
       "2 -0.1228  0.2150    1    0    0    0    0    0      1  \n",
       "3 -0.1568  0.5212    1    0    0    0    0    0      1  \n",
       "4 -0.1992  1.0000    1    0    0    0    0    0      1  \n",
       "\n",
       "[5 rows x 34 columns]"
      ]
     },
     "execution_count": 87,
     "metadata": {},
     "output_type": "execute_result"
    }
   ],
   "source": [
    "steel = pd.read_csv('steel_fault.csv')\n",
    "steel.head()"
   ]
  },
  {
   "cell_type": "code",
   "execution_count": 88,
   "metadata": {},
   "outputs": [
    {
     "name": "stdout",
     "output_type": "stream",
     "text": [
      "<class 'pandas.core.frame.DataFrame'>\n",
      "RangeIndex: 1941 entries, 0 to 1940\n",
      "Data columns (total 34 columns):\n",
      " #   Column  Non-Null Count  Dtype  \n",
      "---  ------  --------------  -----  \n",
      " 0   V1      1941 non-null   int64  \n",
      " 1   V2      1941 non-null   int64  \n",
      " 2   V3      1941 non-null   int64  \n",
      " 3   V4      1941 non-null   int64  \n",
      " 4   V5      1941 non-null   int64  \n",
      " 5   V6      1941 non-null   int64  \n",
      " 6   V7      1941 non-null   int64  \n",
      " 7   V8      1941 non-null   int64  \n",
      " 8   V9      1941 non-null   int64  \n",
      " 9   V10     1941 non-null   int64  \n",
      " 10  V11     1941 non-null   int64  \n",
      " 11  V12     1941 non-null   int64  \n",
      " 12  V13     1941 non-null   int64  \n",
      " 13  V14     1941 non-null   int64  \n",
      " 14  V15     1941 non-null   float64\n",
      " 15  V16     1941 non-null   float64\n",
      " 16  V17     1941 non-null   float64\n",
      " 17  V18     1941 non-null   float64\n",
      " 18  V19     1941 non-null   float64\n",
      " 19  V20     1941 non-null   float64\n",
      " 20  V21     1941 non-null   float64\n",
      " 21  V22     1941 non-null   float64\n",
      " 22  V23     1941 non-null   float64\n",
      " 23  V24     1941 non-null   float64\n",
      " 24  V25     1941 non-null   float64\n",
      " 25  V26     1941 non-null   float64\n",
      " 26  V27     1941 non-null   float64\n",
      " 27  V28     1941 non-null   int64  \n",
      " 28  V29     1941 non-null   int64  \n",
      " 29  V30     1941 non-null   int64  \n",
      " 30  V31     1941 non-null   int64  \n",
      " 31  V32     1941 non-null   int64  \n",
      " 32  V33     1941 non-null   int64  \n",
      " 33  Class   1941 non-null   int64  \n",
      "dtypes: float64(13), int64(21)\n",
      "memory usage: 515.7 KB\n"
     ]
    }
   ],
   "source": [
    "steel.info()"
   ]
  },
  {
   "cell_type": "code",
   "execution_count": 89,
   "metadata": {},
   "outputs": [
    {
     "data": {
      "text/plain": [
       "24"
      ]
     },
     "execution_count": 89,
     "metadata": {},
     "output_type": "execute_result"
    }
   ],
   "source": [
    "steel.V14.nunique()"
   ]
  },
  {
   "cell_type": "code",
   "execution_count": 90,
   "metadata": {},
   "outputs": [],
   "source": [
    "X = steel.drop('Class', axis=1)\n",
    "y = steel['Class']"
   ]
  },
  {
   "cell_type": "markdown",
   "metadata": {},
   "source": [
    "In the original dataset, there are two classes to predict. First let us find out the optimal number of clusters in the model."
   ]
  },
  {
   "cell_type": "code",
   "execution_count": 91,
   "metadata": {},
   "outputs": [
    {
     "data": {
      "image/png": "[encoded data removed]",
      "text/plain": [
       "<Figure size 432x288 with 1 Axes>"
      ]
     },
     "metadata": {
      "needs_background": "light"
     },
     "output_type": "display_data"
    }
   ],
   "source": [
    "from sklearn.cluster import KMeans\n",
    "\n",
    "wcss = []\n",
    "\n",
    "for k in range(1,10):\n",
    "    kmeans = KMeans(n_clusters=k)\n",
    "    kmeans.fit(X)\n",
    "    wcss.append(kmeans.inertia_)\n",
    "    \n",
    "# Visualization of k values:\n",
    "\n",
    "plt.plot(range(1,10), wcss, color='red')\n",
    "plt.title('Graph of k values and WCSS')\n",
    "plt.xlabel('k values')\n",
    "plt.ylabel('wcss values')\n",
    "plt.show()"
   ]
  },
  {
   "cell_type": "markdown",
   "metadata": {},
   "source": [
    "From the above plot we can see either 2 or 3 cluster would be appropriate for the data. Given what we know about the original classes, this seems about appropriate. Let us try clustering using two clusters. This way we can compare the clusters with the original class variable and see if they match up."
   ]
  },
  {
   "cell_type": "code",
   "execution_count": 92,
   "metadata": {},
   "outputs": [],
   "source": [
    "cluster = KMeans(n_clusters=2).fit(X)"
   ]
  },
  {
   "cell_type": "code",
   "execution_count": 93,
   "metadata": {},
   "outputs": [],
   "source": [
    "y_cluster = pd.Series(cluster.labels_)"
   ]
  },
  {
   "cell_type": "code",
   "execution_count": 94,
   "metadata": {},
   "outputs": [
    {
     "data": {
      "text/plain": [
       "0    1712\n",
       "1     229\n",
       "dtype: int64"
      ]
     },
     "execution_count": 94,
     "metadata": {},
     "output_type": "execute_result"
    }
   ],
   "source": [
    "y_cluster.value_counts()"
   ]
  },
  {
   "cell_type": "code",
   "execution_count": 95,
   "metadata": {},
   "outputs": [
    {
     "data": {
      "text/plain": [
       "1    1268\n",
       "2     673\n",
       "Name: Class, dtype: int64"
      ]
     },
     "execution_count": 95,
     "metadata": {},
     "output_type": "execute_result"
    }
   ],
   "source": [
    "y.value_counts()"
   ]
  },
  {
   "cell_type": "code",
   "execution_count": 96,
   "metadata": {},
   "outputs": [],
   "source": [
    "# re-labelling the y_cluster data\n",
    "y_cluster = y_cluster.apply(lambda x: 2 if x==1 else 1)"
   ]
  },
  {
   "cell_type": "code",
   "execution_count": 97,
   "metadata": {},
   "outputs": [
    {
     "data": {
      "text/plain": [
       "0.6053580628541989"
      ]
     },
     "execution_count": 97,
     "metadata": {},
     "output_type": "execute_result"
    }
   ],
   "source": [
    "from sklearn.metrics import accuracy_score\n",
    "accuracy_score(y, y_cluster)"
   ]
  },
  {
   "cell_type": "code",
   "execution_count": 98,
   "metadata": {},
   "outputs": [],
   "source": [
    "#Appending the y_cluster values to the Original Dataframe\n",
    "steel['y_cluster']=y_cluster"
   ]
  },
  {
   "cell_type": "markdown",
   "metadata": {},
   "source": [
    "Now let us try a decision tree classifier with the same data"
   ]
  },
  {
   "cell_type": "code",
   "execution_count": 99,
   "metadata": {},
   "outputs": [],
   "source": [
    "from sklearn.tree import DecisionTreeClassifier\n",
    "X = steel.drop(['Class','y_cluster'], axis=1)\n",
    "y = steel['y_cluster']\n"
   ]
  },
  {
   "cell_type": "code",
   "execution_count": 100,
   "metadata": {},
   "outputs": [],
   "source": [
    "from sklearn.model_selection import train_test_split\n",
    "# Splitting the data into train and test\n",
    "X_train, X_test, y_train, y_test = train_test_split(X,y, train_size=0.7,test_size=0.3,random_state=100)"
   ]
  },
  {
   "cell_type": "code",
   "execution_count": 101,
   "metadata": {},
   "outputs": [],
   "source": [
    "model1 = DecisionTreeClassifier()\n",
    "model1 = model1.fit(X_train, y_train)"
   ]
  },
  {
   "cell_type": "code",
   "execution_count": 102,
   "metadata": {},
   "outputs": [],
   "source": [
    "ypred = model1.predict(X_test)"
   ]
  },
  {
   "cell_type": "code",
   "execution_count": 103,
   "metadata": {},
   "outputs": [
    {
     "data": {
      "text/plain": [
       "1.0"
      ]
     },
     "execution_count": 103,
     "metadata": {},
     "output_type": "execute_result"
    }
   ],
   "source": [
    "accuracy_score(y_test, ypred)"
   ]
  },
  {
   "cell_type": "markdown",
   "metadata": {},
   "source": [
    "Accuracy is 100% on this data. The model may be over fitting. Let us try an ensemble bagging classifier."
   ]
  },
  {
   "cell_type": "code",
   "execution_count": 104,
   "metadata": {},
   "outputs": [],
   "source": [
    "from sklearn.ensemble import BaggingClassifier"
   ]
  },
  {
   "cell_type": "code",
   "execution_count": 105,
   "metadata": {},
   "outputs": [],
   "source": [
    "model2 = BaggingClassifier()\n",
    "model2 = model2.fit(X_train, y_train)"
   ]
  },
  {
   "cell_type": "code",
   "execution_count": 106,
   "metadata": {},
   "outputs": [],
   "source": [
    "ypred = model2.predict(X_test)"
   ]
  },
  {
   "cell_type": "code",
   "execution_count": 107,
   "metadata": {},
   "outputs": [
    {
     "data": {
      "text/plain": [
       "1.0"
      ]
     },
     "execution_count": 107,
     "metadata": {},
     "output_type": "execute_result"
    }
   ],
   "source": [
    "accuracy_score(y_test, ypred)"
   ]
  },
  {
   "cell_type": "markdown",
   "metadata": {},
   "source": [
    "Yet again the classification yields very good results."
   ]
  },
  {
   "cell_type": "markdown",
   "metadata": {},
   "source": [
    "The dataset has 33 independent features. We could also try dimensionality reduction by applying PCA on the data and trying if our classification yields similar results as before."
   ]
  },
  {
   "cell_type": "code",
   "execution_count": 108,
   "metadata": {},
   "outputs": [],
   "source": [
    "# import the necessary libraries\n",
    "from sklearn.preprocessing import StandardScaler\n",
    "from sklearn.decomposition import PCA\n",
    "from scipy.stats import zscore"
   ]
  },
  {
   "cell_type": "code",
   "execution_count": 109,
   "metadata": {},
   "outputs": [],
   "source": [
    "# standardise the data\n",
    "\n",
    "X_std = StandardScaler().fit_transform(X)"
   ]
  },
  {
   "cell_type": "code",
   "execution_count": 110,
   "metadata": {},
   "outputs": [
    {
     "name": "stdout",
     "output_type": "stream",
     "text": [
      "Covariance Matrix \n",
      "%s [[ 1.00051546  0.98882298  0.04184286 ...  0.07377766  0.10397756\n",
      "   0.22140961]\n",
      " [ 0.98882298  1.00051546  0.05217423 ...  0.06150319  0.09657306\n",
      "   0.20180749]\n",
      " [ 0.04184286  0.05217423  1.00051546 ... -0.06663543  0.06429539\n",
      "   0.1261862 ]\n",
      " ...\n",
      " [ 0.07377766  0.06150319 -0.06663543 ...  1.00051546 -0.03353481\n",
      "  -0.10036427]\n",
      " [ 0.10397756  0.09657306  0.06429539 ... -0.03353481  1.00051546\n",
      "  -0.08732287]\n",
      " [ 0.22140961  0.20180749  0.1261862  ... -0.10036427 -0.08732287\n",
      "   1.00051546]]\n"
     ]
    }
   ],
   "source": [
    "# covariance matrix\n",
    "cov_matrix = np.cov(X_std.T)\n",
    "print('Covariance Matrix \\n%s', cov_matrix)"
   ]
  },
  {
   "cell_type": "code",
   "execution_count": 111,
   "metadata": {},
   "outputs": [],
   "source": [
    "eig_vals, eig_vecs = np.linalg.eig(cov_matrix)"
   ]
  },
  {
   "cell_type": "code",
   "execution_count": 112,
   "metadata": {},
   "outputs": [
    {
     "name": "stdout",
     "output_type": "stream",
     "text": [
      "Eigen Vectors \n",
      "%s [[-1.77993455e-01 -5.18645321e-02 -1.63806322e-02 ...  7.18342483e-01\n",
      "  -1.73355972e-04  8.91111629e-11]\n",
      " [-1.43921410e-01 -3.61416428e-02 -3.24718456e-02 ... -6.86343395e-01\n",
      "   1.65580597e-04 -8.51142563e-11]\n",
      " [ 9.06483684e-03  2.99543585e-02 -2.40027964e-01 ... -2.30144070e-04\n",
      "  -7.07104504e-01  3.63881754e-07]\n",
      " ...\n",
      " [-5.78497663e-02  1.80685469e-01  1.27257853e-01 ...  3.74729269e-04\n",
      "  -1.29608557e-07  6.65737292e-14]\n",
      " [-1.90006058e-02 -7.60783288e-02  1.35920479e-01 ...  2.17466399e-04\n",
      "  -1.05874692e-07  5.44604434e-14]\n",
      " [-1.03940337e-01  1.88717910e-02 -2.08660327e-01 ... -6.72912773e-05\n",
      "   3.56921505e-07 -1.83806072e-13]]\n",
      "\n",
      " Eigen Values \n",
      "%s [ 8.99906168e+00  3.73492802e+00  2.87826213e+00  2.37815435e+00\n",
      "  2.14050979e+00  1.84749992e+00  1.53112470e+00  1.34549367e+00\n",
      "  1.16774925e+00  9.92945964e-01  9.27079087e-01  7.79609766e-01\n",
      "  6.97254880e-01  6.35255571e-01  5.59081779e-01  4.89495197e-01\n",
      "  3.92888932e-01  3.50534629e-01  2.83652522e-01  2.35306650e-01\n",
      "  2.11897168e-01  1.79323788e-01  9.33387570e-02  5.54947445e-02\n",
      "  4.87945513e-02  4.23548444e-02  1.14753884e-02  6.70230153e-03\n",
      "  1.23777392e-03  4.90177921e-04  1.23232096e-05  2.92198456e-11\n",
      " -1.88606433e-16]\n"
     ]
    }
   ],
   "source": [
    "print('Eigen Vectors \\n%s', eig_vecs)\n",
    "print('\\n Eigen Values \\n%s', eig_vals)"
   ]
  },
  {
   "cell_type": "code",
   "execution_count": 113,
   "metadata": {},
   "outputs": [
    {
     "name": "stdout",
     "output_type": "stream",
     "text": [
      "Cumulative Variance Explained [ 27.25583448  38.56796716  47.28548006  54.4882956   60.97134714\n",
      "  66.56694742  71.20432883  75.27948179  78.81629278  81.82366975\n",
      "  84.63155296  86.99278966  89.10459468  91.02861979  92.72193416\n",
      "  94.20448874  95.39444788  96.45612677  97.31523703  98.02792012\n",
      "  98.66970193  99.21282739  99.49552639  99.66360564  99.81139174\n",
      "  99.93967363  99.97442962  99.99472916  99.99847805  99.99996268\n",
      " 100.         100.         100.        ]\n"
     ]
    }
   ],
   "source": [
    "tot = sum(eig_vals)\n",
    "var_exp = [( i /tot ) * 100 for i in sorted(eig_vals, reverse=True)]\n",
    "cum_var_exp = np.cumsum(var_exp)\n",
    "print(\"Cumulative Variance Explained\", cum_var_exp)"
   ]
  },
  {
   "cell_type": "code",
   "execution_count": 114,
   "metadata": {},
   "outputs": [
    {
     "data": {
      "text/plain": [
       "12"
      ]
     },
     "execution_count": 114,
     "metadata": {},
     "output_type": "execute_result"
    }
   ],
   "source": [
    "len(cum_var_exp[cum_var_exp > 99])"
   ]
  },
  {
   "cell_type": "markdown",
   "metadata": {},
   "source": [
    "Thus we can see that 99% of the variance is explained by the first 22 principal components"
   ]
  },
  {
   "cell_type": "code",
   "execution_count": 115,
   "metadata": {},
   "outputs": [],
   "source": [
    "pca1 = PCA(n_components=22).fit_transform(X)"
   ]
  },
  {
   "cell_type": "markdown",
   "metadata": {},
   "source": [
    "Now let us try the decision tree classifier again"
   ]
  },
  {
   "cell_type": "code",
   "execution_count": 116,
   "metadata": {},
   "outputs": [],
   "source": [
    "model_pca = DecisionTreeClassifier()\n",
    "model_pca = model_pca.fit(pca1, y)"
   ]
  },
  {
   "cell_type": "code",
   "execution_count": 117,
   "metadata": {},
   "outputs": [],
   "source": [
    "y_pred = model_pca.predict(pca1)"
   ]
  },
  {
   "cell_type": "code",
   "execution_count": 118,
   "metadata": {},
   "outputs": [
    {
     "data": {
      "text/plain": [
       "1.0"
      ]
     },
     "execution_count": 118,
     "metadata": {},
     "output_type": "execute_result"
    }
   ],
   "source": [
    "accuracy_score(y, y_pred)"
   ]
  },
  {
   "cell_type": "markdown",
   "metadata": {},
   "source": [
    "As we can see above, the accuracy remains unchanged inspite of reduced number of features."
   ]
  },
  {
   "cell_type": "markdown",
   "metadata": {},
   "source": [
    "### DT After Applying MCA"
   ]
  },
  {
   "cell_type": "code",
   "execution_count": 119,
   "metadata": {},
   "outputs": [
    {
     "name": "stdout",
     "output_type": "stream",
     "text": [
      "Requirement already satisfied: prince in c:\\users\\sutithi\\anaconda3\\lib\\site-packages (0.7.1)Note: you may need to restart the kernel to use updated packages.\n",
      "Requirement already satisfied: matplotlib>=3.0.2 in c:\\users\\sutithi\\anaconda3\\lib\\site-packages (from prince) (3.2.2)\n",
      "Requirement already satisfied: scipy>=1.3.0 in c:\\users\\sutithi\\anaconda3\\lib\\site-packages (from prince) (1.5.0)\n",
      "Requirement already satisfied: pandas>=1.0.3 in c:\\users\\sutithi\\anaconda3\\lib\\site-packages (from prince) (1.0.5)\n",
      "Requirement already satisfied: numpy>=1.17.1 in c:\\users\\sutithi\\anaconda3\\lib\\site-packages (from prince) (1.18.5)\n",
      "Requirement already satisfied: scikit-learn>=0.22.1 in c:\\users\\sutithi\\anaconda3\\lib\\site-packages (from prince) (0.23.1)\n",
      "\n",
      "Requirement already satisfied: pyparsing!=2.0.4,!=2.1.2,!=2.1.6,>=2.0.1 in c:\\users\\sutithi\\anaconda3\\lib\\site-packages (from matplotlib>=3.0.2->prince) (2.4.7)\n",
      "Requirement already satisfied: cycler>=0.10 in c:\\users\\sutithi\\anaconda3\\lib\\site-packages (from matplotlib>=3.0.2->prince) (0.10.0)\n",
      "Requirement already satisfied: python-dateutil>=2.1 in c:\\users\\sutithi\\anaconda3\\lib\\site-packages (from matplotlib>=3.0.2->prince) (2.8.1)\n",
      "Requirement already satisfied: kiwisolver>=1.0.1 in c:\\users\\sutithi\\anaconda3\\lib\\site-packages (from matplotlib>=3.0.2->prince) (1.2.0)\n",
      "Requirement already satisfied: pytz>=2017.2 in c:\\users\\sutithi\\anaconda3\\lib\\site-packages (from pandas>=1.0.3->prince) (2020.1)\n",
      "Requirement already satisfied: threadpoolctl>=2.0.0 in c:\\users\\sutithi\\anaconda3\\lib\\site-packages (from scikit-learn>=0.22.1->prince) (2.1.0)\n",
      "Requirement already satisfied: joblib>=0.11 in c:\\users\\sutithi\\anaconda3\\lib\\site-packages (from scikit-learn>=0.22.1->prince) (0.16.0)\n",
      "Requirement already satisfied: six in c:\\users\\sutithi\\anaconda3\\lib\\site-packages (from cycler>=0.10->matplotlib>=3.0.2->prince) (1.15.0)\n"
     ]
    }
   ],
   "source": [
    "pip install prince"
   ]
  },
  {
   "cell_type": "code",
   "execution_count": 121,
   "metadata": {},
   "outputs": [],
   "source": [
    "X_train, X_test, y_train, y_test = train_test_split(X, y, test_size = 0.2, random_state = 0)"
   ]
  },
  {
   "cell_type": "code",
   "execution_count": 122,
   "metadata": {},
   "outputs": [
    {
     "data": {
      "text/plain": [
       "Index(['V1', 'V2', 'V3', 'V4', 'V5', 'V6', 'V7', 'V8', 'V9', 'V10', 'V11',\n",
       "       'V12', 'V13', 'V14', 'V15', 'V16', 'V17', 'V18', 'V19', 'V20', 'V21',\n",
       "       'V22', 'V23', 'V24', 'V25', 'V26', 'V27', 'V28', 'V29', 'V30', 'V31',\n",
       "       'V32', 'V33'],\n",
       "      dtype='object')"
      ]
     },
     "execution_count": 122,
     "metadata": {},
     "output_type": "execute_result"
    }
   ],
   "source": [
    "X.columns"
   ]
  },
  {
   "cell_type": "code",
   "execution_count": 123,
   "metadata": {},
   "outputs": [],
   "source": [
    "## Distinguish between categorical and numeric column names\n",
    "\n",
    "cat = []\n",
    "num = []\n",
    "for i in X.columns:\n",
    "    if X[i].nunique() < X.shape[0]/4:\n",
    "        cat.append(i)\n",
    "    else:\n",
    "        num.append(i)"
   ]
  },
  {
   "cell_type": "code",
   "execution_count": 124,
   "metadata": {},
   "outputs": [],
   "source": [
    "## Distinguish between categorical and numeric columns of train & test data\n",
    "\n",
    "X_train_cat = X_train[cat]\n",
    "X_train_num = X_train[num]\n",
    "X_test_cat = X_test[cat]\n",
    "X_test_num = X_test[num]"
   ]
  },
  {
   "cell_type": "code",
   "execution_count": 125,
   "metadata": {},
   "outputs": [],
   "source": [
    "## Apply MCA\n",
    "\n",
    "import prince\n",
    "from sklearn.metrics import make_scorer\n",
    "mca = prince.MCA()\n",
    "\n",
    "mca_X_train = mca.fit_transform(X_train_cat)\n",
    "mca_X_test = mca.fit_transform(X_test_cat)"
   ]
  },
  {
   "cell_type": "code",
   "execution_count": 126,
   "metadata": {},
   "outputs": [],
   "source": [
    "main_mca_X_train = pd.concat([mca_X_train,X_train_num],axis = 1)\n",
    "main_mca_X_test = pd.concat([mca_X_test,X_test_num],axis = 1)"
   ]
  },
  {
   "cell_type": "code",
   "execution_count": 127,
   "metadata": {},
   "outputs": [
    {
     "data": {
      "text/plain": [
       "make_scorer(explained_variance_score)"
      ]
     },
     "execution_count": 127,
     "metadata": {},
     "output_type": "execute_result"
    }
   ],
   "source": [
    "from sklearn.metrics import make_scorer\n",
    "from sklearn.metrics import explained_variance_score\n",
    "\n",
    "explained_var = make_scorer(explained_variance_score)\n",
    "explained_var"
   ]
  },
  {
   "cell_type": "code",
   "execution_count": 128,
   "metadata": {},
   "outputs": [
    {
     "data": {
      "text/plain": [
       "DecisionTreeClassifier()"
      ]
     },
     "execution_count": 128,
     "metadata": {},
     "output_type": "execute_result"
    }
   ],
   "source": [
    "from sklearn import tree\n",
    "model2=tree.DecisionTreeClassifier()\n",
    "model2.fit(main_mca_X_train,y_train)"
   ]
  },
  {
   "cell_type": "code",
   "execution_count": 129,
   "metadata": {},
   "outputs": [],
   "source": [
    "y_pred_DT_2 = model2.predict(main_mca_X_test)"
   ]
  },
  {
   "cell_type": "code",
   "execution_count": 130,
   "metadata": {},
   "outputs": [],
   "source": [
    "from sklearn.metrics import confusion_matrix\n",
    "cm_mCA= confusion_matrix(y_test, y_pred_DT_2)"
   ]
  },
  {
   "cell_type": "code",
   "execution_count": 131,
   "metadata": {},
   "outputs": [
    {
     "data": {
      "image/png": "[encoded data removed]",
      "text/plain": [
       "<Figure size 432x288 with 2 Axes>"
      ]
     },
     "metadata": {
      "needs_background": "light"
     },
     "output_type": "display_data"
    }
   ],
   "source": [
    "sns.heatmap(cm_mCA, annot=True)\n",
    "plt.show()"
   ]
  },
  {
   "cell_type": "code",
   "execution_count": 133,
   "metadata": {},
   "outputs": [
    {
     "name": "stdout",
     "output_type": "stream",
     "text": [
      "Accuracy Score: 1.0\n"
     ]
    }
   ],
   "source": [
    "ac_mCA = accuracy_score(y_test, y_pred_DT_2)\n",
    "print(\"Accuracy Score:\", ac_mCA)"
   ]
  },
  {
   "cell_type": "code",
   "execution_count": 135,
   "metadata": {},
   "outputs": [
    {
     "name": "stdout",
     "output_type": "stream",
     "text": [
      "              precision    recall  f1-score   support\n",
      "\n",
      "           1       1.00      1.00      1.00       341\n",
      "           2       1.00      1.00      1.00        48\n",
      "\n",
      "    accuracy                           1.00       389\n",
      "   macro avg       1.00      1.00      1.00       389\n",
      "weighted avg       1.00      1.00      1.00       389\n",
      "\n"
     ]
    }
   ],
   "source": [
    "from sklearn.metrics import classification_report\n",
    "\n",
    "classification_2=classification_report(y_test,y_pred_DT_2)\n",
    "print(classification_2)"
   ]
  }
 ],
 "metadata": {
  "hide_input": false,
  "kernelspec": {
   "display_name": "Python 3",
   "language": "python",
   "name": "python3"
  },
  "language_info": {
   "codemirror_mode": {
    "name": "ipython",
    "version": 3
   },
   "file_extension": ".py",
   "mimetype": "text/x-python",
   "name": "python",
   "nbconvert_exporter": "python",
   "pygments_lexer": "ipython3",
   "version": "3.8.5"
  },
  "toc": {
   "base_numbering": 1,
   "nav_menu": {},
   "number_sections": true,
   "sideBar": true,
   "skip_h1_title": false,
   "title_cell": "Table of Contents",
   "title_sidebar": "Contents",
   "toc_cell": false,
   "toc_position": {},
   "toc_section_display": true,
   "toc_window_display": false
  },
  "varInspector": {
   "cols": {
    "lenName": 16,
    "lenType": 16,
    "lenVar": 40
   },
   "kernels_config": {
    "python": {
     "delete_cmd_postfix": "",
     "delete_cmd_prefix": "del ",
     "library": "var_list.py",
     "varRefreshCmd": "print(var_dic_list())"
    },
    "r": {
     "delete_cmd_postfix": ") ",
     "delete_cmd_prefix": "rm(",
     "library": "var_list.r",
     "varRefreshCmd": "cat(var_dic_list()) "
    }
   },
   "types_to_exclude": [
    "module",
    "function",
    "builtin_function_or_method",
    "instance",
    "_Feature"
   ],
   "window_display": false
  }
 },
 "nbformat": 4,
 "nbformat_minor": 2
}
